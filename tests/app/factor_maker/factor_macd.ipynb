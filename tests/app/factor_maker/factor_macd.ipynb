{
 "cells": [
  {
   "cell_type": "code",
   "id": "initial_id",
   "metadata": {
    "collapsed": true,
    "jupyter": {
     "is_executing": true
    }
   },
   "source": [
    "from typing import Optional, Union, Dict, Any\n",
    "\n",
    "import polars as pl\n",
    "\n",
    "from vnpy.app.factor_maker.template import FactorTemplate\n",
    "from vnpy.trader.constant import Interval"
   ],
   "outputs": [],
   "execution_count": null
  },
  {
   "metadata": {
    "ExecuteTime": {
     "end_time": "2024-12-16T15:30:17.582180Z",
     "start_time": "2024-12-16T15:30:17.579879Z"
    }
   },
   "cell_type": "code",
   "source": [
    "class OPEN(FactorTemplate):\n",
    "    factor_name = 'open'\n",
    "    dependencies_factor = []\n",
    "    freq = Interval.MINUTE\n",
    "    def __init__(self, setting, **kwargs):\n",
    "        super().__init__(setting, **kwargs)\n",
    "    def __init_dependencies__(self):\n",
    "        pass\n",
    "    \n",
    "    def calculate(self, input_data: Optional[Union[pl.DataFrame, Dict[str, Any]]], *args, **kwargs) -> Any:\n",
    "        return input_data['open']\n",
    "    def calculate_polars(self, input_data: pl.DataFrame, *args, **kwargs) -> Any:\n",
    "        pass"
   ],
   "id": "6fe0937f115c79c1",
   "outputs": [],
   "execution_count": 2
  },
  {
   "metadata": {
    "ExecuteTime": {
     "end_time": "2024-12-16T15:30:17.587449Z",
     "start_time": "2024-12-16T15:30:17.583027Z"
    }
   },
   "cell_type": "code",
   "source": [
    "class MA(FactorTemplate):\n",
    "    factor_name = 'ma'\n",
    "    dependencies_factor = []\n",
    "    freq = Interval.MINUTE\n",
    "    def __init__(self, setting, window: int = None):\n",
    "        super().__init__(setting, window=window)\n",
    "        \n",
    "    def __init_dependencies__(self):\n",
    "        self.open = OPEN({})\n",
    "        setattr(self, 'dependencies_factor', [self.open])\n",
    "    \n",
    "    def calculate(self, input_data: Optional[Union[pl.DataFrame, Dict[str, pl.DataFrame]]], *args, **kwargs) -> Any:\n",
    "        \"\"\"\n",
    "        Calculate the rolling mean for all columns in the input data.\n",
    "        \n",
    "        Parameters:\n",
    "        input_data (Optional[Union[pl.DataFrame, Dict[str, pl.DataFrame]]]): Input data with symbols as columns.\n",
    "        \n",
    "        Returns:\n",
    "        pl.DataFrame: DataFrame with the rolling mean for each symbol.\n",
    "        \"\"\"\n",
    "        if isinstance(input_data, dict):\n",
    "            df = input_data.get(self.open.factor_key)\n",
    "        elif isinstance(input_data, pl.DataFrame):\n",
    "            df = input_data\n",
    "        else:\n",
    "            raise ValueError(\"Invalid input_data format. Expected pl.DataFrame or Dict[str, pl.DataFrame].\")\n",
    "        \n",
    "        # Check if the input is a valid Polars DataFrame\n",
    "        if not isinstance(df, pl.DataFrame):\n",
    "            raise ValueError(\"The 'open' data must be a Polars DataFrame.\")\n",
    "        \n",
    "        window = self.params.get_parameter('window')\n",
    "        if window is None:\n",
    "            raise ValueError(\"The rolling window size (window) is not set.\")\n",
    "        \n",
    "        # Identify columns to calculate rolling mean (exclude 'datetime' column if present)\n",
    "        columns_to_aggregate = [col for col in df.columns if col != 'datetime']\n",
    "        \n",
    "        # Calculate the rolling mean for the selected columns\n",
    "        rolling_means = df.select([pl.col(col).rolling_mean(window).alias(col) for col in columns_to_aggregate])\n",
    "        \n",
    "        # Add the datetime column back to the result if it exists\n",
    "        if 'datetime' in df.columns:\n",
    "            rolling_means = rolling_means.insert_column(0, df['datetime'])\n",
    "        \n",
    "        return rolling_means\n",
    "    \n",
    "    def calculate_polars(self, input_data: pl.DataFrame, *args, **kwargs) -> Any:\n",
    "        pass"
   ],
   "id": "ecddbc56aa9a6dec",
   "outputs": [],
   "execution_count": 3
  },
  {
   "metadata": {
    "ExecuteTime": {
     "end_time": "2024-12-16T15:30:17.593112Z",
     "start_time": "2024-12-16T15:30:17.588264Z"
    }
   },
   "cell_type": "code",
   "source": [
    "class MACD(FactorTemplate):\n",
    "    factor_name = 'macd'\n",
    "    dependencies_factor = []\n",
    "    freq = Interval.MINUTE\n",
    "    def __init__(self, setting, fast_period: int = None, slow_period: int = None, signal_period: int = None):\n",
    "        super().__init__(setting=setting, fast_period=fast_period, slow_period=slow_period, signal_period=signal_period)\n",
    "        \n",
    "    def __init_dependencies__(self):\n",
    "        self.ma_fast = MA({}, self.params.get_parameter('fast_period'))\n",
    "        self.ma_slow = MA({}, self.params.get_parameter('slow_period'))\n",
    "        self.signal_period = self.params.get_parameter('signal_period')\n",
    "        setattr(self, 'dependencies_factor', [self.ma_fast, self.ma_slow])\n",
    "        \n",
    "    \n",
    "    def calculate(self, input_data: Optional[Union[pl.DataFrame, Dict[str, pl.DataFrame]]], *args, **kwargs) -> Any:\n",
    "        \"\"\"\n",
    "        Calculate MACD line, signal line, and histogram based on input moving averages.\n",
    "\n",
    "        Parameters:\n",
    "        input_data (Optional[Union[pl.DataFrame, Dict[str, pl.DataFrame]]]): Input data with columns for MA fast and slow.\n",
    "\n",
    "        Returns:\n",
    "        pl.DataFrame: DataFrame with MACD line, signal line, histogram, and datetime column preserved.\n",
    "        \"\"\"\n",
    "        # Ensure input data is a dictionary\n",
    "        if not isinstance(input_data, dict):\n",
    "            raise ValueError(\"Expected input_data to be a dictionary with pre-calculated moving averages.\")\n",
    "\n",
    "        # Retrieve the pre-calculated moving averages\n",
    "        ma_fast = input_data.get(self.ma_fast.factor_key)\n",
    "        ma_slow = input_data.get(self.ma_slow.factor_key)\n",
    "\n",
    "        if ma_fast is None or ma_slow is None:\n",
    "            raise ValueError(\"Missing required moving averages (ma_fast or ma_slow) in input_data.\")\n",
    "\n",
    "        # Ensure the moving averages are Polars DataFrames\n",
    "        if not isinstance(ma_fast, pl.DataFrame) or not isinstance(ma_slow, pl.DataFrame):\n",
    "            raise ValueError(\"ma_fast and ma_slow must be Polars DataFrames.\")\n",
    "\n",
    "        # Check for and preserve the datetime column\n",
    "        datetime_col = None\n",
    "        if \"datetime\" in ma_fast.columns and \"datetime\" in ma_slow.columns:\n",
    "            datetime_col = ma_fast[\"datetime\"]\n",
    "            ma_fast = ma_fast.drop(\"datetime\")\n",
    "            ma_slow = ma_slow.drop(\"datetime\")\n",
    "\n",
    "        # Calculate MACD line\n",
    "        macd_line = ma_fast - ma_slow\n",
    "\n",
    "        # Calculate Signal line using a rolling mean of the MACD line\n",
    "        signal_line = macd_line.select([pl.col(col).rolling_mean(self.signal_period).alias(col) for col in macd_line.columns])\n",
    "        \n",
    "\n",
    "        # Calculate Histogram (MACD line - Signal line)\n",
    "        histogram = macd_line - signal_line\n",
    "\n",
    "        # Add the datetime column back to the result if it exists\n",
    "        if datetime_col is not None:\n",
    "            histogram = histogram.insert_column(0, datetime_col)\n",
    "\n",
    "        return histogram\n",
    "    \n",
    "    def calculate_polars(self, input_data: pl.DataFrame, *args, **kwargs) -> Any:\n",
    "        pass"
   ],
   "id": "9a8ff0007dc06702",
   "outputs": [],
   "execution_count": 4
  },
  {
   "metadata": {
    "ExecuteTime": {
     "end_time": "2024-12-16T15:30:17.601305Z",
     "start_time": "2024-12-16T15:30:17.594658Z"
    }
   },
   "cell_type": "code",
   "source": "macd = MACD({}, fast_period=5, slow_period=20, signal_period=5)",
   "id": "edf5e416a7e947e7",
   "outputs": [
    {
     "name": "stdout",
     "output_type": "stream",
     "text": [
      "Created property for parameter: fast_period\n",
      "Parameter fast_period is set: 5\n",
      "Created property for parameter: slow_period\n",
      "Parameter slow_period is set: 20\n",
      "Created property for parameter: signal_period\n",
      "Parameter signal_period is set: 5\n",
      "Created property for parameter: window\n",
      "Parameter window is set: 5\n",
      "window is a property\n",
      "  - Getter is defined\n",
      "  - Setter is defined\n",
      "Parameter window is set: 20\n",
      "Parameter signal_period is updated: 5 -> 5\n"
     ]
    }
   ],
   "execution_count": 5
  },
  {
   "metadata": {
    "ExecuteTime": {
     "end_time": "2024-12-16T15:30:17.608451Z",
     "start_time": "2024-12-16T15:30:17.601951Z"
    }
   },
   "cell_type": "code",
   "source": [
    "import numpy as np\n",
    "import polars as pl\n",
    "import pandas as pd\n",
    "\n",
    "# Step 1: Generate Open Data (Simulated Price Data)\n",
    "date_range = pd.date_range(\"2024-01-01\", periods=200, freq=\"1min\")\n",
    "raw_data = {\n",
    "    \"open\": pl.DataFrame({\n",
    "        \"datetime\": date_range,\n",
    "        \"AAPL\": np.random.uniform(150, 155, size=200),\n",
    "        \"MSFT\": np.random.uniform(300, 305, size=200),\n",
    "        \"GOOG\": np.random.uniform(2800, 2810, size=200),\n",
    "    }),\n",
    "    \"high\": pl.DataFrame({\n",
    "        \"datetime\": date_range,\n",
    "        \"AAPL\": np.random.uniform(155, 160, size=200),\n",
    "        \"MSFT\": np.random.uniform(305, 310, size=200),\n",
    "        \"GOOG\": np.random.uniform(2810, 2820, size=200),\n",
    "    }),\n",
    "    \"low\": pl.DataFrame({\n",
    "        \"datetime\": date_range,\n",
    "        \"AAPL\": np.random.uniform(145, 150, size=200),\n",
    "        \"MSFT\": np.random.uniform(295, 300, size=200),\n",
    "        \"GOOG\": np.random.uniform(2790, 2800, size=200),\n",
    "    }),\n",
    "    \"close\": pl.DataFrame({\n",
    "        \"datetime\": date_range,\n",
    "        \"AAPL\": np.random.uniform(150, 155, size=200),\n",
    "        \"MSFT\": np.random.uniform(300, 305, size=200),\n",
    "        \"GOOG\": np.random.uniform(2800, 2810, size=200),\n",
    "    }),\n",
    "    \"volume\": pl.DataFrame({\n",
    "        \"datetime\": date_range,\n",
    "        \"AAPL\": np.random.randint(1000, 2000, size=200),\n",
    "        \"MSFT\": np.random.randint(1000, 2000, size=200),\n",
    "        \"GOOG\": np.random.randint(1000, 2000, size=200),\n",
    "    }),\n",
    "}"
   ],
   "id": "dc5a131f843ac845",
   "outputs": [],
   "execution_count": 6
  },
  {
   "metadata": {},
   "cell_type": "raw",
   "source": [
    "from vnpy.app.factor_maker.backtesting import resample_bar_polars\n",
    "\n",
    "resample_bar_polars(raw_data, '3m')"
   ],
   "id": "24f821dbf1163b62"
  },
  {
   "metadata": {
    "ExecuteTime": {
     "end_time": "2024-12-16T15:30:17.852225Z",
     "start_time": "2024-12-16T15:30:17.609241Z"
    }
   },
   "cell_type": "code",
   "source": [
    "from vnpy.app.factor_maker.backtesting import FactorBacktester\n",
    "from vnpy.app.factor_maker.optimizer import FactorOptimizer\n",
    "bt = FactorBacktester(data=raw_data)\n",
    "opt = FactorOptimizer(backtester=bt, data=raw_data)"
   ],
   "id": "ed1c95d9a24c97db",
   "outputs": [],
   "execution_count": 7
  },
  {
   "metadata": {
    "ExecuteTime": {
     "end_time": "2024-12-16T15:30:17.972893Z",
     "start_time": "2024-12-16T15:30:17.852857Z"
    }
   },
   "cell_type": "code",
   "source": "opt.add_factor(macd)",
   "id": "5ad0fbbe62859bf2",
   "outputs": [],
   "execution_count": 8
  },
  {
   "metadata": {
    "ExecuteTime": {
     "end_time": "2024-12-16T15:30:17.978353Z",
     "start_time": "2024-12-16T15:30:17.973715Z"
    }
   },
   "cell_type": "code",
   "source": "opt.factor_data",
   "id": "764b05c1d58600e0",
   "outputs": [
    {
     "data": {
      "text/plain": [
       "{'open@noparams': shape: (200, 4)\n",
       " ┌─────────────────────┬────────────┬────────────┬─────────────┐\n",
       " │ datetime            ┆ AAPL       ┆ MSFT       ┆ GOOG        │\n",
       " │ ---                 ┆ ---        ┆ ---        ┆ ---         │\n",
       " │ datetime[ns]        ┆ f64        ┆ f64        ┆ f64         │\n",
       " ╞═════════════════════╪════════════╪════════════╪═════════════╡\n",
       " │ 2024-01-01 00:00:00 ┆ 150.538204 ┆ 303.552723 ┆ 2806.504509 │\n",
       " │ 2024-01-01 00:01:00 ┆ 152.142576 ┆ 301.82936  ┆ 2802.370759 │\n",
       " │ 2024-01-01 00:02:00 ┆ 151.402797 ┆ 301.626982 ┆ 2802.486362 │\n",
       " │ 2024-01-01 00:03:00 ┆ 153.913028 ┆ 300.08127  ┆ 2804.17543  │\n",
       " │ 2024-01-01 00:04:00 ┆ 153.765339 ┆ 303.506308 ┆ 2802.840217 │\n",
       " │ …                   ┆ …          ┆ …          ┆ …           │\n",
       " │ 2024-01-01 03:15:00 ┆ 151.934677 ┆ 302.45119  ┆ 2808.940514 │\n",
       " │ 2024-01-01 03:16:00 ┆ 151.846658 ┆ 301.295687 ┆ 2807.810078 │\n",
       " │ 2024-01-01 03:17:00 ┆ 154.744704 ┆ 303.800958 ┆ 2807.547788 │\n",
       " │ 2024-01-01 03:18:00 ┆ 152.590906 ┆ 303.552692 ┆ 2804.417904 │\n",
       " │ 2024-01-01 03:19:00 ┆ 152.404898 ┆ 302.770069 ┆ 2802.717989 │\n",
       " └─────────────────────┴────────────┴────────────┴─────────────┘,\n",
       " 'ma@window_5': shape: (200, 4)\n",
       " ┌─────────────────────┬────────────┬────────────┬─────────────┐\n",
       " │ datetime            ┆ AAPL       ┆ MSFT       ┆ GOOG        │\n",
       " │ ---                 ┆ ---        ┆ ---        ┆ ---         │\n",
       " │ datetime[ns]        ┆ f64        ┆ f64        ┆ f64         │\n",
       " ╞═════════════════════╪════════════╪════════════╪═════════════╡\n",
       " │ 2024-01-01 00:00:00 ┆ null       ┆ null       ┆ null        │\n",
       " │ 2024-01-01 00:01:00 ┆ null       ┆ null       ┆ null        │\n",
       " │ 2024-01-01 00:02:00 ┆ null       ┆ null       ┆ null        │\n",
       " │ 2024-01-01 00:03:00 ┆ null       ┆ null       ┆ null        │\n",
       " │ 2024-01-01 00:04:00 ┆ 152.352389 ┆ 302.119329 ┆ 2803.675455 │\n",
       " │ …                   ┆ …          ┆ …          ┆ …           │\n",
       " │ 2024-01-01 03:15:00 ┆ 152.679457 ┆ 302.616732 ┆ 2807.27852  │\n",
       " │ 2024-01-01 03:16:00 ┆ 152.590145 ┆ 302.219027 ┆ 2807.210204 │\n",
       " │ 2024-01-01 03:17:00 ┆ 152.591452 ┆ 302.450555 ┆ 2807.283785 │\n",
       " │ 2024-01-01 03:18:00 ┆ 152.422361 ┆ 302.400619 ┆ 2806.522579 │\n",
       " │ 2024-01-01 03:19:00 ┆ 152.704369 ┆ 302.774119 ┆ 2806.286855 │\n",
       " └─────────────────────┴────────────┴────────────┴─────────────┘,\n",
       " 'ma@window_20': shape: (200, 4)\n",
       " ┌─────────────────────┬────────────┬────────────┬─────────────┐\n",
       " │ datetime            ┆ AAPL       ┆ MSFT       ┆ GOOG        │\n",
       " │ ---                 ┆ ---        ┆ ---        ┆ ---         │\n",
       " │ datetime[ns]        ┆ f64        ┆ f64        ┆ f64         │\n",
       " ╞═════════════════════╪════════════╪════════════╪═════════════╡\n",
       " │ 2024-01-01 00:00:00 ┆ null       ┆ null       ┆ null        │\n",
       " │ 2024-01-01 00:01:00 ┆ null       ┆ null       ┆ null        │\n",
       " │ 2024-01-01 00:02:00 ┆ null       ┆ null       ┆ null        │\n",
       " │ 2024-01-01 00:03:00 ┆ null       ┆ null       ┆ null        │\n",
       " │ 2024-01-01 00:04:00 ┆ null       ┆ null       ┆ null        │\n",
       " │ …                   ┆ …          ┆ …          ┆ …           │\n",
       " │ 2024-01-01 03:15:00 ┆ 152.955171 ┆ 302.362769 ┆ 2805.520903 │\n",
       " │ 2024-01-01 03:16:00 ┆ 152.848842 ┆ 302.327127 ┆ 2805.728727 │\n",
       " │ 2024-01-01 03:17:00 ┆ 152.851356 ┆ 302.410777 ┆ 2805.758627 │\n",
       " │ 2024-01-01 03:18:00 ┆ 152.88887  ┆ 302.468705 ┆ 2805.760697 │\n",
       " │ 2024-01-01 03:19:00 ┆ 152.881585 ┆ 302.567997 ┆ 2805.842118 │\n",
       " └─────────────────────┴────────────┴────────────┴─────────────┘}"
      ]
     },
     "execution_count": 9,
     "metadata": {},
     "output_type": "execute_result"
    }
   ],
   "execution_count": 9
  },
  {
   "metadata": {
    "ExecuteTime": {
     "end_time": "2024-12-16T15:30:17.980629Z",
     "start_time": "2024-12-16T15:30:17.979058Z"
    }
   },
   "cell_type": "code",
   "source": "",
   "id": "d431cfc3bc9d00b9",
   "outputs": [],
   "execution_count": 9
  }
 ],
 "metadata": {
  "kernelspec": {
   "display_name": "Python 3",
   "language": "python",
   "name": "python3"
  },
  "language_info": {
   "codemirror_mode": {
    "name": "ipython",
    "version": 2
   },
   "file_extension": ".py",
   "mimetype": "text/x-python",
   "name": "python",
   "nbconvert_exporter": "python",
   "pygments_lexer": "ipython2",
   "version": "2.7.6"
  }
 },
 "nbformat": 4,
 "nbformat_minor": 5
}
