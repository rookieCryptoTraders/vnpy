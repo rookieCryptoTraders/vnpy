{
 "cells": [
  {
   "cell_type": "code",
   "id": "initial_id",
   "metadata": {
    "collapsed": true,
    "ExecuteTime": {
     "end_time": "2024-12-18T09:18:27.003654Z",
     "start_time": "2024-12-18T09:18:26.425430Z"
    }
   },
   "source": [
    "from typing import Optional, Union, Dict, Any\n",
    "\n",
    "import polars as pl\n",
    "\n",
    "from vnpy.app.factor_maker.template import FactorTemplate\n",
    "from vnpy.trader.constant import Interval"
   ],
   "outputs": [
    {
     "name": "stdout",
     "output_type": "stream",
     "text": [
      "LOG: update SETTINGS from vt_setting.json\n"
     ]
    }
   ],
   "execution_count": 1
  },
  {
   "metadata": {
    "ExecuteTime": {
     "end_time": "2024-12-18T09:18:27.007115Z",
     "start_time": "2024-12-18T09:18:27.004607Z"
    }
   },
   "cell_type": "code",
   "source": [
    "class OPEN(FactorTemplate):\n",
    "    factor_name = 'open'\n",
    "    dependencies_factor = []\n",
    "    freq = Interval.MINUTE\n",
    "    def __init__(self, setting, **kwargs):\n",
    "        super().__init__(setting, **kwargs)\n",
    "    def __init_dependencies__(self):\n",
    "        pass\n",
    "    \n",
    "    def calculate(self, input_data: Optional[Union[pl.DataFrame, Dict[str, Any]]], *args, **kwargs) -> Any:\n",
    "        return input_data['open']\n",
    "    def calculate_polars(self, input_data: pl.DataFrame, *args, **kwargs) -> Any:\n",
    "        pass"
   ],
   "id": "6fe0937f115c79c1",
   "outputs": [],
   "execution_count": 2
  },
  {
   "metadata": {
    "ExecuteTime": {
     "end_time": "2024-12-18T09:18:27.009926Z",
     "start_time": "2024-12-18T09:18:27.007783Z"
    }
   },
   "cell_type": "code",
   "source": [
    "class VOLUME(FactorTemplate):\n",
    "    factor_name = 'volume'\n",
    "    dependencies_factor = []\n",
    "    freq = Interval.MINUTE\n",
    "    def __init__(self, setting, **kwargs):\n",
    "        super().__init__(setting, **kwargs)\n",
    "    def __init_dependencies__(self):\n",
    "        pass\n",
    "    \n",
    "    def calculate(self, input_data: Optional[Union[pl.DataFrame, Dict[str, Any]]], *args, **kwargs) -> Any:\n",
    "        return input_data['volume']\n",
    "    def calculate_polars(self, input_data: pl.DataFrame, *args, **kwargs) -> Any:\n",
    "        pass"
   ],
   "id": "d3d3e50fe2bd5d37",
   "outputs": [],
   "execution_count": 3
  },
  {
   "metadata": {
    "ExecuteTime": {
     "end_time": "2024-12-18T09:18:27.014914Z",
     "start_time": "2024-12-18T09:18:27.011266Z"
    }
   },
   "cell_type": "code",
   "source": [
    "class MA(FactorTemplate):\n",
    "    factor_name = 'ma'\n",
    "    dependencies_factor = []\n",
    "    freq = Interval.MINUTE\n",
    "    def __init__(self, setting, window: int = None):\n",
    "        super().__init__(setting, window=window)\n",
    "        \n",
    "    def __init_dependencies__(self):\n",
    "        self.vwap = VWAP({}, window=20)\n",
    "        setattr(self, 'dependencies_factor', [self.vwap])\n",
    "    \n",
    "    def calculate(self, input_data: Optional[Union[pl.DataFrame, Dict[str, pl.DataFrame]]], *args, **kwargs) -> Any:\n",
    "        \"\"\"\n",
    "        Calculate the rolling mean for all columns in the input data.\n",
    "        \n",
    "        Parameters:\n",
    "        input_data (Optional[Union[pl.DataFrame, Dict[str, pl.DataFrame]]]): Input data with symbols as columns.\n",
    "        \n",
    "        Returns:\n",
    "        pl.DataFrame: DataFrame with the rolling mean for each symbol.\n",
    "        \"\"\"\n",
    "        if isinstance(input_data, dict):\n",
    "            df = input_data.get(self.vwap.factor_key)\n",
    "        elif isinstance(input_data, pl.DataFrame):\n",
    "            df = input_data\n",
    "        else:\n",
    "            raise ValueError(\"Invalid input_data format. Expected pl.DataFrame or Dict[str, pl.DataFrame].\")\n",
    "        \n",
    "        # Check if the input is a valid Polars DataFrame\n",
    "        if not isinstance(df, pl.DataFrame):\n",
    "            raise ValueError(\"The 'open' data must be a Polars DataFrame.\")\n",
    "        \n",
    "        window = self.params.get_parameter('window')\n",
    "        if window is None:\n",
    "            raise ValueError(\"The rolling window size (window) is not set.\")\n",
    "        \n",
    "        # Identify columns to calculate rolling mean (exclude 'datetime' column if present)\n",
    "        columns_to_aggregate = [col for col in df.columns if col != 'datetime']\n",
    "        \n",
    "        # Calculate the rolling mean for the selected columns\n",
    "        rolling_means = df.select([pl.col(col).rolling_mean(window).alias(col) for col in columns_to_aggregate])\n",
    "        \n",
    "        # Add the datetime column back to the result if it exists\n",
    "        if 'datetime' in df.columns:\n",
    "            rolling_means = rolling_means.insert_column(0, df['datetime'])\n",
    "        \n",
    "        return rolling_means\n",
    "    \n",
    "    def calculate_polars(self, input_data: pl.DataFrame, *args, **kwargs) -> Any:\n",
    "        pass"
   ],
   "id": "ecddbc56aa9a6dec",
   "outputs": [],
   "execution_count": 4
  },
  {
   "metadata": {
    "ExecuteTime": {
     "end_time": "2024-12-18T09:18:27.019587Z",
     "start_time": "2024-12-18T09:18:27.015555Z"
    }
   },
   "cell_type": "code",
   "source": [
    "class MACD(FactorTemplate):\n",
    "    factor_name = 'macd'\n",
    "    dependencies_factor = []\n",
    "    freq = Interval.MINUTE\n",
    "    def __init__(self, setting, fast_period: int = None, slow_period: int = None, signal_period: int = None):\n",
    "        super().__init__(setting=setting, fast_period=fast_period, slow_period=slow_period, signal_period=signal_period)\n",
    "        \n",
    "    def __init_dependencies__(self):\n",
    "        self.ma_fast = MA({}, self.params.get_parameter('fast_period'))\n",
    "        self.ma_slow = MA({}, self.params.get_parameter('slow_period'))\n",
    "        self.signal_period = self.params.get_parameter('signal_period')\n",
    "        setattr(self, 'dependencies_factor', [self.ma_fast, self.ma_slow])\n",
    "        \n",
    "    \n",
    "    def calculate(self, input_data: Optional[Union[pl.DataFrame, Dict[str, pl.DataFrame]]], *args, **kwargs) -> Any:\n",
    "        \"\"\"\n",
    "        Calculate MACD line, signal line, and histogram based on input moving averages.\n",
    "\n",
    "        Parameters:\n",
    "        input_data (Optional[Union[pl.DataFrame, Dict[str, pl.DataFrame]]]): Input data with columns for MA fast and slow.\n",
    "\n",
    "        Returns:\n",
    "        pl.DataFrame: DataFrame with MACD line, signal line, histogram, and datetime column preserved.\n",
    "        \"\"\"\n",
    "        # Ensure input data is a dictionary\n",
    "        if not isinstance(input_data, dict):\n",
    "            raise ValueError(\"Expected input_data to be a dictionary with pre-calculated moving averages.\")\n",
    "\n",
    "        # Retrieve the pre-calculated moving averages\n",
    "        ma_fast = input_data.get(self.ma_fast.factor_key)\n",
    "        ma_slow = input_data.get(self.ma_slow.factor_key)\n",
    "\n",
    "        if ma_fast is None or ma_slow is None:\n",
    "            raise ValueError(\"Missing required moving averages (ma_fast or ma_slow) in input_data.\")\n",
    "\n",
    "        # Ensure the moving averages are Polars DataFrames\n",
    "        if not isinstance(ma_fast, pl.DataFrame) or not isinstance(ma_slow, pl.DataFrame):\n",
    "            raise ValueError(\"ma_fast and ma_slow must be Polars DataFrames.\")\n",
    "\n",
    "        # Check for and preserve the datetime column\n",
    "        datetime_col = None\n",
    "        if \"datetime\" in ma_fast.columns and \"datetime\" in ma_slow.columns:\n",
    "            datetime_col = ma_fast[\"datetime\"]\n",
    "            ma_fast = ma_fast.drop(\"datetime\")\n",
    "            ma_slow = ma_slow.drop(\"datetime\")\n",
    "\n",
    "        # Calculate MACD line\n",
    "        macd_line = ma_fast - ma_slow\n",
    "\n",
    "        # Calculate Signal line using a rolling mean of the MACD line\n",
    "        signal_line = macd_line.select([pl.col(col).rolling_mean(self.signal_period).alias(col) for col in macd_line.columns])\n",
    "        \n",
    "\n",
    "        # Calculate Histogram (MACD line - Signal line)\n",
    "        histogram = macd_line - signal_line\n",
    "\n",
    "        # Add the datetime column back to the result if it exists\n",
    "        if datetime_col is not None:\n",
    "            histogram = histogram.insert_column(0, datetime_col)\n",
    "\n",
    "        return histogram\n",
    "    \n",
    "    def calculate_polars(self, input_data: pl.DataFrame, *args, **kwargs) -> Any:\n",
    "        pass"
   ],
   "id": "9a8ff0007dc06702",
   "outputs": [],
   "execution_count": 5
  },
  {
   "metadata": {
    "ExecuteTime": {
     "end_time": "2024-12-18T09:18:27.023855Z",
     "start_time": "2024-12-18T09:18:27.020189Z"
    }
   },
   "cell_type": "code",
   "source": [
    "class VWAP(FactorTemplate):\n",
    "    factor_name = 'vwap'\n",
    "    dependencies_factor = []\n",
    "    freq = Interval.MINUTE\n",
    "\n",
    "    def __init__(self, setting, window: int = None):\n",
    "        super().__init__(setting, window=window)\n",
    "\n",
    "    def __init_dependencies__(self):\n",
    "        self.open = OPEN({})\n",
    "        self.volume = VOLUME({})\n",
    "        setattr(self, 'dependencies_factor', [self.open, self.volume])\n",
    "\n",
    "    def calculate(self, input_data: Optional[Union[pl.DataFrame, Dict[str, Any]]], *args, **kwargs) -> Any:\n",
    "        \"\"\"\n",
    "        Calculate the rolling VWAP (Volume Weighted Average Price).\n",
    "\n",
    "        Parameters:\n",
    "            input_data (Optional[Union[pl.DataFrame, Dict[str, Any]]]): Input data with keys for 'open' and 'volume'.\n",
    "\n",
    "        Returns:\n",
    "            pl.DataFrame: DataFrame with rolling VWAP for each symbol and datetime preserved.\n",
    "        \"\"\"\n",
    "        # Retrieve open and volume data\n",
    "        open_prices = input_data.get(self.open.factor_key)\n",
    "        volumes = input_data.get(self.volume.factor_key)\n",
    "\n",
    "        # Ensure both are Polars DataFrames\n",
    "        if not isinstance(open_prices, pl.DataFrame) or not isinstance(volumes, pl.DataFrame):\n",
    "            raise ValueError(\"Both open and volume data must be Polars DataFrames.\")\n",
    "\n",
    "        # Check for rolling window\n",
    "        window = self.params.get_parameter('window')\n",
    "        if window is None:\n",
    "            raise ValueError(\"The rolling window size (window) is not set.\")\n",
    "\n",
    "        # Preserve the datetime column\n",
    "        datetime_col = None\n",
    "        if \"datetime\" in open_prices.columns and \"datetime\" in volumes.columns:\n",
    "            datetime_col = open_prices[\"datetime\"]\n",
    "            open_prices = open_prices.drop(\"datetime\")\n",
    "            volumes = volumes.drop(\"datetime\")\n",
    "\n",
    "        # Calculate VWAP: rolling sum(open * volume) / rolling sum(volume)\n",
    "        weighted_prices = open_prices * volumes\n",
    "        rolling_sum_weighted = weighted_prices.select([\n",
    "            pl.col(col).rolling_sum(window).alias(col) for col in weighted_prices.columns\n",
    "        ])\n",
    "        rolling_sum_volume = volumes.select([\n",
    "            pl.col(col).rolling_sum(window).alias(col) for col in volumes.columns\n",
    "        ])\n",
    "        vwap = rolling_sum_weighted / rolling_sum_volume\n",
    "\n",
    "        # Add the datetime column back to the result if it exists\n",
    "        if datetime_col is not None:\n",
    "            vwap = vwap.insert_column(0, datetime_col)\n",
    "\n",
    "        return vwap\n",
    "\n",
    "    def calculate_polars(self, input_data: pl.DataFrame, *args, **kwargs) -> Any:\n",
    "        pass\n",
    "        "
   ],
   "id": "4df959ddb49b9bfc",
   "outputs": [],
   "execution_count": 6
  },
  {
   "metadata": {
    "ExecuteTime": {
     "end_time": "2024-12-18T09:18:27.030163Z",
     "start_time": "2024-12-18T09:18:27.024508Z"
    }
   },
   "cell_type": "code",
   "source": "macd = MACD({}, fast_period=5, slow_period=20, signal_period=5)",
   "id": "edf5e416a7e947e7",
   "outputs": [
    {
     "name": "stdout",
     "output_type": "stream",
     "text": [
      "Created property for parameter: fast_period\n",
      "Parameter fast_period is set: 5\n",
      "Created property for parameter: slow_period\n",
      "Parameter slow_period is set: 20\n",
      "Created property for parameter: signal_period\n",
      "Parameter signal_period is set: 5\n",
      "Created property for parameter: window\n",
      "Parameter window is set: 5\n",
      "Created property for parameter: window\n",
      "Parameter window is set: 20\n",
      "window is a property\n",
      "  - Getter is defined\n",
      "  - Setter is defined\n",
      "Parameter window is set: 20\n",
      "window is a property\n",
      "  - Getter is defined\n",
      "  - Setter is defined\n",
      "Parameter window is set: 20\n",
      "Parameter signal_period is updated: 5 -> 5\n"
     ]
    }
   ],
   "execution_count": 7
  },
  {
   "metadata": {
    "ExecuteTime": {
     "end_time": "2024-12-18T09:18:27.032264Z",
     "start_time": "2024-12-18T09:18:27.030831Z"
    }
   },
   "cell_type": "code",
   "source": [
    "setting = macd.to_dict()\n",
    "#macd_test = MACD(setting)\n",
    "#getattr(macd_test, 'slow_period')"
   ],
   "id": "3264a8f4bee90430",
   "outputs": [],
   "execution_count": 8
  },
  {
   "metadata": {
    "ExecuteTime": {
     "end_time": "2024-12-18T09:18:27.036263Z",
     "start_time": "2024-12-18T09:18:27.032809Z"
    }
   },
   "cell_type": "code",
   "source": "setting",
   "id": "cd24cfdb3ec9b692",
   "outputs": [
    {
     "data": {
      "text/plain": [
       "{'macd@fast_period_5-slow_period_20-signal_period_5': {'class_name': 'MACD',\n",
       "  'freq': '1m',\n",
       "  'params': {'fast_period': 5, 'slow_period': 20, 'signal_period': 5},\n",
       "  'dependencies_factor': [{'ma@window_5': {'class_name': 'MA',\n",
       "     'freq': '1m',\n",
       "     'params': {'window': 5},\n",
       "     'dependencies_factor': [{'vwap@window_20': {'class_name': 'VWAP',\n",
       "        'freq': '1m',\n",
       "        'params': {'window': 20},\n",
       "        'dependencies_factor': [{'open@noparams': {'class_name': 'OPEN',\n",
       "           'freq': '1m',\n",
       "           'params': {},\n",
       "           'dependencies_factor': [],\n",
       "           'dependencies_freq': [],\n",
       "           'dependencies_symbol': [],\n",
       "           'dependencies_exchange': []}},\n",
       "         {'volume@noparams': {'class_name': 'VOLUME',\n",
       "           'freq': '1m',\n",
       "           'params': {},\n",
       "           'dependencies_factor': [],\n",
       "           'dependencies_freq': [],\n",
       "           'dependencies_symbol': [],\n",
       "           'dependencies_exchange': []}}],\n",
       "        'dependencies_freq': [],\n",
       "        'dependencies_symbol': [],\n",
       "        'dependencies_exchange': []}}],\n",
       "     'dependencies_freq': [],\n",
       "     'dependencies_symbol': [],\n",
       "     'dependencies_exchange': []}},\n",
       "   {'ma@window_20': {'class_name': 'MA',\n",
       "     'freq': '1m',\n",
       "     'params': {'window': 20},\n",
       "     'dependencies_factor': [{'vwap@window_20': {'class_name': 'VWAP',\n",
       "        'freq': '1m',\n",
       "        'params': {'window': 20},\n",
       "        'dependencies_factor': [{'open@noparams': {'class_name': 'OPEN',\n",
       "           'freq': '1m',\n",
       "           'params': {},\n",
       "           'dependencies_factor': [],\n",
       "           'dependencies_freq': [],\n",
       "           'dependencies_symbol': [],\n",
       "           'dependencies_exchange': []}},\n",
       "         {'volume@noparams': {'class_name': 'VOLUME',\n",
       "           'freq': '1m',\n",
       "           'params': {},\n",
       "           'dependencies_factor': [],\n",
       "           'dependencies_freq': [],\n",
       "           'dependencies_symbol': [],\n",
       "           'dependencies_exchange': []}}],\n",
       "        'dependencies_freq': [],\n",
       "        'dependencies_symbol': [],\n",
       "        'dependencies_exchange': []}}],\n",
       "     'dependencies_freq': [],\n",
       "     'dependencies_symbol': [],\n",
       "     'dependencies_exchange': []}}],\n",
       "  'dependencies_freq': [],\n",
       "  'dependencies_symbol': [],\n",
       "  'dependencies_exchange': []}}"
      ]
     },
     "execution_count": 9,
     "metadata": {},
     "output_type": "execute_result"
    }
   ],
   "execution_count": 9
  },
  {
   "metadata": {
    "ExecuteTime": {
     "end_time": "2024-12-18T09:18:27.039807Z",
     "start_time": "2024-12-18T09:18:27.038155Z"
    }
   },
   "cell_type": "code",
   "source": "#macd_test.fast_period",
   "id": "5862c53b19caeb5c",
   "outputs": [],
   "execution_count": 10
  },
  {
   "metadata": {
    "ExecuteTime": {
     "end_time": "2024-12-18T09:18:27.052215Z",
     "start_time": "2024-12-18T09:18:27.040353Z"
    }
   },
   "cell_type": "code",
   "source": [
    "import numpy as np\n",
    "import polars as pl\n",
    "import pandas as pd\n",
    "\n",
    "# Step 1: Generate Open Data (Simulated Price Data)\n",
    "date_range = pd.date_range(\"2024-01-01\", periods=200, freq=\"1min\")\n",
    "raw_data = {\n",
    "    \"open\": pl.DataFrame({\n",
    "        \"datetime\": date_range,\n",
    "        \"AAPL\": np.random.uniform(150, 155, size=200),\n",
    "        \"MSFT\": np.random.uniform(300, 305, size=200),\n",
    "        \"GOOG\": np.random.uniform(2800, 2810, size=200),\n",
    "    }),\n",
    "    \"high\": pl.DataFrame({\n",
    "        \"datetime\": date_range,\n",
    "        \"AAPL\": np.random.uniform(155, 160, size=200),\n",
    "        \"MSFT\": np.random.uniform(305, 310, size=200),\n",
    "        \"GOOG\": np.random.uniform(2810, 2820, size=200),\n",
    "    }),\n",
    "    \"low\": pl.DataFrame({\n",
    "        \"datetime\": date_range,\n",
    "        \"AAPL\": np.random.uniform(145, 150, size=200),\n",
    "        \"MSFT\": np.random.uniform(295, 300, size=200),\n",
    "        \"GOOG\": np.random.uniform(2790, 2800, size=200),\n",
    "    }),\n",
    "    \"close\": pl.DataFrame({\n",
    "        \"datetime\": date_range,\n",
    "        \"AAPL\": np.random.uniform(150, 155, size=200),\n",
    "        \"MSFT\": np.random.uniform(300, 305, size=200),\n",
    "        \"GOOG\": np.random.uniform(2800, 2810, size=200),\n",
    "    }),\n",
    "    \"volume\": pl.DataFrame({\n",
    "        \"datetime\": date_range,\n",
    "        \"AAPL\": np.random.randint(1000, 2000, size=200),\n",
    "        \"MSFT\": np.random.randint(1000, 2000, size=200),\n",
    "        \"GOOG\": np.random.randint(1000, 2000, size=200),\n",
    "    }),\n",
    "}"
   ],
   "id": "dc5a131f843ac845",
   "outputs": [],
   "execution_count": 11
  },
  {
   "metadata": {},
   "cell_type": "raw",
   "source": [
    "from vnpy.app.factor_maker.backtesting import resample_bar_polars\n",
    "\n",
    "resample_bar_polars(raw_data, '3m')"
   ],
   "id": "24f821dbf1163b62"
  },
  {
   "metadata": {
    "ExecuteTime": {
     "end_time": "2024-12-18T09:18:27.311101Z",
     "start_time": "2024-12-18T09:18:27.053040Z"
    }
   },
   "cell_type": "code",
   "source": [
    "from vnpy.app.factor_maker.backtesting import FactorBacktester\n",
    "from vnpy.app.factor_maker.optimizer import FactorOptimizer\n",
    "bt = FactorBacktester(data=raw_data, trading_freq='2h')\n",
    "opt = FactorOptimizer(backtester=bt, data=raw_data)"
   ],
   "id": "ed1c95d9a24c97db",
   "outputs": [],
   "execution_count": 12
  },
  {
   "metadata": {
    "ExecuteTime": {
     "end_time": "2024-12-18T09:18:27.439651Z",
     "start_time": "2024-12-18T09:18:27.311855Z"
    }
   },
   "cell_type": "code",
   "source": "opt.add_factor(macd)",
   "id": "5ad0fbbe62859bf2",
   "outputs": [],
   "execution_count": 13
  },
  {
   "metadata": {
    "ExecuteTime": {
     "end_time": "2024-12-18T09:18:27.444727Z",
     "start_time": "2024-12-18T09:18:27.440371Z"
    }
   },
   "cell_type": "code",
   "source": "opt.factor_data",
   "id": "764b05c1d58600e0",
   "outputs": [
    {
     "data": {
      "text/plain": [
       "{'open@noparams': shape: (200, 4)\n",
       " ┌─────────────────────┬────────────┬────────────┬─────────────┐\n",
       " │ datetime            ┆ AAPL       ┆ MSFT       ┆ GOOG        │\n",
       " │ ---                 ┆ ---        ┆ ---        ┆ ---         │\n",
       " │ datetime[ns]        ┆ f64        ┆ f64        ┆ f64         │\n",
       " ╞═════════════════════╪════════════╪════════════╪═════════════╡\n",
       " │ 2024-01-01 00:00:00 ┆ 152.316424 ┆ 304.797196 ┆ 2802.658793 │\n",
       " │ 2024-01-01 00:01:00 ┆ 152.626762 ┆ 303.940561 ┆ 2805.675972 │\n",
       " │ 2024-01-01 00:02:00 ┆ 152.523361 ┆ 302.171332 ┆ 2808.674571 │\n",
       " │ 2024-01-01 00:03:00 ┆ 153.528809 ┆ 302.323514 ┆ 2806.571614 │\n",
       " │ 2024-01-01 00:04:00 ┆ 150.033593 ┆ 303.382324 ┆ 2809.032757 │\n",
       " │ …                   ┆ …          ┆ …          ┆ …           │\n",
       " │ 2024-01-01 03:15:00 ┆ 152.063886 ┆ 301.240234 ┆ 2804.317995 │\n",
       " │ 2024-01-01 03:16:00 ┆ 153.325002 ┆ 300.084585 ┆ 2800.36019  │\n",
       " │ 2024-01-01 03:17:00 ┆ 153.682712 ┆ 302.46821  ┆ 2805.156804 │\n",
       " │ 2024-01-01 03:18:00 ┆ 153.463755 ┆ 301.243689 ┆ 2801.347804 │\n",
       " │ 2024-01-01 03:19:00 ┆ 154.822956 ┆ 304.970248 ┆ 2803.817792 │\n",
       " └─────────────────────┴────────────┴────────────┴─────────────┘,\n",
       " 'volume@noparams': shape: (200, 4)\n",
       " ┌─────────────────────┬──────┬──────┬──────┐\n",
       " │ datetime            ┆ AAPL ┆ MSFT ┆ GOOG │\n",
       " │ ---                 ┆ ---  ┆ ---  ┆ ---  │\n",
       " │ datetime[ns]        ┆ i64  ┆ i64  ┆ i64  │\n",
       " ╞═════════════════════╪══════╪══════╪══════╡\n",
       " │ 2024-01-01 00:00:00 ┆ 1793 ┆ 1731 ┆ 1955 │\n",
       " │ 2024-01-01 00:01:00 ┆ 1877 ┆ 1137 ┆ 1992 │\n",
       " │ 2024-01-01 00:02:00 ┆ 1733 ┆ 1781 ┆ 1132 │\n",
       " │ 2024-01-01 00:03:00 ┆ 1697 ┆ 1584 ┆ 1819 │\n",
       " │ 2024-01-01 00:04:00 ┆ 1903 ┆ 1450 ┆ 1604 │\n",
       " │ …                   ┆ …    ┆ …    ┆ …    │\n",
       " │ 2024-01-01 03:15:00 ┆ 1143 ┆ 1998 ┆ 1521 │\n",
       " │ 2024-01-01 03:16:00 ┆ 1687 ┆ 1650 ┆ 1266 │\n",
       " │ 2024-01-01 03:17:00 ┆ 1353 ┆ 1151 ┆ 1665 │\n",
       " │ 2024-01-01 03:18:00 ┆ 1237 ┆ 1147 ┆ 1288 │\n",
       " │ 2024-01-01 03:19:00 ┆ 1374 ┆ 1422 ┆ 1085 │\n",
       " └─────────────────────┴──────┴──────┴──────┘,\n",
       " 'vwap@window_20': shape: (200, 4)\n",
       " ┌─────────────────────┬────────────┬────────────┬─────────────┐\n",
       " │ datetime            ┆ AAPL       ┆ MSFT       ┆ GOOG        │\n",
       " │ ---                 ┆ ---        ┆ ---        ┆ ---         │\n",
       " │ datetime[ns]        ┆ f64        ┆ f64        ┆ f64         │\n",
       " ╞═════════════════════╪════════════╪════════════╪═════════════╡\n",
       " │ 2024-01-01 00:00:00 ┆ null       ┆ null       ┆ null        │\n",
       " │ 2024-01-01 00:01:00 ┆ null       ┆ null       ┆ null        │\n",
       " │ 2024-01-01 00:02:00 ┆ null       ┆ null       ┆ null        │\n",
       " │ 2024-01-01 00:03:00 ┆ null       ┆ null       ┆ null        │\n",
       " │ 2024-01-01 00:04:00 ┆ null       ┆ null       ┆ null        │\n",
       " │ …                   ┆ …          ┆ …          ┆ …           │\n",
       " │ 2024-01-01 03:15:00 ┆ 152.950159 ┆ 302.849078 ┆ 2805.0638   │\n",
       " │ 2024-01-01 03:16:00 ┆ 152.937683 ┆ 302.721669 ┆ 2805.030423 │\n",
       " │ 2024-01-01 03:17:00 ┆ 153.102616 ┆ 302.740321 ┆ 2805.145604 │\n",
       " │ 2024-01-01 03:18:00 ┆ 153.13205  ┆ 302.707057 ┆ 2804.847626 │\n",
       " │ 2024-01-01 03:19:00 ┆ 153.155756 ┆ 302.842308 ┆ 2804.791559 │\n",
       " └─────────────────────┴────────────┴────────────┴─────────────┘,\n",
       " 'ma@window_5': shape: (200, 4)\n",
       " ┌─────────────────────┬────────────┬────────────┬─────────────┐\n",
       " │ datetime            ┆ AAPL       ┆ MSFT       ┆ GOOG        │\n",
       " │ ---                 ┆ ---        ┆ ---        ┆ ---         │\n",
       " │ datetime[ns]        ┆ f64        ┆ f64        ┆ f64         │\n",
       " ╞═════════════════════╪════════════╪════════════╪═════════════╡\n",
       " │ 2024-01-01 00:00:00 ┆ null       ┆ null       ┆ null        │\n",
       " │ 2024-01-01 00:01:00 ┆ null       ┆ null       ┆ null        │\n",
       " │ 2024-01-01 00:02:00 ┆ null       ┆ null       ┆ null        │\n",
       " │ 2024-01-01 00:03:00 ┆ null       ┆ null       ┆ null        │\n",
       " │ 2024-01-01 00:04:00 ┆ null       ┆ null       ┆ null        │\n",
       " │ …                   ┆ …          ┆ …          ┆ …           │\n",
       " │ 2024-01-01 03:15:00 ┆ 153.071043 ┆ 302.844138 ┆ 2805.121414 │\n",
       " │ 2024-01-01 03:16:00 ┆ 153.055804 ┆ 302.825837 ┆ 2805.082296 │\n",
       " │ 2024-01-01 03:17:00 ┆ 153.052603 ┆ 302.807489 ┆ 2805.073866 │\n",
       " │ 2024-01-01 03:18:00 ┆ 153.041652 ┆ 302.797219 ┆ 2805.020748 │\n",
       " │ 2024-01-01 03:19:00 ┆ 153.055653 ┆ 302.772087 ┆ 2804.975802 │\n",
       " └─────────────────────┴────────────┴────────────┴─────────────┘,\n",
       " 'ma@window_20': shape: (200, 4)\n",
       " ┌─────────────────────┬────────────┬────────────┬─────────────┐\n",
       " │ datetime            ┆ AAPL       ┆ MSFT       ┆ GOOG        │\n",
       " │ ---                 ┆ ---        ┆ ---        ┆ ---         │\n",
       " │ datetime[ns]        ┆ f64        ┆ f64        ┆ f64         │\n",
       " ╞═════════════════════╪════════════╪════════════╪═════════════╡\n",
       " │ 2024-01-01 00:00:00 ┆ null       ┆ null       ┆ null        │\n",
       " │ 2024-01-01 00:01:00 ┆ null       ┆ null       ┆ null        │\n",
       " │ 2024-01-01 00:02:00 ┆ null       ┆ null       ┆ null        │\n",
       " │ 2024-01-01 00:03:00 ┆ null       ┆ null       ┆ null        │\n",
       " │ 2024-01-01 00:04:00 ┆ null       ┆ null       ┆ null        │\n",
       " │ …                   ┆ …          ┆ …          ┆ …           │\n",
       " │ 2024-01-01 03:15:00 ┆ 152.697439 ┆ 302.554748 ┆ 2805.164973 │\n",
       " │ 2024-01-01 03:16:00 ┆ 152.724493 ┆ 302.576167 ┆ 2805.18173  │\n",
       " │ 2024-01-01 03:17:00 ┆ 152.767359 ┆ 302.597857 ┆ 2805.200755 │\n",
       " │ 2024-01-01 03:18:00 ┆ 152.813373 ┆ 302.620727 ┆ 2805.206288 │\n",
       " │ 2024-01-01 03:19:00 ┆ 152.852792 ┆ 302.649343 ┆ 2805.210041 │\n",
       " └─────────────────────┴────────────┴────────────┴─────────────┘}"
      ]
     },
     "execution_count": 14,
     "metadata": {},
     "output_type": "execute_result"
    }
   ],
   "execution_count": 14
  }
 ],
 "metadata": {
  "kernelspec": {
   "display_name": "Python 3",
   "language": "python",
   "name": "python3"
  },
  "language_info": {
   "codemirror_mode": {
    "name": "ipython",
    "version": 2
   },
   "file_extension": ".py",
   "mimetype": "text/x-python",
   "name": "python",
   "nbconvert_exporter": "python",
   "pygments_lexer": "ipython2",
   "version": "2.7.6"
  }
 },
 "nbformat": 4,
 "nbformat_minor": 5
}
