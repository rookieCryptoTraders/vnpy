{
 "cells": [
  {
   "cell_type": "code",
   "id": "initial_id",
   "metadata": {
    "collapsed": true,
    "ExecuteTime": {
     "end_time": "2024-12-15T14:07:15.849467Z",
     "start_time": "2024-12-15T14:07:15.336215Z"
    }
   },
   "source": [
    "from typing import Optional, Union, Dict, Any\n",
    "\n",
    "import polars as pl\n",
    "\n",
    "from vnpy.app.factor_maker.template import FactorTemplate\n",
    "from vnpy.trader.constant import Interval"
   ],
   "outputs": [
    {
     "name": "stdout",
     "output_type": "stream",
     "text": [
      "LOG: update SETTINGS from vt_setting.json\n"
     ]
    }
   ],
   "execution_count": 1
  },
  {
   "metadata": {
    "ExecuteTime": {
     "end_time": "2024-12-15T14:07:15.852770Z",
     "start_time": "2024-12-15T14:07:15.850375Z"
    }
   },
   "cell_type": "code",
   "source": [
    "class OPEN(FactorTemplate):\n",
    "    factor_name = 'open'\n",
    "    dependencies_factor = []\n",
    "    freq = Interval.MINUTE\n",
    "    def __init__(self, setting, **kwargs):\n",
    "        super().__init__(setting, **kwargs)\n",
    "    def __init_dependencies__(self):\n",
    "        pass\n",
    "    \n",
    "    def calculate(self, input_data: Optional[Union[pl.DataFrame, Dict[str, Any]]], *args, **kwargs) -> Any:\n",
    "        return input_data['open']\n",
    "    def calculate_polars(self, input_data: pl.DataFrame, *args, **kwargs) -> Any:\n",
    "        pass"
   ],
   "id": "6fe0937f115c79c1",
   "outputs": [],
   "execution_count": 2
  },
  {
   "metadata": {
    "ExecuteTime": {
     "end_time": "2024-12-15T14:07:15.857127Z",
     "start_time": "2024-12-15T14:07:15.853414Z"
    }
   },
   "cell_type": "code",
   "source": [
    "class MA(FactorTemplate):\n",
    "    factor_name = 'ma'\n",
    "    dependencies_factor = []\n",
    "    freq = Interval.MINUTE\n",
    "    def __init__(self, setting, window: int = None):\n",
    "        super().__init__(setting, window=window)\n",
    "        \n",
    "    def __init_dependencies__(self):\n",
    "        self.open = OPEN({})\n",
    "        setattr(self, 'dependencies_factor', [self.open])\n",
    "    \n",
    "    def calculate(self, input_data: Optional[Union[pl.DataFrame, Dict[str, pl.DataFrame]]], *args, **kwargs) -> Any:\n",
    "        \"\"\"\n",
    "        Calculate the rolling mean for all columns in the input data.\n",
    "        \n",
    "        Parameters:\n",
    "        input_data (Optional[Union[pl.DataFrame, Dict[str, pl.DataFrame]]]): Input data with symbols as columns.\n",
    "        \n",
    "        Returns:\n",
    "        pl.DataFrame: DataFrame with the rolling mean for each symbol.\n",
    "        \"\"\"\n",
    "        if isinstance(input_data, dict):\n",
    "            df = input_data.get(self.open.factor_key)\n",
    "        elif isinstance(input_data, pl.DataFrame):\n",
    "            df = input_data\n",
    "        else:\n",
    "            raise ValueError(\"Invalid input_data format. Expected pl.DataFrame or Dict[str, pl.DataFrame].\")\n",
    "        \n",
    "        # Check if the input is a valid Polars DataFrame\n",
    "        if not isinstance(df, pl.DataFrame):\n",
    "            raise ValueError(\"The 'open' data must be a Polars DataFrame.\")\n",
    "        \n",
    "        window = self.params.get_parameter('window')\n",
    "        if window is None:\n",
    "            raise ValueError(\"The rolling window size (window) is not set.\")\n",
    "        \n",
    "        # Identify columns to calculate rolling mean (exclude 'datetime' column if present)\n",
    "        columns_to_aggregate = [col for col in df.columns if col != 'datetime']\n",
    "        \n",
    "        # Calculate the rolling mean for the selected columns\n",
    "        rolling_means = df.select([pl.col(col).rolling_mean(window).alias(col) for col in columns_to_aggregate])\n",
    "        \n",
    "        # Add the datetime column back to the result if it exists\n",
    "        if 'datetime' in df.columns:\n",
    "            rolling_means = rolling_means.insert_column(0, df['datetime'])\n",
    "        \n",
    "        return rolling_means\n",
    "    \n",
    "    def calculate_polars(self, input_data: pl.DataFrame, *args, **kwargs) -> Any:\n",
    "        pass"
   ],
   "id": "ecddbc56aa9a6dec",
   "outputs": [],
   "execution_count": 3
  },
  {
   "metadata": {
    "ExecuteTime": {
     "end_time": "2024-12-15T14:07:15.862121Z",
     "start_time": "2024-12-15T14:07:15.857805Z"
    }
   },
   "cell_type": "code",
   "source": [
    "class MACD(FactorTemplate):\n",
    "    factor_name = 'macd'\n",
    "    dependencies_factor = []\n",
    "    freq = Interval.MINUTE\n",
    "    def __init__(self, setting, fast_period: int = None, slow_period: int = None, signal_period: int = None):\n",
    "        super().__init__(setting=setting, fast_period=fast_period, slow_period=slow_period, signal_period=signal_period)\n",
    "        \n",
    "    def __init_dependencies__(self):\n",
    "        self.ma_fast = MA({}, self.params.get_parameter('fast_period'))\n",
    "        self.ma_slow = MA({}, self.params.get_parameter('slow_period'))\n",
    "        self.signal_period = self.params.get_parameter('signal_period')\n",
    "        setattr(self, 'dependencies_factor', [self.ma_fast, self.ma_slow])\n",
    "        \n",
    "    \n",
    "    def calculate(self, input_data: Optional[Union[pl.DataFrame, Dict[str, pl.DataFrame]]], *args, **kwargs) -> Any:\n",
    "        \"\"\"\n",
    "        Calculate MACD line, signal line, and histogram based on input moving averages.\n",
    "\n",
    "        Parameters:\n",
    "        input_data (Optional[Union[pl.DataFrame, Dict[str, pl.DataFrame]]]): Input data with columns for MA fast and slow.\n",
    "\n",
    "        Returns:\n",
    "        pl.DataFrame: DataFrame with MACD line, signal line, histogram, and datetime column preserved.\n",
    "        \"\"\"\n",
    "        # Ensure input data is a dictionary\n",
    "        if not isinstance(input_data, dict):\n",
    "            raise ValueError(\"Expected input_data to be a dictionary with pre-calculated moving averages.\")\n",
    "\n",
    "        # Retrieve the pre-calculated moving averages\n",
    "        ma_fast = input_data.get(self.ma_fast.factor_key)\n",
    "        ma_slow = input_data.get(self.ma_slow.factor_key)\n",
    "\n",
    "        if ma_fast is None or ma_slow is None:\n",
    "            raise ValueError(\"Missing required moving averages (ma_fast or ma_slow) in input_data.\")\n",
    "\n",
    "        # Ensure the moving averages are Polars DataFrames\n",
    "        if not isinstance(ma_fast, pl.DataFrame) or not isinstance(ma_slow, pl.DataFrame):\n",
    "            raise ValueError(\"ma_fast and ma_slow must be Polars DataFrames.\")\n",
    "\n",
    "        # Check for and preserve the datetime column\n",
    "        datetime_col = None\n",
    "        if \"datetime\" in ma_fast.columns and \"datetime\" in ma_slow.columns:\n",
    "            datetime_col = ma_fast[\"datetime\"]\n",
    "            ma_fast = ma_fast.drop(\"datetime\")\n",
    "            ma_slow = ma_slow.drop(\"datetime\")\n",
    "\n",
    "        # Calculate MACD line\n",
    "        macd_line = ma_fast - ma_slow\n",
    "\n",
    "        # Calculate Signal line using a rolling mean of the MACD line\n",
    "        signal_line = macd_line.select([pl.col(col).rolling_mean(self.signal_period).alias(col) for col in macd_line.columns])\n",
    "        \n",
    "\n",
    "        # Calculate Histogram (MACD line - Signal line)\n",
    "        histogram = macd_line - signal_line\n",
    "\n",
    "        # Add the datetime column back to the result if it exists\n",
    "        if datetime_col is not None:\n",
    "            histogram = histogram.insert_column(0, datetime_col)\n",
    "\n",
    "        return histogram\n",
    "    \n",
    "    def calculate_polars(self, input_data: pl.DataFrame, *args, **kwargs) -> Any:\n",
    "        pass"
   ],
   "id": "9a8ff0007dc06702",
   "outputs": [],
   "execution_count": 4
  },
  {
   "metadata": {
    "ExecuteTime": {
     "end_time": "2024-12-15T14:07:15.869930Z",
     "start_time": "2024-12-15T14:07:15.863953Z"
    }
   },
   "cell_type": "code",
   "source": "macd = MACD({}, fast_period=5, slow_period=20, signal_period=5)",
   "id": "edf5e416a7e947e7",
   "outputs": [
    {
     "name": "stdout",
     "output_type": "stream",
     "text": [
      "Created property for parameter: fast_period\n",
      "Parameter fast_period is set: 5\n",
      "Created property for parameter: slow_period\n",
      "Parameter slow_period is set: 20\n",
      "Created property for parameter: signal_period\n",
      "Parameter signal_period is set: 5\n",
      "Created property for parameter: window\n",
      "Parameter window is set: 5\n",
      "window is a property\n",
      "  - Getter is defined\n",
      "  - Setter is defined\n",
      "Parameter window is set: 20\n",
      "Parameter signal_period is updated: 5 -> 5\n"
     ]
    }
   ],
   "execution_count": 5
  },
  {
   "metadata": {
    "ExecuteTime": {
     "end_time": "2024-12-15T14:07:15.877907Z",
     "start_time": "2024-12-15T14:07:15.870577Z"
    }
   },
   "cell_type": "code",
   "source": [
    "import numpy as np\n",
    "import polars as pl\n",
    "import pandas as pd\n",
    "\n",
    "# Step 1: Generate Open Data (Simulated Price Data)\n",
    "date_range = pd.date_range(\"2024-01-01\", periods=200, freq=\"1min\")\n",
    "raw_data = {\n",
    "    \"open\": pl.DataFrame({\n",
    "        \"datetime\": date_range,\n",
    "        \"AAPL\": np.random.uniform(150, 155, size=200),\n",
    "        \"MSFT\": np.random.uniform(300, 305, size=200),\n",
    "        \"GOOG\": np.random.uniform(2800, 2810, size=200),\n",
    "    }),\n",
    "    \"high\": pl.DataFrame({\n",
    "        \"datetime\": date_range,\n",
    "        \"AAPL\": np.random.uniform(155, 160, size=200),\n",
    "        \"MSFT\": np.random.uniform(305, 310, size=200),\n",
    "        \"GOOG\": np.random.uniform(2810, 2820, size=200),\n",
    "    }),\n",
    "    \"low\": pl.DataFrame({\n",
    "        \"datetime\": date_range,\n",
    "        \"AAPL\": np.random.uniform(145, 150, size=200),\n",
    "        \"MSFT\": np.random.uniform(295, 300, size=200),\n",
    "        \"GOOG\": np.random.uniform(2790, 2800, size=200),\n",
    "    }),\n",
    "    \"close\": pl.DataFrame({\n",
    "        \"datetime\": date_range,\n",
    "        \"AAPL\": np.random.uniform(150, 155, size=200),\n",
    "        \"MSFT\": np.random.uniform(300, 305, size=200),\n",
    "        \"GOOG\": np.random.uniform(2800, 2810, size=200),\n",
    "    }),\n",
    "    \"volume\": pl.DataFrame({\n",
    "        \"datetime\": date_range,\n",
    "        \"AAPL\": np.random.randint(1000, 2000, size=200),\n",
    "        \"MSFT\": np.random.randint(1000, 2000, size=200),\n",
    "        \"GOOG\": np.random.randint(1000, 2000, size=200),\n",
    "    }),\n",
    "}"
   ],
   "id": "dc5a131f843ac845",
   "outputs": [],
   "execution_count": 6
  },
  {
   "metadata": {},
   "cell_type": "raw",
   "source": [
    "from vnpy.app.factor_maker.backtesting import resample_bar_polars\n",
    "\n",
    "resample_bar_polars(raw_data, '3m')"
   ],
   "id": "24f821dbf1163b62"
  },
  {
   "metadata": {
    "ExecuteTime": {
     "end_time": "2024-12-15T14:07:16.112312Z",
     "start_time": "2024-12-15T14:07:15.878612Z"
    }
   },
   "cell_type": "code",
   "source": [
    "from vnpy.app.factor_maker.backtesting import FactorBacktester\n",
    "from vnpy.app.factor_maker.optimizer import FactorOptimizer\n",
    "bt = FactorBacktester(data=raw_data)\n",
    "opt = FactorOptimizer(backtester=bt, data=raw_data)"
   ],
   "id": "ed1c95d9a24c97db",
   "outputs": [],
   "execution_count": 7
  },
  {
   "metadata": {
    "ExecuteTime": {
     "end_time": "2024-12-15T14:07:16.232801Z",
     "start_time": "2024-12-15T14:07:16.113156Z"
    }
   },
   "cell_type": "code",
   "source": "opt.add_factor(macd)",
   "id": "5ad0fbbe62859bf2",
   "outputs": [
    {
     "name": "stdout",
     "output_type": "stream",
     "text": [
      "{'open@noparams': Delayed('calculate-d5a749d7-a73b-4bd7-a92f-16efbd3bd527')}\n",
      "{'open@noparams': Delayed('calculate-d5a749d7-a73b-4bd7-a92f-16efbd3bd527'), 'ma@window_5': Delayed('calculate-b58650fd-05a3-419d-b19f-8b41afc58344')}\n",
      "{'open@noparams': Delayed('calculate-d5a749d7-a73b-4bd7-a92f-16efbd3bd527'), 'ma@window_5': Delayed('calculate-b58650fd-05a3-419d-b19f-8b41afc58344'), 'ma@window_20': Delayed('calculate-b39df8b3-fa02-4ff1-92b9-5fa6b21fc9ae')}\n"
     ]
    }
   ],
   "execution_count": 8
  },
  {
   "metadata": {
    "ExecuteTime": {
     "end_time": "2024-12-15T14:07:16.236923Z",
     "start_time": "2024-12-15T14:07:16.233497Z"
    }
   },
   "cell_type": "code",
   "source": "opt.factor_data",
   "id": "764b05c1d58600e0",
   "outputs": [
    {
     "data": {
      "text/plain": [
       "{'open@noparams': shape: (200, 4)\n",
       " ┌─────────────────────┬────────────┬────────────┬─────────────┐\n",
       " │ datetime            ┆ AAPL       ┆ MSFT       ┆ GOOG        │\n",
       " │ ---                 ┆ ---        ┆ ---        ┆ ---         │\n",
       " │ datetime[ns]        ┆ f64        ┆ f64        ┆ f64         │\n",
       " ╞═════════════════════╪════════════╪════════════╪═════════════╡\n",
       " │ 2024-01-01 00:00:00 ┆ 153.890716 ┆ 300.608013 ┆ 2809.700059 │\n",
       " │ 2024-01-01 00:01:00 ┆ 150.471076 ┆ 302.622606 ┆ 2800.669031 │\n",
       " │ 2024-01-01 00:02:00 ┆ 150.976386 ┆ 301.626055 ┆ 2801.655145 │\n",
       " │ 2024-01-01 00:03:00 ┆ 153.516089 ┆ 301.763577 ┆ 2800.616333 │\n",
       " │ 2024-01-01 00:04:00 ┆ 154.624421 ┆ 304.450179 ┆ 2800.638887 │\n",
       " │ …                   ┆ …          ┆ …          ┆ …           │\n",
       " │ 2024-01-01 03:15:00 ┆ 152.695505 ┆ 300.265774 ┆ 2808.759421 │\n",
       " │ 2024-01-01 03:16:00 ┆ 152.026436 ┆ 300.597681 ┆ 2801.820674 │\n",
       " │ 2024-01-01 03:17:00 ┆ 153.740473 ┆ 301.429376 ┆ 2809.085327 │\n",
       " │ 2024-01-01 03:18:00 ┆ 154.346971 ┆ 303.344381 ┆ 2807.226354 │\n",
       " │ 2024-01-01 03:19:00 ┆ 151.133751 ┆ 300.307545 ┆ 2807.280304 │\n",
       " └─────────────────────┴────────────┴────────────┴─────────────┘,\n",
       " 'ma@window_5': shape: (200, 4)\n",
       " ┌─────────────────────┬────────────┬────────────┬─────────────┐\n",
       " │ datetime            ┆ AAPL       ┆ MSFT       ┆ GOOG        │\n",
       " │ ---                 ┆ ---        ┆ ---        ┆ ---         │\n",
       " │ datetime[ns]        ┆ f64        ┆ f64        ┆ f64         │\n",
       " ╞═════════════════════╪════════════╪════════════╪═════════════╡\n",
       " │ 2024-01-01 00:00:00 ┆ null       ┆ null       ┆ null        │\n",
       " │ 2024-01-01 00:01:00 ┆ null       ┆ null       ┆ null        │\n",
       " │ 2024-01-01 00:02:00 ┆ null       ┆ null       ┆ null        │\n",
       " │ 2024-01-01 00:03:00 ┆ null       ┆ null       ┆ null        │\n",
       " │ 2024-01-01 00:04:00 ┆ 152.695738 ┆ 302.214086 ┆ 2802.655891 │\n",
       " │ …                   ┆ …          ┆ …          ┆ …           │\n",
       " │ 2024-01-01 03:15:00 ┆ 152.567304 ┆ 303.008273 ┆ 2806.210571 │\n",
       " │ 2024-01-01 03:16:00 ┆ 152.243646 ┆ 302.599551 ┆ 2804.674214 │\n",
       " │ 2024-01-01 03:17:00 ┆ 152.804856 ┆ 301.962718 ┆ 2805.19234  │\n",
       " │ 2024-01-01 03:18:00 ┆ 153.064133 ┆ 301.661843 ┆ 2806.628927 │\n",
       " │ 2024-01-01 03:19:00 ┆ 152.788627 ┆ 301.188951 ┆ 2806.834416 │\n",
       " └─────────────────────┴────────────┴────────────┴─────────────┘,\n",
       " 'ma@window_20': shape: (200, 4)\n",
       " ┌─────────────────────┬────────────┬────────────┬─────────────┐\n",
       " │ datetime            ┆ AAPL       ┆ MSFT       ┆ GOOG        │\n",
       " │ ---                 ┆ ---        ┆ ---        ┆ ---         │\n",
       " │ datetime[ns]        ┆ f64        ┆ f64        ┆ f64         │\n",
       " ╞═════════════════════╪════════════╪════════════╪═════════════╡\n",
       " │ 2024-01-01 00:00:00 ┆ null       ┆ null       ┆ null        │\n",
       " │ 2024-01-01 00:01:00 ┆ null       ┆ null       ┆ null        │\n",
       " │ 2024-01-01 00:02:00 ┆ null       ┆ null       ┆ null        │\n",
       " │ 2024-01-01 00:03:00 ┆ null       ┆ null       ┆ null        │\n",
       " │ 2024-01-01 00:04:00 ┆ null       ┆ null       ┆ null        │\n",
       " │ …                   ┆ …          ┆ …          ┆ …           │\n",
       " │ 2024-01-01 03:15:00 ┆ 152.475565 ┆ 302.981904 ┆ 2804.893986 │\n",
       " │ 2024-01-01 03:16:00 ┆ 152.517185 ┆ 302.770778 ┆ 2804.920219 │\n",
       " │ 2024-01-01 03:17:00 ┆ 152.615652 ┆ 302.664632 ┆ 2804.88159  │\n",
       " │ 2024-01-01 03:18:00 ┆ 152.592425 ┆ 302.599939 ┆ 2804.969033 │\n",
       " │ 2024-01-01 03:19:00 ┆ 152.451123 ┆ 302.545801 ┆ 2805.233135 │\n",
       " └─────────────────────┴────────────┴────────────┴─────────────┘}"
      ]
     },
     "execution_count": 9,
     "metadata": {},
     "output_type": "execute_result"
    }
   ],
   "execution_count": 9
  },
  {
   "metadata": {
    "ExecuteTime": {
     "end_time": "2024-12-15T14:07:16.239425Z",
     "start_time": "2024-12-15T14:07:16.237719Z"
    }
   },
   "cell_type": "code",
   "source": "",
   "id": "d431cfc3bc9d00b9",
   "outputs": [],
   "execution_count": 9
  }
 ],
 "metadata": {
  "kernelspec": {
   "display_name": "Python 3",
   "language": "python",
   "name": "python3"
  },
  "language_info": {
   "codemirror_mode": {
    "name": "ipython",
    "version": 2
   },
   "file_extension": ".py",
   "mimetype": "text/x-python",
   "name": "python",
   "nbconvert_exporter": "python",
   "pygments_lexer": "ipython2",
   "version": "2.7.6"
  }
 },
 "nbformat": 4,
 "nbformat_minor": 5
}
