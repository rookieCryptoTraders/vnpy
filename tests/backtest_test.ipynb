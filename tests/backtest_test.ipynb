{
 "cells": [
  {
   "cell_type": "code",
   "execution_count": 1,
   "id": "908e66dd",
   "metadata": {},
   "outputs": [
    {
     "name": "stdout",
     "output_type": "stream",
     "text": [
      "[vnpy.trader.setting] Updated SETTINGS from vt_setting.json\n",
      "\u001b[32m2025-06-05 05:45:38.784\u001b[0m | \u001b[1mINFO\u001b[0m | \u001b[36mFactorMakerBacktestOrchestrator\u001b[0m | \u001b[1m[FactorMakerBacktestOrchestrator] Successfully imported factor module: 'vnpy.factor.factors'\u001b[0m\n",
      "\u001b[32m2025-06-05 05:45:38.785\u001b[0m | \u001b[1mINFO\u001b[0m | \u001b[36mFactorMakerBacktestOrchestrator\u001b[0m | \u001b[1m[FactorMakerBacktestOrchestrator] FactorMakerBacktestOrchestrator initialized.\u001b[0m\n"
     ]
    }
   ],
   "source": [
    "%matplotlib inline\n",
    "from vnpy.factor.backtesting.backtesting import BacktestEngine\n",
    "from vnpy.factor.setting import get_backtest_data_cache_path, get_backtest_report_path\n",
    "\n",
    "\n",
    "backtest_engine = BacktestEngine(\n",
    "    factor_module_name=\"vnpy.factor.factors\",\n",
    "    output_data_dir_for_analyser_reports=get_backtest_report_path(),\n",
    "    output_data_dir_for_calculator_cache=get_backtest_data_cache_path()\n",
    ")"
   ]
  },
  {
   "cell_type": "code",
   "execution_count": 2,
   "id": "b9ac7d41",
   "metadata": {},
   "outputs": [],
   "source": [
    "vt_symbols = ['btcusdt.BINANCE', 'ethusdt.BINANCE', 'xrpusdt.BINANCE']"
   ]
  },
  {
   "cell_type": "code",
   "execution_count": 3,
   "id": "71c3bd16",
   "metadata": {},
   "outputs": [
    {
     "data": {
      "text/plain": [
       "PosixPath('/Users/chenzhao/Documents/crypto_vnpy/vnpy/tests/.vnpy/factor/cache/backtest_factor_data_cache')"
      ]
     },
     "execution_count": 3,
     "metadata": {},
     "output_type": "execute_result"
    }
   ],
   "source": [
    "backtest_engine.output_data_dir_for_calculator_cache"
   ]
  },
  {
   "cell_type": "code",
   "execution_count": 4,
   "id": "048570ae",
   "metadata": {},
   "outputs": [],
   "source": [
    "from vnpy.factor.setting import FACTOR_DEFINITIONS_FILEPATH\n",
    "from vnpy.factor.utils.factor_utils import load_factor_setting\n",
    "\n",
    "\n",
    "factor_definations = load_factor_setting(FACTOR_DEFINITIONS_FILEPATH)"
   ]
  },
  {
   "cell_type": "code",
   "execution_count": 5,
   "id": "5d9ff54e",
   "metadata": {},
   "outputs": [
    {
     "data": {
      "text/plain": [
       "{'class_name': 'MACDFactor',\n",
       " 'factor_name': 'MACDFactor',\n",
       " 'factor_key': 'factor_1m_macdfactor@fast_period_12-signal_period_9-slow_period_26',\n",
       " 'freq': '1m',\n",
       " 'params': {'signal_period': 9},\n",
       " 'dependencies_factor': [{'class_name': 'EMAFactor',\n",
       "   'factor_name': 'fast_ema',\n",
       "   'factor_key': 'factor_1m_emafactor@period_12',\n",
       "   'freq': '1m',\n",
       "   'params': {'period': 12},\n",
       "   'dependencies_factor': [],\n",
       "   'dependencies_freq': [],\n",
       "   'dependencies_symbol': [],\n",
       "   'dependencies_exchange': [],\n",
       "   'last_run_datetime': '2025-06-04 15:35:49',\n",
       "   'factor_mode': 'LIVE'},\n",
       "  {'class_name': 'EMAFactor',\n",
       "   'factor_name': 'slow_ema',\n",
       "   'factor_key': 'factor_1m_emafactor@period_26',\n",
       "   'freq': '1m',\n",
       "   'params': {'period': 26},\n",
       "   'dependencies_factor': [],\n",
       "   'dependencies_freq': [],\n",
       "   'dependencies_symbol': [],\n",
       "   'dependencies_exchange': [],\n",
       "   'last_run_datetime': '2025-06-04 15:35:49',\n",
       "   'factor_mode': 'LIVE'}],\n",
       " 'dependencies_freq': [],\n",
       " 'dependencies_symbol': [],\n",
       " 'dependencies_exchange': [],\n",
       " 'last_run_datetime': '2025-06-04 15:35:49',\n",
       " 'factor_mode': 'LIVE'}"
      ]
     },
     "execution_count": 5,
     "metadata": {},
     "output_type": "execute_result"
    }
   ],
   "source": [
    "macd_factor_defination = factor_definations[2]\n",
    "macd_factor_defination"
   ]
  },
  {
   "cell_type": "code",
   "execution_count": 6,
   "id": "49436d64",
   "metadata": {},
   "outputs": [],
   "source": [
    "import importlib\n",
    "\n",
    "from vnpy.factor.utils.factor_utils import init_factors\n",
    "\n",
    "\n",
    "factor_module = importlib.import_module(\"vnpy.factor.factors\")\n",
    "macd_factor = init_factors(\n",
    "    module_for_primary_classes=factor_module,\n",
    "    settings_data=[macd_factor_defination],\n",
    "    dependencies_module_lookup_for_instances=factor_module\n",
    ")[0]"
   ]
  },
  {
   "cell_type": "code",
   "execution_count": 7,
   "id": "0cdaeeb7",
   "metadata": {},
   "outputs": [
    {
     "data": {
      "text/plain": [
       "{'signal_period': 9, 'fast_ema.period': 12, 'slow_ema.period': 26}"
      ]
     },
     "execution_count": 7,
     "metadata": {},
     "output_type": "execute_result"
    }
   ],
   "source": [
    "macd_factor.get_nested_params_for_optimizer()"
   ]
  },
  {
   "cell_type": "code",
   "execution_count": 8,
   "id": "add6df2e",
   "metadata": {},
   "outputs": [
    {
     "name": "stdout",
     "output_type": "stream",
     "text": [
      "\u001b[32m2025-06-05 05:45:38.870\u001b[0m | \u001b[1mINFO\u001b[0m | \u001b[36mFactorMakerBacktestOrchestrator\u001b[0m | \u001b[1m[FactorMakerBacktestOrchestrator] Initializing and flattening factor based on definition. Symbols: ['btcusdt.BINANCE', 'ethusdt.BINANCE', 'xrpusdt.BINANCE']\u001b[0m\n",
      "\u001b[32m2025-06-05 05:45:38.872\u001b[0m | \u001b[1mINFO\u001b[0m | \u001b[36mFactorMakerBacktestOrchestrator\u001b[0m | \u001b[1m[FactorMakerBacktestOrchestrator] Target factor instance created: factor_1m_macdfactor@signal_period_9\u001b[0m\n",
      "\u001b[32m2025-06-05 05:45:38.873\u001b[0m | \u001b[34m\u001b[1mDEBUG\u001b[0m | \u001b[36mFactorMakerBacktestOrchestrator\u001b[0m | \u001b[34m\u001b[1m[FactorMakerBacktestOrchestrator] Factor tree flattened. Total factors in graph: 3\u001b[0m\n"
     ]
    }
   ],
   "source": [
    "target_factor_instance, flattened_factors = backtest_engine._init_and_flatten_factor(macd_factor, vt_symbols)"
   ]
  },
  {
   "cell_type": "code",
   "execution_count": 9,
   "id": "1b7b44c4",
   "metadata": {},
   "outputs": [
    {
     "name": "stdout",
     "output_type": "stream",
     "text": [
      "\u001b[32m2025-06-05 05:45:38.878\u001b[0m | \u001b[1mINFO\u001b[0m | \u001b[36mFactorMakerFactorCalculator\u001b[0m | \u001b[1m[FactorMakerFactorCalculator] FactorCalculator initialized. Factor cache dir: /Users/chenzhao/Documents/crypto_vnpy/vnpy/tests/.vnpy/factor/cache/backtest_factor_data_cache\u001b[0m\n",
      "\u001b[32m2025-06-05 05:45:38.879\u001b[0m | \u001b[1mINFO\u001b[0m | \u001b[36mFactorMakerFactorCalculator\u001b[0m | \u001b[1m[FactorMakerFactorCalculator] Factor cache directory ensured at: /Users/chenzhao/Documents/crypto_vnpy/vnpy/tests/.vnpy/factor/cache/backtest_factor_data_cache\u001b[0m\n"
     ]
    }
   ],
   "source": [
    "calculator = backtest_engine._create_calculator()"
   ]
  },
  {
   "cell_type": "code",
   "execution_count": 10,
   "id": "34270fbd",
   "metadata": {},
   "outputs": [],
   "source": [
    "from datetime import datetime\n",
    "\n",
    "import numpy as np\n",
    "import polars as pl\n",
    "from typing import List, Dict\n",
    "\n",
    "# Schema for the intermediate flat DataFrame\n",
    "_OHLCV_FLAT_SCHEMA = {\n",
    "    \"datetime\": pl.Datetime(time_unit=\"us\", time_zone='UTC'),\n",
    "    \"symbol\": pl.Utf8,\n",
    "    \"open\": pl.Float64,\n",
    "    \"high\": pl.Float64,\n",
    "    \"low\": pl.Float64,\n",
    "    \"close\": pl.Float64,\n",
    "    \"volume\": pl.Float64,\n",
    "}\n",
    "\n",
    "\n",
    "def generate_fake_ohlcv_wide_dict(\n",
    "    start_date: datetime,\n",
    "    end_date: datetime,\n",
    "    interval: str,\n",
    "    vt_symbols: List[str]\n",
    ") -> Dict[str, pl.DataFrame]:\n",
    "    \"\"\"\n",
    "    Generates a dictionary of Polars DataFrames with fake OHLCV data.\n",
    "    Each key in the dictionary is an OHLCV type (\"open\", \"high\", \"low\", \"close\", \"volume\").\n",
    "    Each DataFrame has a \"datetime\" column and columns for each symbol in vt_symbols,\n",
    "    containing the respective OHLCV values.\n",
    "\n",
    "    Args:\n",
    "        start_date: The start datetime for the data generation.\n",
    "        end_date: The end datetime for the data generation.\n",
    "        interval: Polars interval string for fake data generation (e.g., \"1m\", \"1h\").\n",
    "        vt_symbols: List of symbol strings (e.g., [\"BTCUSDT\", \"ETHUSDT\"]).\n",
    "\n",
    "    Returns:\n",
    "        Dict[str, pl.DataFrame]: A dictionary where keys are OHLCV types and\n",
    "                                 values are \"wide\" DataFrames. Returns an empty\n",
    "                                 dictionary if no data can be generated.\n",
    "    \"\"\"\n",
    "    if not vt_symbols:\n",
    "        return {}\n",
    "\n",
    "    # --- Inlined logic from _generate_fake_ohlcv_flat_df ---\n",
    "    flat_df: pl.DataFrame\n",
    "    try:\n",
    "        fake_dates = pl.datetime_range(\n",
    "            start=start_date,\n",
    "            end=end_date,\n",
    "            interval=interval,\n",
    "            time_unit=\"us\",  # Assuming interval is in minutes\n",
    "            eager=True,\n",
    "            time_zone=\"UTC\"\n",
    "        )\n",
    "    except Exception: # Handle potential errors in datetime_range\n",
    "        return {} # Return empty dict if date range generation fails\n",
    "\n",
    "    if len(fake_dates) == 0:\n",
    "        return {} # Return empty dict if no dates are generated\n",
    "\n",
    "    num_fake_rows_per_symbol = len(fake_dates)\n",
    "    all_rows_data = []\n",
    "\n",
    "    for symbol in vt_symbols:\n",
    "        # Generate somewhat realistic OHLCV data\n",
    "        close_prices = np.random.rand(num_fake_rows_per_symbol) * 100 + 50\n",
    "        open_prices = close_prices + (np.random.rand(num_fake_rows_per_symbol) - 0.5) * 10\n",
    "        high_prices = np.maximum(open_prices, close_prices) + np.random.rand(num_fake_rows_per_symbol) * 5\n",
    "        low_prices = np.minimum(open_prices, close_prices) - np.random.rand(num_fake_rows_per_symbol) * 5\n",
    "        low_prices = np.maximum(low_prices, 0.01) # Ensure low is not zero or negative\n",
    "        volumes = np.random.rand(num_fake_rows_per_symbol) * 1000 + 500\n",
    "\n",
    "        for i in range(num_fake_rows_per_symbol):\n",
    "            all_rows_data.append({\n",
    "                \"datetime\": fake_dates[i],\n",
    "                \"symbol\": symbol,\n",
    "                \"open\": open_prices[i],\n",
    "                \"high\": high_prices[i],\n",
    "                \"low\": low_prices[i],\n",
    "                \"close\": close_prices[i],\n",
    "                \"volume\": volumes[i],\n",
    "            })\n",
    "\n",
    "    if not all_rows_data: # Should only happen if vt_symbols was empty, but that's checked above\n",
    "        return {}\n",
    "\n",
    "    flat_df = pl.DataFrame(all_rows_data, schema=_OHLCV_FLAT_SCHEMA)\n",
    "    # --- End of inlined logic ---\n",
    "\n",
    "    if flat_df.is_empty(): # Double check, though previous checks should cover this\n",
    "        return {}\n",
    "\n",
    "    ohlcv_dict: Dict[str, pl.DataFrame] = {}\n",
    "    ohlcv_types = [\"open\", \"high\", \"low\", \"close\", \"volume\"]\n",
    "\n",
    "    # Get unique sorted datetimes once for potential error case in pivot\n",
    "    unique_sorted_datetimes = flat_df.get_column(\"datetime\").unique().sort()\n",
    "\n",
    "    for ohlcv_type in ohlcv_types:\n",
    "        try:\n",
    "            pivoted_df = flat_df.pivot(\n",
    "                index=\"datetime\",\n",
    "                on=\"symbol\",  # Changed \"columns\" to \"on\"\n",
    "                values=ohlcv_type\n",
    "            )\n",
    "            # Sort by datetime just in case pivoting changes order\n",
    "            pivoted_df = pivoted_df.sort(\"datetime\")\n",
    "            ohlcv_dict[ohlcv_type] = pivoted_df\n",
    "        except Exception as e:\n",
    "            # Handle potential errors during pivoting\n",
    "            print(f\"Error pivoting data for {ohlcv_type}: {e}. Creating empty structure for this type.\")\n",
    "            # Create an empty DataFrame with the expected structure\n",
    "            empty_df_for_type = pl.DataFrame({\"datetime\": unique_sorted_datetimes})\n",
    "            for sym in vt_symbols:\n",
    "                 empty_df_for_type = empty_df_for_type.with_columns(pl.lit(None, dtype=pl.Float64).alias(sym))\n",
    "            ohlcv_dict[ohlcv_type] = empty_df_for_type\n",
    "\n",
    "    return ohlcv_dict"
   ]
  },
  {
   "cell_type": "code",
   "execution_count": 11,
   "id": "0cff5cbb",
   "metadata": {},
   "outputs": [],
   "source": [
    "from datetime import timedelta\n",
    "\n",
    "\n",
    "end_dt = datetime.now()\n",
    "start_dt = end_dt - timedelta(days=5) # Generate for the last 30 minutes\n",
    "time_interval = \"1m\" # 5-minute interval\n",
    "\n",
    "ohlcv_data_dictionary = generate_fake_ohlcv_wide_dict(\n",
    "    start_date=start_dt,\n",
    "    end_date=end_dt,\n",
    "    interval=time_interval,\n",
    "    vt_symbols=vt_symbols\n",
    ")"
   ]
  },
  {
   "cell_type": "code",
   "execution_count": 12,
   "id": "9b969b45",
   "metadata": {},
   "outputs": [],
   "source": [
    "backtest_engine.memory_bar = ohlcv_data_dictionary\n",
    "backtest_engine.num_data_rows = backtest_engine.memory_bar[\"close\"].height"
   ]
  },
  {
   "cell_type": "code",
   "execution_count": 13,
   "id": "23eaec13",
   "metadata": {},
   "outputs": [
    {
     "data": {
      "text/plain": [
       "{'open': shape: (7_201, 4)\n",
       " ┌────────────────────────────────┬─────────────────┬─────────────────┬─────────────────┐\n",
       " │ datetime                       ┆ btcusdt.BINANCE ┆ ethusdt.BINANCE ┆ xrpusdt.BINANCE │\n",
       " │ ---                            ┆ ---             ┆ ---             ┆ ---             │\n",
       " │ datetime[μs, UTC]              ┆ f64             ┆ f64             ┆ f64             │\n",
       " ╞════════════════════════════════╪═════════════════╪═════════════════╪═════════════════╡\n",
       " │ 2025-05-31 05:45:38.897487 UTC ┆ 92.378695       ┆ 141.924696      ┆ 78.634087       │\n",
       " │ 2025-05-31 05:46:38.897487 UTC ┆ 99.487872       ┆ 80.028162       ┆ 125.192295      │\n",
       " │ 2025-05-31 05:47:38.897487 UTC ┆ 49.392837       ┆ 117.956937      ┆ 79.854268       │\n",
       " │ 2025-05-31 05:48:38.897487 UTC ┆ 55.552963       ┆ 115.965107      ┆ 88.856818       │\n",
       " │ 2025-05-31 05:49:38.897487 UTC ┆ 117.603122      ┆ 92.229428       ┆ 98.193345       │\n",
       " │ …                              ┆ …               ┆ …               ┆ …               │\n",
       " │ 2025-06-05 05:41:38.897487 UTC ┆ 123.808966      ┆ 75.260848       ┆ 118.092171      │\n",
       " │ 2025-06-05 05:42:38.897487 UTC ┆ 120.792742      ┆ 83.38716        ┆ 138.713654      │\n",
       " │ 2025-06-05 05:43:38.897487 UTC ┆ 123.631046      ┆ 59.382066       ┆ 130.606707      │\n",
       " │ 2025-06-05 05:44:38.897487 UTC ┆ 131.373987      ┆ 95.381996       ┆ 110.468894      │\n",
       " │ 2025-06-05 05:45:38.897487 UTC ┆ 69.567959       ┆ 115.622312      ┆ 103.402965      │\n",
       " └────────────────────────────────┴─────────────────┴─────────────────┴─────────────────┘,\n",
       " 'high': shape: (7_201, 4)\n",
       " ┌────────────────────────────────┬─────────────────┬─────────────────┬─────────────────┐\n",
       " │ datetime                       ┆ btcusdt.BINANCE ┆ ethusdt.BINANCE ┆ xrpusdt.BINANCE │\n",
       " │ ---                            ┆ ---             ┆ ---             ┆ ---             │\n",
       " │ datetime[μs, UTC]              ┆ f64             ┆ f64             ┆ f64             │\n",
       " ╞════════════════════════════════╪═════════════════╪═════════════════╪═════════════════╡\n",
       " │ 2025-05-31 05:45:38.897487 UTC ┆ 98.61069        ┆ 148.324921      ┆ 80.082545       │\n",
       " │ 2025-05-31 05:46:38.897487 UTC ┆ 100.168491      ┆ 81.602415       ┆ 133.227718      │\n",
       " │ 2025-05-31 05:47:38.897487 UTC ┆ 50.673847       ┆ 122.753186      ┆ 86.555522       │\n",
       " │ 2025-05-31 05:48:38.897487 UTC ┆ 61.838751       ┆ 120.57048       ┆ 93.486471       │\n",
       " │ 2025-05-31 05:49:38.897487 UTC ┆ 120.840729      ┆ 98.351901       ┆ 102.770471      │\n",
       " │ …                              ┆ …               ┆ …               ┆ …               │\n",
       " │ 2025-06-05 05:41:38.897487 UTC ┆ 129.484437      ┆ 79.472374       ┆ 122.243847      │\n",
       " │ 2025-06-05 05:42:38.897487 UTC ┆ 125.6675        ┆ 85.240258       ┆ 141.964929      │\n",
       " │ 2025-06-05 05:43:38.897487 UTC ┆ 128.245329      ┆ 61.955464       ┆ 134.964106      │\n",
       " │ 2025-06-05 05:44:38.897487 UTC ┆ 133.107628      ┆ 99.044688       ┆ 113.482918      │\n",
       " │ 2025-06-05 05:45:38.897487 UTC ┆ 70.504366       ┆ 116.840272      ┆ 108.229357      │\n",
       " └────────────────────────────────┴─────────────────┴─────────────────┴─────────────────┘,\n",
       " 'low': shape: (7_201, 4)\n",
       " ┌────────────────────────────────┬─────────────────┬─────────────────┬─────────────────┐\n",
       " │ datetime                       ┆ btcusdt.BINANCE ┆ ethusdt.BINANCE ┆ xrpusdt.BINANCE │\n",
       " │ ---                            ┆ ---             ┆ ---             ┆ ---             │\n",
       " │ datetime[μs, UTC]              ┆ f64             ┆ f64             ┆ f64             │\n",
       " ╞════════════════════════════════╪═════════════════╪═════════════════╪═════════════════╡\n",
       " │ 2025-05-31 05:45:38.897487 UTC ┆ 89.355588       ┆ 140.660477      ┆ 77.442234       │\n",
       " │ 2025-05-31 05:46:38.897487 UTC ┆ 94.48902        ┆ 74.617857       ┆ 122.855261      │\n",
       " │ 2025-05-31 05:47:38.897487 UTC ┆ 47.400405       ┆ 112.226435      ┆ 78.1487         │\n",
       " │ 2025-05-31 05:48:38.897487 UTC ┆ 52.323299       ┆ 113.022319      ┆ 82.074476       │\n",
       " │ 2025-05-31 05:49:38.897487 UTC ┆ 113.626721      ┆ 89.058995       ┆ 97.782925       │\n",
       " │ …                              ┆ …               ┆ …               ┆ …               │\n",
       " │ 2025-06-05 05:41:38.897487 UTC ┆ 122.238774      ┆ 71.250448       ┆ 114.254144      │\n",
       " │ 2025-06-05 05:42:38.897487 UTC ┆ 117.289709      ┆ 79.637386       ┆ 137.341396      │\n",
       " │ 2025-06-05 05:43:38.897487 UTC ┆ 120.272882      ┆ 56.549419       ┆ 129.383424      │\n",
       " │ 2025-06-05 05:44:38.897487 UTC ┆ 128.417686      ┆ 89.942148       ┆ 110.164476      │\n",
       " │ 2025-06-05 05:45:38.897487 UTC ┆ 62.717647       ┆ 114.70948       ┆ 102.713771      │\n",
       " └────────────────────────────────┴─────────────────┴─────────────────┴─────────────────┘,\n",
       " 'close': shape: (7_201, 4)\n",
       " ┌────────────────────────────────┬─────────────────┬─────────────────┬─────────────────┐\n",
       " │ datetime                       ┆ btcusdt.BINANCE ┆ ethusdt.BINANCE ┆ xrpusdt.BINANCE │\n",
       " │ ---                            ┆ ---             ┆ ---             ┆ ---             │\n",
       " │ datetime[μs, UTC]              ┆ f64             ┆ f64             ┆ f64             │\n",
       " ╞════════════════════════════════╪═════════════════╪═════════════════╪═════════════════╡\n",
       " │ 2025-05-31 05:45:38.897487 UTC ┆ 96.413515       ┆ 145.814226      ┆ 78.515374       │\n",
       " │ 2025-05-31 05:46:38.897487 UTC ┆ 95.153711       ┆ 75.530427       ┆ 128.381006      │\n",
       " │ 2025-05-31 05:47:38.897487 UTC ┆ 50.619516       ┆ 115.297304      ┆ 83.60243        │\n",
       " │ 2025-05-31 05:48:38.897487 UTC ┆ 57.952559       ┆ 113.947264      ┆ 87.048547       │\n",
       " │ 2025-05-31 05:49:38.897487 UTC ┆ 117.97702       ┆ 95.921161       ┆ 101.893671      │\n",
       " │ …                              ┆ …               ┆ …               ┆ …               │\n",
       " │ 2025-06-05 05:41:38.897487 UTC ┆ 126.011047      ┆ 76.251299       ┆ 119.31045       │\n",
       " │ 2025-06-05 05:42:38.897487 UTC ┆ 118.228783      ┆ 79.837436       ┆ 140.133214      │\n",
       " │ 2025-06-05 05:43:38.897487 UTC ┆ 122.972868      ┆ 59.546699       ┆ 131.619246      │\n",
       " │ 2025-06-05 05:44:38.897487 UTC ┆ 131.80754       ┆ 93.293729       ┆ 111.131075      │\n",
       " │ 2025-06-05 05:45:38.897487 UTC ┆ 67.631185       ┆ 116.515044      ┆ 105.105167      │\n",
       " └────────────────────────────────┴─────────────────┴─────────────────┴─────────────────┘,\n",
       " 'volume': shape: (7_201, 4)\n",
       " ┌────────────────────────────────┬─────────────────┬─────────────────┬─────────────────┐\n",
       " │ datetime                       ┆ btcusdt.BINANCE ┆ ethusdt.BINANCE ┆ xrpusdt.BINANCE │\n",
       " │ ---                            ┆ ---             ┆ ---             ┆ ---             │\n",
       " │ datetime[μs, UTC]              ┆ f64             ┆ f64             ┆ f64             │\n",
       " ╞════════════════════════════════╪═════════════════╪═════════════════╪═════════════════╡\n",
       " │ 2025-05-31 05:45:38.897487 UTC ┆ 655.0669        ┆ 631.997037      ┆ 539.998985      │\n",
       " │ 2025-05-31 05:46:38.897487 UTC ┆ 763.642973      ┆ 881.808517      ┆ 785.922212      │\n",
       " │ 2025-05-31 05:47:38.897487 UTC ┆ 1233.611446     ┆ 761.818109      ┆ 1393.251399     │\n",
       " │ 2025-05-31 05:48:38.897487 UTC ┆ 514.728005      ┆ 607.38909       ┆ 947.066297      │\n",
       " │ 2025-05-31 05:49:38.897487 UTC ┆ 1128.057846     ┆ 822.354594      ┆ 1210.425109     │\n",
       " │ …                              ┆ …               ┆ …               ┆ …               │\n",
       " │ 2025-06-05 05:41:38.897487 UTC ┆ 514.394305      ┆ 1429.314504     ┆ 830.00852       │\n",
       " │ 2025-06-05 05:42:38.897487 UTC ┆ 613.613731      ┆ 648.760646      ┆ 1250.750736     │\n",
       " │ 2025-06-05 05:43:38.897487 UTC ┆ 1284.272794     ┆ 568.408777      ┆ 1206.518783     │\n",
       " │ 2025-06-05 05:44:38.897487 UTC ┆ 1159.332376     ┆ 1065.687576     ┆ 699.688217      │\n",
       " │ 2025-06-05 05:45:38.897487 UTC ┆ 970.489092      ┆ 1239.489765     ┆ 747.769725      │\n",
       " └────────────────────────────────┴─────────────────┴─────────────────┴─────────────────┘}"
      ]
     },
     "execution_count": 13,
     "metadata": {},
     "output_type": "execute_result"
    }
   ],
   "source": [
    "ohlcv_data_dictionary"
   ]
  },
  {
   "cell_type": "code",
   "execution_count": 14,
   "id": "b866cda2",
   "metadata": {},
   "outputs": [
    {
     "name": "stdout",
     "output_type": "stream",
     "text": [
      "\u001b[32m2025-06-05 05:45:39.034\u001b[0m | \u001b[1mINFO\u001b[0m | \u001b[36mFactorMakerBacktestOrchestrator\u001b[0m | \u001b[1m[FactorMakerBacktestOrchestrator] Starting factor value computation phase...\u001b[0m\n",
      "\u001b[32m2025-06-05 05:45:39.036\u001b[0m | \u001b[34m\u001b[1mDEBUG\u001b[0m | \u001b[36mFactorMakerFactorCalculator\u001b[0m | \u001b[34m\u001b[1m[FactorMakerFactorCalculator] Aligning vt_symbols in factor 'factor_1m_emafactor@period_12' to ['btcusdt.BINANCE', 'ethusdt.BINANCE', 'xrpusdt.BINANCE']\u001b[0m\n",
      "\u001b[32m2025-06-05 05:45:39.036\u001b[0m | \u001b[34m\u001b[1mDEBUG\u001b[0m | \u001b[36mFactorMakerFactorCalculator\u001b[0m | \u001b[34m\u001b[1m[FactorMakerFactorCalculator] Aligning vt_symbols in factor 'factor_1m_emafactor@period_26' to ['btcusdt.BINANCE', 'ethusdt.BINANCE', 'xrpusdt.BINANCE']\u001b[0m\n",
      "\u001b[32m2025-06-05 05:45:39.037\u001b[0m | \u001b[1mINFO\u001b[0m | \u001b[36mFactorMakerFactorCalculator\u001b[0m | \u001b[1m[FactorMakerFactorCalculator] Starting calculation for: factor_1m_macdfactor@signal_period_9 with symbols ['btcusdt.BINANCE', 'ethusdt.BINANCE', 'xrpusdt.BINANCE']\u001b[0m\n",
      "\u001b[32m2025-06-05 05:45:39.037\u001b[0m | \u001b[34m\u001b[1mDEBUG\u001b[0m | \u001b[36mFactorMakerFactorCalculator\u001b[0m | \u001b[34m\u001b[1m[FactorMakerFactorCalculator] Determined calculation order for 3 factors.\u001b[0m\n",
      "\u001b[32m2025-06-05 05:45:39.038\u001b[0m | \u001b[1mINFO\u001b[0m | \u001b[36mFactorMakerFactorCalculator\u001b[0m | \u001b[1m[FactorMakerFactorCalculator] Initializing factor memory for 3 factors...\u001b[0m\n",
      "Initialized factor memory file: /Users/chenzhao/Documents/crypto_vnpy/vnpy/tests/.vnpy/factor/cache/backtest_factor_data_cache/factor_1m_macdfactor@signal_period_9.arrow with schema: {'datetime': Datetime(time_unit='us', time_zone='UTC'), 'btcusdt.BINANCE': Float64, 'ethusdt.BINANCE': Float64, 'xrpusdt.BINANCE': Float64}\n",
      "\u001b[32m2025-06-05 05:45:39.082\u001b[0m | \u001b[1mINFO\u001b[0m | \u001b[36mFactorMakerFactorCalculator\u001b[0m | \u001b[1m[FactorMakerFactorCalculator] Initialized 3 FactorMemory instances.\u001b[0m\n",
      "\u001b[32m2025-06-05 05:45:39.082\u001b[0m | \u001b[1mINFO\u001b[0m | \u001b[36mFactorMakerFactorCalculator\u001b[0m | \u001b[1m[FactorMakerFactorCalculator] Building Dask graph for 3 factors...\u001b[0m\n",
      "\u001b[32m2025-06-05 05:45:39.084\u001b[0m | \u001b[1mINFO\u001b[0m | \u001b[36mFactorMakerFactorCalculator\u001b[0m | \u001b[1m[FactorMakerFactorCalculator] Built Dask graph with 3 tasks.\u001b[0m\n",
      "\u001b[32m2025-06-05 05:45:39.085\u001b[0m | \u001b[1mINFO\u001b[0m | \u001b[36mFactorMakerFactorCalculator\u001b[0m | \u001b[1m[FactorMakerFactorCalculator] Executing Dask graph for 3 factors...\u001b[0m\n",
      "[########################################] | 100% Completed | 105.85 ms\n",
      "\u001b[32m2025-06-05 05:45:39.329\u001b[0m | \u001b[1mINFO\u001b[0m | \u001b[36mFactorMakerFactorCalculator\u001b[0m | \u001b[1m[FactorMakerFactorCalculator] Dask computation finished in 0.244s.\u001b[0m\n",
      "\u001b[32m2025-06-05 05:45:39.385\u001b[0m | \u001b[34m\u001b[1mDEBUG\u001b[0m | \u001b[36mFactorMakerFactorCalculator\u001b[0m | \u001b[34m\u001b[1m[FactorMakerFactorCalculator] GC performed.\u001b[0m\n",
      "\u001b[32m2025-06-05 05:45:39.386\u001b[0m | \u001b[1mINFO\u001b[0m | \u001b[36mFactorMakerFactorCalculator\u001b[0m | \u001b[1m[FactorMakerFactorCalculator] Successfully retrieved data for 'factor_1m_macdfactor@signal_period_9'. Shape: (7201, 4)\u001b[0m\n"
     ]
    }
   ],
   "source": [
    "factor_df = backtest_engine._run_factor_computation(\n",
    "        calculator=calculator,\n",
    "        target_factor_instance=target_factor_instance,\n",
    "        flattened_factors=flattened_factors,\n",
    "        vt_symbols_for_run=vt_symbols,  # Use the symbols for this specific run\n",
    "    )"
   ]
  },
  {
   "cell_type": "code",
   "execution_count": 15,
   "id": "1c158b1d",
   "metadata": {},
   "outputs": [
    {
     "data": {
      "text/html": [
       "<div><style>\n",
       ".dataframe > thead > tr,\n",
       ".dataframe > tbody > tr {\n",
       "  text-align: right;\n",
       "  white-space: pre-wrap;\n",
       "}\n",
       "</style>\n",
       "<small>shape: (7_201, 4)</small><table border=\"1\" class=\"dataframe\"><thead><tr><th>datetime</th><th>btcusdt.BINANCE</th><th>ethusdt.BINANCE</th><th>xrpusdt.BINANCE</th></tr><tr><td>datetime[μs, UTC]</td><td>f64</td><td>f64</td><td>f64</td></tr></thead><tbody><tr><td>2025-05-31 05:45:38.897487 UTC</td><td>0.0</td><td>0.0</td><td>0.0</td></tr><tr><td>2025-05-31 05:46:38.897487 UTC</td><td>-0.080398</td><td>-4.485348</td><td>3.182308</td></tr><tr><td>2025-05-31 05:47:38.897487 UTC</td><td>-2.96846</td><td>-4.513495</td><td>2.145178</td></tr><tr><td>2025-05-31 05:48:38.897487 UTC</td><td>-4.148103</td><td>-4.360179</td><td>1.590452</td></tr><tr><td>2025-05-31 05:49:38.897487 UTC</td><td>-0.823006</td><td>-5.155451</td><td>2.091</td></tr><tr><td>&hellip;</td><td>&hellip;</td><td>&hellip;</td><td>&hellip;</td></tr><tr><td>2025-06-05 05:41:38.897487 UTC</td><td>1.208305</td><td>1.223247</td><td>0.086871</td></tr><tr><td>2025-06-05 05:42:38.897487 UTC</td><td>2.102586</td><td>0.217333</td><td>2.325433</td></tr><tr><td>2025-06-05 05:43:38.897487 UTC</td><td>2.868933</td><td>-1.705968</td><td>3.040766</td></tr><tr><td>2025-06-05 05:44:38.897487 UTC</td><td>3.769433</td><td>-0.650993</td><td>1.992774</td></tr><tr><td>2025-06-05 05:45:38.897487 UTC</td><td>0.038828</td><td>1.54516</td><td>0.812907</td></tr></tbody></table></div>"
      ],
      "text/plain": [
       "shape: (7_201, 4)\n",
       "┌────────────────────────────────┬─────────────────┬─────────────────┬─────────────────┐\n",
       "│ datetime                       ┆ btcusdt.BINANCE ┆ ethusdt.BINANCE ┆ xrpusdt.BINANCE │\n",
       "│ ---                            ┆ ---             ┆ ---             ┆ ---             │\n",
       "│ datetime[μs, UTC]              ┆ f64             ┆ f64             ┆ f64             │\n",
       "╞════════════════════════════════╪═════════════════╪═════════════════╪═════════════════╡\n",
       "│ 2025-05-31 05:45:38.897487 UTC ┆ 0.0             ┆ 0.0             ┆ 0.0             │\n",
       "│ 2025-05-31 05:46:38.897487 UTC ┆ -0.080398       ┆ -4.485348       ┆ 3.182308        │\n",
       "│ 2025-05-31 05:47:38.897487 UTC ┆ -2.96846        ┆ -4.513495       ┆ 2.145178        │\n",
       "│ 2025-05-31 05:48:38.897487 UTC ┆ -4.148103       ┆ -4.360179       ┆ 1.590452        │\n",
       "│ 2025-05-31 05:49:38.897487 UTC ┆ -0.823006       ┆ -5.155451       ┆ 2.091           │\n",
       "│ …                              ┆ …               ┆ …               ┆ …               │\n",
       "│ 2025-06-05 05:41:38.897487 UTC ┆ 1.208305        ┆ 1.223247        ┆ 0.086871        │\n",
       "│ 2025-06-05 05:42:38.897487 UTC ┆ 2.102586        ┆ 0.217333        ┆ 2.325433        │\n",
       "│ 2025-06-05 05:43:38.897487 UTC ┆ 2.868933        ┆ -1.705968       ┆ 3.040766        │\n",
       "│ 2025-06-05 05:44:38.897487 UTC ┆ 3.769433        ┆ -0.650993       ┆ 1.992774        │\n",
       "│ 2025-06-05 05:45:38.897487 UTC ┆ 0.038828        ┆ 1.54516         ┆ 0.812907        │\n",
       "└────────────────────────────────┴─────────────────┴─────────────────┴─────────────────┘"
      ]
     },
     "execution_count": 15,
     "metadata": {},
     "output_type": "execute_result"
    }
   ],
   "source": [
    "factor_df"
   ]
  },
  {
   "cell_type": "code",
   "execution_count": 16,
   "id": "823f9d57",
   "metadata": {},
   "outputs": [
    {
     "name": "stdout",
     "output_type": "stream",
     "text": [
      "\u001b[32m2025-06-05 05:45:39.397\u001b[0m | \u001b[1mINFO\u001b[0m | \u001b[36mFactorMakerFactorCalculator\u001b[0m | \u001b[1m[FactorMakerFactorCalculator] FactorCalculator closed.\u001b[0m\n",
      "\u001b[32m2025-06-05 05:45:39.445\u001b[0m | \u001b[34m\u001b[1mDEBUG\u001b[0m | \u001b[36mFactorMakerFactorCalculator\u001b[0m | \u001b[34m\u001b[1m[FactorMakerFactorCalculator] GC performed.\u001b[0m\n",
      "Factor memory file cleared and re-initialized: /Users/chenzhao/Documents/crypto_vnpy/vnpy/tests/.vnpy/factor/cache/backtest_factor_data_cache/factor_1m_emafactor@period_12.arrow\n",
      "Factor memory file cleared and re-initialized: /Users/chenzhao/Documents/crypto_vnpy/vnpy/tests/.vnpy/factor/cache/backtest_factor_data_cache/factor_1m_emafactor@period_26.arrow\n",
      "Factor memory file cleared and re-initialized: /Users/chenzhao/Documents/crypto_vnpy/vnpy/tests/.vnpy/factor/cache/backtest_factor_data_cache/factor_1m_macdfactor@signal_period_9.arrow\n",
      "\u001b[32m2025-06-05 05:45:39.447\u001b[0m | \u001b[34m\u001b[1mDEBUG\u001b[0m | \u001b[36mFactorMakerFactorCalculator\u001b[0m | \u001b[34m\u001b[1m[FactorMakerFactorCalculator] FactorMemory instances cleared.\u001b[0m\n"
     ]
    }
   ],
   "source": [
    "calculator.close()"
   ]
  },
  {
   "cell_type": "code",
   "execution_count": 17,
   "id": "97fa6b27",
   "metadata": {},
   "outputs": [],
   "source": [
    "market_close_prices_df = backtest_engine.memory_bar[\"close\"].clone()"
   ]
  },
  {
   "cell_type": "code",
   "execution_count": 18,
   "id": "d38e63ba",
   "metadata": {},
   "outputs": [],
   "source": [
    "actual_analysis_start_dt = factor_df.select(pl.col('datetime').min()).item()\n",
    "actual_analysis_end_dt = factor_df.select(pl.col('datetime').max()).item()"
   ]
  },
  {
   "cell_type": "code",
   "execution_count": 19,
   "id": "4c3c7385",
   "metadata": {},
   "outputs": [
    {
     "name": "stdout",
     "output_type": "stream",
     "text": [
      "\u001b[32m2025-06-05 05:45:39.464\u001b[0m | \u001b[1mINFO\u001b[0m | \u001b[36mFactorMakerBacktestOrchestrator\u001b[0m | \u001b[1m[FactorMakerBacktestOrchestrator] Starting factor analysis phase...\u001b[0m\n",
      "\u001b[32m2025-06-05 05:45:39.465\u001b[0m | \u001b[1mINFO\u001b[0m | \u001b[36mFactorMakerFactorAnalyser\u001b[0m | \u001b[1m[FactorMakerFactorAnalyser] FactorAnalyser initialized. Report dir: /Users/chenzhao/Documents/crypto_vnpy/vnpy/tests/.vnpy/factor/reports/backtest_reports\u001b[0m\n",
      "\u001b[32m2025-06-05 05:45:39.466\u001b[0m | \u001b[1mINFO\u001b[0m | \u001b[36mFactorMakerFactorAnalyser\u001b[0m | \u001b[1m[FactorMakerFactorAnalyser] Starting analysis for factor: factor_1m_macdfactor@signal_period_9\u001b[0m\n",
      "\u001b[32m2025-06-05 05:45:39.466\u001b[0m | \u001b[1mINFO\u001b[0m | \u001b[36mFactorMakerFactorAnalyser\u001b[0m | \u001b[1m[FactorMakerFactorAnalyser] Preparing 1-period symbol forward returns data...\u001b[0m\n",
      "\u001b[32m2025-06-05 05:45:39.468\u001b[0m | \u001b[1mINFO\u001b[0m | \u001b[36mFactorMakerFactorAnalyser\u001b[0m | \u001b[1m[FactorMakerFactorAnalyser] Symbol forward returns prepared for 3 symbols.\u001b[0m\n",
      "\u001b[32m2025-06-05 05:45:39.470\u001b[0m | \u001b[1mINFO\u001b[0m | \u001b[36mFactorMakerFactorAnalyser\u001b[0m | \u001b[1m[FactorMakerFactorAnalyser] Preparing analysis data...\u001b[0m\n",
      "\u001b[32m2025-06-05 05:45:39.474\u001b[0m | \u001b[1mINFO\u001b[0m | \u001b[36mFactorMakerFactorAnalyser\u001b[0m | \u001b[1m[FactorMakerFactorAnalyser] Analysis data prepared successfully.\u001b[0m\n",
      "\u001b[32m2025-06-05 05:45:39.475\u001b[0m | \u001b[1mINFO\u001b[0m | \u001b[36mFactorMakerFactorAnalyser\u001b[0m | \u001b[1m[FactorMakerFactorAnalyser] Performing quantile analysis (2 quantiles)...\u001b[0m\n",
      "\u001b[32m2025-06-05 05:45:39.544\u001b[0m | \u001b[1mINFO\u001b[0m | \u001b[36mFactorMakerFactorAnalyser\u001b[0m | \u001b[1m[FactorMakerFactorAnalyser] Quantile analysis completed.\u001b[0m\n",
      "\u001b[32m2025-06-05 05:45:39.545\u001b[0m | \u001b[1mINFO\u001b[0m | \u001b[36mFactorMakerFactorAnalyser\u001b[0m | \u001b[1m[FactorMakerFactorAnalyser] Performing L/S analysis (top/bottom 50%)...\u001b[0m\n",
      "\u001b[32m2025-06-05 05:45:39.555\u001b[0m | \u001b[1mINFO\u001b[0m | \u001b[36mFactorMakerFactorAnalyser\u001b[0m | \u001b[1m[FactorMakerFactorAnalyser] L/S Portfolio Stats: {'mean_return': -0.32208323622980545, 'std_return': 0.4809614374307317, 'sharpe_ratio': -10.63060875415395, 't_stat': -56.82299395840551}\u001b[0m\n",
      "\u001b[32m2025-06-05 05:45:39.556\u001b[0m | \u001b[1mINFO\u001b[0m | \u001b[36mFactorMakerFactorAnalyser\u001b[0m | \u001b[1m[FactorMakerFactorAnalyser] Generating report data...\u001b[0m\n",
      "\u001b[32m2025-06-05 05:45:39.556\u001b[0m | \u001b[1mINFO\u001b[0m | \u001b[36mFactorMakerFactorAnalyser\u001b[0m | \u001b[1m[FactorMakerFactorAnalyser] Report saved: /Users/chenzhao/Documents/crypto_vnpy/vnpy/tests/.vnpy/factor/reports/backtest_reports/test_factor_1m_macdfactor@signal_period_9_20250605_054539.json\u001b[0m\n",
      "\u001b[32m2025-06-05 05:45:39.557\u001b[0m | \u001b[1mINFO\u001b[0m | \u001b[36mFactorMakerFactorAnalyser\u001b[0m | \u001b[1m[FactorMakerFactorAnalyser] FactorAnalyser closed.\u001b[0m\n"
     ]
    }
   ],
   "source": [
    "report_path = backtest_engine._run_factor_analysis(\n",
    "    factor_df=factor_df,\n",
    "    market_close_prices_df=market_close_prices_df,\n",
    "    target_factor_instance=target_factor_instance,\n",
    "    analysis_start_dt=actual_analysis_start_dt,\n",
    "    analysis_end_dt=actual_analysis_end_dt,\n",
    "    num_quantiles=2,\n",
    "    returns_look_ahead_period=1,\n",
    "    long_percentile_threshold=0.5,\n",
    "    short_percentile_threshold=0.5,\n",
    "    report_filename_prefix='test',\n",
    ")"
   ]
  }
 ],
 "metadata": {
  "kernelspec": {
   "display_name": "venv",
   "language": "python",
   "name": "python3"
  },
  "language_info": {
   "codemirror_mode": {
    "name": "ipython",
    "version": 3
   },
   "file_extension": ".py",
   "mimetype": "text/x-python",
   "name": "python",
   "nbconvert_exporter": "python",
   "pygments_lexer": "ipython3",
   "version": "3.12.9"
  }
 },
 "nbformat": 4,
 "nbformat_minor": 5
}
