{
 "cells": [
  {
   "cell_type": "code",
   "execution_count": 1,
   "id": "908e66dd",
   "metadata": {},
   "outputs": [
    {
     "name": "stdout",
     "output_type": "stream",
     "text": [
      "[vnpy.trader.setting] Updated SETTINGS from vt_setting.json\n",
      "\u001b[32m2025-06-05 05:34:14.834\u001b[0m | \u001b[1mINFO\u001b[0m | \u001b[36mFactorMakerBacktestOrchestrator\u001b[0m | \u001b[1m[FactorMakerBacktestOrchestrator] Successfully imported factor module: 'vnpy.factor.factors'\u001b[0m\n",
      "\u001b[32m2025-06-05 05:34:14.835\u001b[0m | \u001b[1mINFO\u001b[0m | \u001b[36mFactorMakerBacktestOrchestrator\u001b[0m | \u001b[1m[FactorMakerBacktestOrchestrator] FactorMakerBacktestOrchestrator initialized.\u001b[0m\n"
     ]
    }
   ],
   "source": [
    "%matplotlib inline\n",
    "from vnpy.factor.backtesting.backtesting import BacktestEngine\n",
    "from vnpy.factor.setting import get_backtest_data_cache_path, get_backtest_report_path\n",
    "\n",
    "\n",
    "backtest_engine = BacktestEngine(\n",
    "    factor_module_name=\"vnpy.factor.factors\",\n",
    "    output_data_dir_for_analyser_reports=get_backtest_report_path(),\n",
    "    output_data_dir_for_calculator_cache=get_backtest_data_cache_path()\n",
    ")"
   ]
  },
  {
   "cell_type": "code",
   "execution_count": 2,
   "id": "b9ac7d41",
   "metadata": {},
   "outputs": [],
   "source": [
    "vt_symbols = ['btcusdt.BINANCE', 'ethusdt.BINANCE', 'xrpusdt.BINANCE']"
   ]
  },
  {
   "cell_type": "code",
   "execution_count": 3,
   "id": "71c3bd16",
   "metadata": {},
   "outputs": [
    {
     "data": {
      "text/plain": [
       "PosixPath('/Users/chenzhao/Documents/crypto_vnpy/vnpy/tests/.vnpy/factor/cache/backtest_factor_data_cache')"
      ]
     },
     "execution_count": 3,
     "metadata": {},
     "output_type": "execute_result"
    }
   ],
   "source": [
    "backtest_engine.output_data_dir_for_calculator_cache"
   ]
  },
  {
   "cell_type": "code",
   "execution_count": 4,
   "id": "048570ae",
   "metadata": {},
   "outputs": [],
   "source": [
    "from vnpy.factor.setting import FACTOR_DEFINITIONS_FILEPATH\n",
    "from vnpy.factor.utils.factor_utils import load_factor_setting\n",
    "\n",
    "\n",
    "factor_definations = load_factor_setting(FACTOR_DEFINITIONS_FILEPATH)"
   ]
  },
  {
   "cell_type": "code",
   "execution_count": 5,
   "id": "5d9ff54e",
   "metadata": {},
   "outputs": [
    {
     "data": {
      "text/plain": [
       "{'class_name': 'MACDFactor',\n",
       " 'factor_name': 'MACDFactor',\n",
       " 'factor_key': 'factor_1m_macdfactor@fast_period_12-signal_period_9-slow_period_26',\n",
       " 'freq': '1m',\n",
       " 'params': {'fast_period': 12, 'slow_period': 26, 'signal_period': 9},\n",
       " 'dependencies_factor': [{'class_name': 'EMAFactor',\n",
       "   'factor_name': 'fast_ema',\n",
       "   'factor_key': 'factor_1m_emafactor@period_12',\n",
       "   'freq': '1m',\n",
       "   'params': {'period': 12},\n",
       "   'dependencies_factor': [],\n",
       "   'dependencies_freq': [],\n",
       "   'dependencies_symbol': [],\n",
       "   'dependencies_exchange': [],\n",
       "   'last_run_datetime': '2025-06-04 15:35:49',\n",
       "   'factor_mode': 'LIVE'},\n",
       "  {'class_name': 'EMAFactor',\n",
       "   'factor_name': 'slow_ema',\n",
       "   'factor_key': 'factor_1m_emafactor@period_26',\n",
       "   'freq': '1m',\n",
       "   'params': {'period': 26},\n",
       "   'dependencies_factor': [],\n",
       "   'dependencies_freq': [],\n",
       "   'dependencies_symbol': [],\n",
       "   'dependencies_exchange': [],\n",
       "   'last_run_datetime': '2025-06-04 15:35:49',\n",
       "   'factor_mode': 'LIVE'}],\n",
       " 'dependencies_freq': [],\n",
       " 'dependencies_symbol': [],\n",
       " 'dependencies_exchange': [],\n",
       " 'last_run_datetime': '2025-06-04 15:35:49',\n",
       " 'factor_mode': 'LIVE'}"
      ]
     },
     "execution_count": 5,
     "metadata": {},
     "output_type": "execute_result"
    }
   ],
   "source": [
    "macd_factor_defination = factor_definations[2]\n",
    "macd_factor_defination"
   ]
  },
  {
   "cell_type": "code",
   "execution_count": 6,
   "id": "49436d64",
   "metadata": {},
   "outputs": [],
   "source": [
    "import importlib\n",
    "\n",
    "from vnpy.factor.utils.factor_utils import init_factors\n",
    "\n",
    "\n",
    "factor_module = importlib.import_module(\"vnpy.factor.factors\")\n",
    "macd_factor = init_factors(\n",
    "    module_for_primary_classes=factor_module,\n",
    "    settings_data=[macd_factor_defination],\n",
    "    dependencies_module_lookup_for_instances=factor_module\n",
    ")[0]"
   ]
  },
  {
   "cell_type": "code",
   "execution_count": 7,
   "id": "0cdaeeb7",
   "metadata": {},
   "outputs": [
    {
     "data": {
      "text/plain": [
       "{'fast_period': 12,\n",
       " 'slow_period': 26,\n",
       " 'signal_period': 9,\n",
       " 'fast_ema.period': 12,\n",
       " 'slow_ema.period': 26}"
      ]
     },
     "execution_count": 7,
     "metadata": {},
     "output_type": "execute_result"
    }
   ],
   "source": [
    "macd_factor.get_nested_params_for_optimizer()"
   ]
  },
  {
   "cell_type": "code",
   "execution_count": 8,
   "id": "add6df2e",
   "metadata": {},
   "outputs": [
    {
     "name": "stdout",
     "output_type": "stream",
     "text": [
      "\u001b[32m2025-06-05 05:34:14.881\u001b[0m | \u001b[1mINFO\u001b[0m | \u001b[36mFactorMakerBacktestOrchestrator\u001b[0m | \u001b[1m[FactorMakerBacktestOrchestrator] Initializing and flattening factor based on definition. Symbols: ['btcusdt.BINANCE', 'ethusdt.BINANCE', 'xrpusdt.BINANCE']\u001b[0m\n",
      "\u001b[32m2025-06-05 05:34:14.881\u001b[0m | \u001b[1mINFO\u001b[0m | \u001b[36mFactorMakerBacktestOrchestrator\u001b[0m | \u001b[1m[FactorMakerBacktestOrchestrator] Target factor instance created: factor_1m_macdfactor@fast_period_12-signal_period_9-slow_period_26\u001b[0m\n",
      "\u001b[32m2025-06-05 05:34:14.882\u001b[0m | \u001b[34m\u001b[1mDEBUG\u001b[0m | \u001b[36mFactorMakerBacktestOrchestrator\u001b[0m | \u001b[34m\u001b[1m[FactorMakerBacktestOrchestrator] Factor tree flattened. Total factors in graph: 3\u001b[0m\n"
     ]
    }
   ],
   "source": [
    "target_factor_instance, flattened_factors = backtest_engine._init_and_flatten_factor(macd_factor, vt_symbols)"
   ]
  },
  {
   "cell_type": "code",
   "execution_count": 9,
   "id": "1b7b44c4",
   "metadata": {},
   "outputs": [
    {
     "name": "stdout",
     "output_type": "stream",
     "text": [
      "\u001b[32m2025-06-05 05:34:14.887\u001b[0m | \u001b[1mINFO\u001b[0m | \u001b[36mFactorMakerFactorCalculator\u001b[0m | \u001b[1m[FactorMakerFactorCalculator] FactorCalculator initialized. Factor cache dir: /Users/chenzhao/Documents/crypto_vnpy/vnpy/tests/.vnpy/factor/cache/backtest_factor_data_cache\u001b[0m\n",
      "\u001b[32m2025-06-05 05:34:14.918\u001b[0m | \u001b[1mINFO\u001b[0m | \u001b[36mFactorMakerFactorCalculator\u001b[0m | \u001b[1m[FactorMakerFactorCalculator] Factor cache directory ensured at: /Users/chenzhao/Documents/crypto_vnpy/vnpy/tests/.vnpy/factor/cache/backtest_factor_data_cache\u001b[0m\n"
     ]
    }
   ],
   "source": [
    "calculator = backtest_engine._create_calculator()"
   ]
  },
  {
   "cell_type": "code",
   "execution_count": null,
   "id": "34270fbd",
   "metadata": {},
   "outputs": [],
   "source": [
    "from datetime import datetime\n",
    "\n",
    "import numpy as np\n",
    "import polars as pl\n",
    "from typing import List, Dict\n",
    "\n",
    "# Schema for the intermediate flat DataFrame\n",
    "_OHLCV_FLAT_SCHEMA = {\n",
    "    \"datetime\": pl.Datetime(time_unit=\"us\", time_zone='UTC'),\n",
    "    \"symbol\": pl.Utf8,\n",
    "    \"open\": pl.Float64,\n",
    "    \"high\": pl.Float64,\n",
    "    \"low\": pl.Float64,\n",
    "    \"close\": pl.Float64,\n",
    "    \"volume\": pl.Float64,\n",
    "}\n",
    "\n",
    "\n",
    "def generate_fake_ohlcv_wide_dict(\n",
    "    start_date: datetime,\n",
    "    end_date: datetime,\n",
    "    interval: str,\n",
    "    vt_symbols: List[str]\n",
    ") -> Dict[str, pl.DataFrame]:\n",
    "    \"\"\"\n",
    "    Generates a dictionary of Polars DataFrames with fake OHLCV data.\n",
    "    Each key in the dictionary is an OHLCV type (\"open\", \"high\", \"low\", \"close\", \"volume\").\n",
    "    Each DataFrame has a \"datetime\" column and columns for each symbol in vt_symbols,\n",
    "    containing the respective OHLCV values.\n",
    "\n",
    "    Args:\n",
    "        start_date: The start datetime for the data generation.\n",
    "        end_date: The end datetime for the data generation.\n",
    "        interval: Polars interval string for fake data generation (e.g., \"1m\", \"1h\").\n",
    "        vt_symbols: List of symbol strings (e.g., [\"BTCUSDT\", \"ETHUSDT\"]).\n",
    "\n",
    "    Returns:\n",
    "        Dict[str, pl.DataFrame]: A dictionary where keys are OHLCV types and\n",
    "                                 values are \"wide\" DataFrames. Returns an empty\n",
    "                                 dictionary if no data can be generated.\n",
    "    \"\"\"\n",
    "    if not vt_symbols:\n",
    "        return {}\n",
    "\n",
    "    # --- Inlined logic from _generate_fake_ohlcv_flat_df ---\n",
    "    flat_df: pl.DataFrame\n",
    "    try:\n",
    "        fake_dates = pl.datetime_range(\n",
    "            start=start_date,\n",
    "            end=end_date,\n",
    "            interval=interval,\n",
    "            time_unit=\"us\",  # Assuming interval is in minutes\n",
    "            eager=True,\n",
    "            time_zone=\"UTC\"\n",
    "        )\n",
    "    except Exception: # Handle potential errors in datetime_range\n",
    "        return {} # Return empty dict if date range generation fails\n",
    "\n",
    "    if len(fake_dates) == 0:\n",
    "        return {} # Return empty dict if no dates are generated\n",
    "\n",
    "    num_fake_rows_per_symbol = len(fake_dates)\n",
    "    all_rows_data = []\n",
    "\n",
    "    for symbol in vt_symbols:\n",
    "        # Generate somewhat realistic OHLCV data\n",
    "        close_prices = np.random.rand(num_fake_rows_per_symbol) * 100 + 50\n",
    "        open_prices = close_prices + (np.random.rand(num_fake_rows_per_symbol) - 0.5) * 10\n",
    "        high_prices = np.maximum(open_prices, close_prices) + np.random.rand(num_fake_rows_per_symbol) * 5\n",
    "        low_prices = np.minimum(open_prices, close_prices) - np.random.rand(num_fake_rows_per_symbol) * 5\n",
    "        low_prices = np.maximum(low_prices, 0.01) # Ensure low is not zero or negative\n",
    "        volumes = np.random.rand(num_fake_rows_per_symbol) * 1000 + 500\n",
    "\n",
    "        for i in range(num_fake_rows_per_symbol):\n",
    "            all_rows_data.append({\n",
    "                \"datetime\": fake_dates[i],\n",
    "                \"symbol\": symbol,\n",
    "                \"open\": open_prices[i],\n",
    "                \"high\": high_prices[i],\n",
    "                \"low\": low_prices[i],\n",
    "                \"close\": close_prices[i],\n",
    "                \"volume\": volumes[i],\n",
    "            })\n",
    "\n",
    "    if not all_rows_data: # Should only happen if vt_symbols was empty, but that's checked above\n",
    "        return {}\n",
    "\n",
    "    flat_df = pl.DataFrame(all_rows_data, schema=_OHLCV_FLAT_SCHEMA)\n",
    "    # --- End of inlined logic ---\n",
    "\n",
    "    if flat_df.is_empty(): # Double check, though previous checks should cover this\n",
    "        return {}\n",
    "\n",
    "    ohlcv_dict: Dict[str, pl.DataFrame] = {}\n",
    "    ohlcv_types = [\"open\", \"high\", \"low\", \"close\", \"volume\"]\n",
    "\n",
    "    # Get unique sorted datetimes once for potential error case in pivot\n",
    "    unique_sorted_datetimes = flat_df.get_column(\"datetime\").unique().sort()\n",
    "\n",
    "    for ohlcv_type in ohlcv_types:\n",
    "        try:\n",
    "            pivoted_df = flat_df.pivot(\n",
    "                index=\"datetime\",\n",
    "                on=\"symbol\",  # Changed \"columns\" to \"on\"\n",
    "                values=ohlcv_type\n",
    "            )\n",
    "            # Sort by datetime just in case pivoting changes order\n",
    "            pivoted_df = pivoted_df.sort(\"datetime\")\n",
    "            ohlcv_dict[ohlcv_type] = pivoted_df\n",
    "        except Exception as e:\n",
    "            # Handle potential errors during pivoting\n",
    "            print(f\"Error pivoting data for {ohlcv_type}: {e}. Creating empty structure for this type.\")\n",
    "            # Create an empty DataFrame with the expected structure\n",
    "            empty_df_for_type = pl.DataFrame({\"datetime\": unique_sorted_datetimes})\n",
    "            for sym in vt_symbols:\n",
    "                 empty_df_for_type = empty_df_for_type.with_columns(pl.lit(None, dtype=pl.Float64).alias(sym))\n",
    "            ohlcv_dict[ohlcv_type] = empty_df_for_type\n",
    "\n",
    "    return ohlcv_dict"
   ]
  },
  {
   "cell_type": "code",
   "execution_count": 11,
   "id": "0cff5cbb",
   "metadata": {},
   "outputs": [],
   "source": [
    "from datetime import timedelta\n",
    "\n",
    "\n",
    "end_dt = datetime.now()\n",
    "start_dt = end_dt - timedelta(days=5) # Generate for the last 30 minutes\n",
    "time_interval = \"1m\" # 5-minute interval\n",
    "\n",
    "ohlcv_data_dictionary = generate_fake_ohlcv_wide_dict(\n",
    "    start_date=start_dt,\n",
    "    end_date=end_dt,\n",
    "    interval=time_interval,\n",
    "    vt_symbols=vt_symbols\n",
    ")"
   ]
  },
  {
   "cell_type": "code",
   "execution_count": 12,
   "id": "9b969b45",
   "metadata": {},
   "outputs": [],
   "source": [
    "backtest_engine.memory_bar = ohlcv_data_dictionary\n",
    "backtest_engine.num_data_rows = backtest_engine.memory_bar[\"close\"].height"
   ]
  },
  {
   "cell_type": "code",
   "execution_count": 13,
   "id": "23eaec13",
   "metadata": {},
   "outputs": [
    {
     "data": {
      "text/plain": [
       "{'open': shape: (7_201, 4)\n",
       " ┌────────────────────────────┬─────────────────┬─────────────────┬─────────────────┐\n",
       " │ datetime                   ┆ btcusdt.BINANCE ┆ ethusdt.BINANCE ┆ xrpusdt.BINANCE │\n",
       " │ ---                        ┆ ---             ┆ ---             ┆ ---             │\n",
       " │ datetime[μs]               ┆ f64             ┆ f64             ┆ f64             │\n",
       " ╞════════════════════════════╪═════════════════╪═════════════════╪═════════════════╡\n",
       " │ 2025-05-31 05:34:14.942488 ┆ 114.086702      ┆ 126.667567      ┆ 132.553282      │\n",
       " │ 2025-05-31 05:35:14.942488 ┆ 111.70094       ┆ 92.432026       ┆ 129.445144      │\n",
       " │ 2025-05-31 05:36:14.942488 ┆ 127.90584       ┆ 108.843999      ┆ 56.451906       │\n",
       " │ 2025-05-31 05:37:14.942488 ┆ 141.412078      ┆ 55.873984       ┆ 98.590973       │\n",
       " │ 2025-05-31 05:38:14.942488 ┆ 60.814211       ┆ 93.795262       ┆ 98.979267       │\n",
       " │ …                          ┆ …               ┆ …               ┆ …               │\n",
       " │ 2025-06-05 05:30:14.942488 ┆ 121.529111      ┆ 56.440423       ┆ 92.507788       │\n",
       " │ 2025-06-05 05:31:14.942488 ┆ 75.274912       ┆ 101.147871      ┆ 107.555498      │\n",
       " │ 2025-06-05 05:32:14.942488 ┆ 142.81749       ┆ 67.444531       ┆ 152.570012      │\n",
       " │ 2025-06-05 05:33:14.942488 ┆ 84.22695        ┆ 113.49733       ┆ 92.451909       │\n",
       " │ 2025-06-05 05:34:14.942488 ┆ 55.064047       ┆ 93.245379       ┆ 76.217938       │\n",
       " └────────────────────────────┴─────────────────┴─────────────────┴─────────────────┘,\n",
       " 'high': shape: (7_201, 4)\n",
       " ┌────────────────────────────┬─────────────────┬─────────────────┬─────────────────┐\n",
       " │ datetime                   ┆ btcusdt.BINANCE ┆ ethusdt.BINANCE ┆ xrpusdt.BINANCE │\n",
       " │ ---                        ┆ ---             ┆ ---             ┆ ---             │\n",
       " │ datetime[μs]               ┆ f64             ┆ f64             ┆ f64             │\n",
       " ╞════════════════════════════╪═════════════════╪═════════════════╪═════════════════╡\n",
       " │ 2025-05-31 05:34:14.942488 ┆ 116.998176      ┆ 131.697948      ┆ 136.069188      │\n",
       " │ 2025-05-31 05:35:14.942488 ┆ 116.685008      ┆ 92.994688       ┆ 132.584155      │\n",
       " │ 2025-05-31 05:36:14.942488 ┆ 130.736115      ┆ 109.741275      ┆ 58.875832       │\n",
       " │ 2025-05-31 05:37:14.942488 ┆ 145.90786       ┆ 63.92042        ┆ 99.648379       │\n",
       " │ 2025-05-31 05:38:14.942488 ┆ 63.124869       ┆ 98.950868       ┆ 103.472042      │\n",
       " │ …                          ┆ …               ┆ …               ┆ …               │\n",
       " │ 2025-06-05 05:30:14.942488 ┆ 124.618824      ┆ 60.913926       ┆ 97.365144       │\n",
       " │ 2025-06-05 05:31:14.942488 ┆ 79.129465       ┆ 104.940759      ┆ 109.459114      │\n",
       " │ 2025-06-05 05:32:14.942488 ┆ 142.946023      ┆ 68.73507        ┆ 156.508432      │\n",
       " │ 2025-06-05 05:33:14.942488 ┆ 86.881278       ┆ 117.211621      ┆ 97.345499       │\n",
       " │ 2025-06-05 05:34:14.942488 ┆ 61.663361       ┆ 99.697553       ┆ 76.631391       │\n",
       " └────────────────────────────┴─────────────────┴─────────────────┴─────────────────┘,\n",
       " 'low': shape: (7_201, 4)\n",
       " ┌────────────────────────────┬─────────────────┬─────────────────┬─────────────────┐\n",
       " │ datetime                   ┆ btcusdt.BINANCE ┆ ethusdt.BINANCE ┆ xrpusdt.BINANCE │\n",
       " │ ---                        ┆ ---             ┆ ---             ┆ ---             │\n",
       " │ datetime[μs]               ┆ f64             ┆ f64             ┆ f64             │\n",
       " ╞════════════════════════════╪═════════════════╪═════════════════╪═════════════════╡\n",
       " │ 2025-05-31 05:34:14.942488 ┆ 113.754214      ┆ 126.225717      ┆ 126.397355      │\n",
       " │ 2025-05-31 05:35:14.942488 ┆ 108.253238      ┆ 86.638798       ┆ 123.969447      │\n",
       " │ 2025-05-31 05:36:14.942488 ┆ 127.762608      ┆ 103.94861       ┆ 52.152725       │\n",
       " │ 2025-05-31 05:37:14.942488 ┆ 135.59525       ┆ 53.303612       ┆ 97.870598       │\n",
       " │ 2025-05-31 05:38:14.942488 ┆ 56.384832       ┆ 91.278349       ┆ 95.771516       │\n",
       " │ …                          ┆ …               ┆ …               ┆ …               │\n",
       " │ 2025-06-05 05:30:14.942488 ┆ 117.961934      ┆ 56.050541       ┆ 92.50737        │\n",
       " │ 2025-06-05 05:31:14.942488 ┆ 68.685594       ┆ 98.912338       ┆ 102.330853      │\n",
       " │ 2025-06-05 05:32:14.942488 ┆ 139.986289      ┆ 62.330369       ┆ 146.412259      │\n",
       " │ 2025-06-05 05:33:14.942488 ┆ 79.637147       ┆ 109.697083      ┆ 90.498017       │\n",
       " │ 2025-06-05 05:34:14.942488 ┆ 53.099735       ┆ 89.284038       ┆ 75.461837       │\n",
       " └────────────────────────────┴─────────────────┴─────────────────┴─────────────────┘,\n",
       " 'close': shape: (7_201, 4)\n",
       " ┌────────────────────────────┬─────────────────┬─────────────────┬─────────────────┐\n",
       " │ datetime                   ┆ btcusdt.BINANCE ┆ ethusdt.BINANCE ┆ xrpusdt.BINANCE │\n",
       " │ ---                        ┆ ---             ┆ ---             ┆ ---             │\n",
       " │ datetime[μs]               ┆ f64             ┆ f64             ┆ f64             │\n",
       " ╞════════════════════════════╪═════════════════╪═════════════════╪═════════════════╡\n",
       " │ 2025-05-31 05:34:14.942488 ┆ 115.634516      ┆ 128.319233      ┆ 130.779035      │\n",
       " │ 2025-05-31 05:35:14.942488 ┆ 112.91249       ┆ 88.58099        ┆ 127.598908      │\n",
       " │ 2025-05-31 05:36:14.942488 ┆ 130.150238      ┆ 107.188592      ┆ 57.908727       │\n",
       " │ 2025-05-31 05:37:14.942488 ┆ 136.485511      ┆ 59.923783       ┆ 98.338136       │\n",
       " │ 2025-05-31 05:38:14.942488 ┆ 60.48656        ┆ 97.986866       ┆ 102.04348       │\n",
       " │ …                          ┆ …               ┆ …               ┆ …               │\n",
       " │ 2025-06-05 05:30:14.942488 ┆ 119.575586      ┆ 58.524968       ┆ 94.61884        │\n",
       " │ 2025-06-05 05:31:14.942488 ┆ 71.411811       ┆ 104.540911      ┆ 103.507621      │\n",
       " │ 2025-06-05 05:32:14.942488 ┆ 140.629757      ┆ 65.812833       ┆ 149.257431      │\n",
       " │ 2025-06-05 05:33:14.942488 ┆ 86.431576       ┆ 110.567168      ┆ 94.665921       │\n",
       " │ 2025-06-05 05:34:14.942488 ┆ 60.061188       ┆ 96.627535       ┆ 75.878528       │\n",
       " └────────────────────────────┴─────────────────┴─────────────────┴─────────────────┘,\n",
       " 'volume': shape: (7_201, 4)\n",
       " ┌────────────────────────────┬─────────────────┬─────────────────┬─────────────────┐\n",
       " │ datetime                   ┆ btcusdt.BINANCE ┆ ethusdt.BINANCE ┆ xrpusdt.BINANCE │\n",
       " │ ---                        ┆ ---             ┆ ---             ┆ ---             │\n",
       " │ datetime[μs]               ┆ f64             ┆ f64             ┆ f64             │\n",
       " ╞════════════════════════════╪═════════════════╪═════════════════╪═════════════════╡\n",
       " │ 2025-05-31 05:34:14.942488 ┆ 702.554739      ┆ 649.531348      ┆ 1475.852743     │\n",
       " │ 2025-05-31 05:35:14.942488 ┆ 693.341575      ┆ 707.284905      ┆ 950.418677      │\n",
       " │ 2025-05-31 05:36:14.942488 ┆ 1203.885279     ┆ 1060.549059     ┆ 1077.681256     │\n",
       " │ 2025-05-31 05:37:14.942488 ┆ 1032.858178     ┆ 1148.683522     ┆ 1145.848226     │\n",
       " │ 2025-05-31 05:38:14.942488 ┆ 1186.26292      ┆ 1132.575749     ┆ 650.225354      │\n",
       " │ …                          ┆ …               ┆ …               ┆ …               │\n",
       " │ 2025-06-05 05:30:14.942488 ┆ 1263.292157     ┆ 1120.321812     ┆ 1194.83202      │\n",
       " │ 2025-06-05 05:31:14.942488 ┆ 586.331776      ┆ 1368.93179      ┆ 641.079527      │\n",
       " │ 2025-06-05 05:32:14.942488 ┆ 1445.985316     ┆ 952.944025      ┆ 897.694049      │\n",
       " │ 2025-06-05 05:33:14.942488 ┆ 788.159493      ┆ 795.761655      ┆ 1263.203094     │\n",
       " │ 2025-06-05 05:34:14.942488 ┆ 1152.935999     ┆ 997.052469      ┆ 1168.847345     │\n",
       " └────────────────────────────┴─────────────────┴─────────────────┴─────────────────┘}"
      ]
     },
     "execution_count": 13,
     "metadata": {},
     "output_type": "execute_result"
    }
   ],
   "source": [
    "ohlcv_data_dictionary"
   ]
  },
  {
   "cell_type": "code",
   "execution_count": 14,
   "id": "b866cda2",
   "metadata": {},
   "outputs": [
    {
     "name": "stdout",
     "output_type": "stream",
     "text": [
      "\u001b[32m2025-06-05 05:34:15.074\u001b[0m | \u001b[1mINFO\u001b[0m | \u001b[36mFactorMakerBacktestOrchestrator\u001b[0m | \u001b[1m[FactorMakerBacktestOrchestrator] Starting factor value computation phase...\u001b[0m\n",
      "\u001b[32m2025-06-05 05:34:15.075\u001b[0m | \u001b[34m\u001b[1mDEBUG\u001b[0m | \u001b[36mFactorMakerFactorCalculator\u001b[0m | \u001b[34m\u001b[1m[FactorMakerFactorCalculator] Aligning vt_symbols in factor 'factor_1m_emafactor@period_12' to ['btcusdt.BINANCE', 'ethusdt.BINANCE', 'xrpusdt.BINANCE']\u001b[0m\n",
      "\u001b[32m2025-06-05 05:34:15.076\u001b[0m | \u001b[34m\u001b[1mDEBUG\u001b[0m | \u001b[36mFactorMakerFactorCalculator\u001b[0m | \u001b[34m\u001b[1m[FactorMakerFactorCalculator] Aligning vt_symbols in factor 'factor_1m_emafactor@period_26' to ['btcusdt.BINANCE', 'ethusdt.BINANCE', 'xrpusdt.BINANCE']\u001b[0m\n",
      "\u001b[32m2025-06-05 05:34:15.077\u001b[0m | \u001b[1mINFO\u001b[0m | \u001b[36mFactorMakerFactorCalculator\u001b[0m | \u001b[1m[FactorMakerFactorCalculator] Starting calculation for: factor_1m_macdfactor@fast_period_12-signal_period_9-slow_period_26 with symbols ['btcusdt.BINANCE', 'ethusdt.BINANCE', 'xrpusdt.BINANCE']\u001b[0m\n",
      "\u001b[32m2025-06-05 05:34:15.078\u001b[0m | \u001b[34m\u001b[1mDEBUG\u001b[0m | \u001b[36mFactorMakerFactorCalculator\u001b[0m | \u001b[34m\u001b[1m[FactorMakerFactorCalculator] Determined calculation order for 3 factors.\u001b[0m\n",
      "\u001b[32m2025-06-05 05:34:15.079\u001b[0m | \u001b[1mINFO\u001b[0m | \u001b[36mFactorMakerFactorCalculator\u001b[0m | \u001b[1m[FactorMakerFactorCalculator] Initializing factor memory for 3 factors...\u001b[0m\n",
      "\u001b[32m2025-06-05 05:34:15.125\u001b[0m | \u001b[1mINFO\u001b[0m | \u001b[36mFactorMakerFactorCalculator\u001b[0m | \u001b[1m[FactorMakerFactorCalculator] Initialized 3 FactorMemory instances.\u001b[0m\n",
      "\u001b[32m2025-06-05 05:34:15.126\u001b[0m | \u001b[1mINFO\u001b[0m | \u001b[36mFactorMakerFactorCalculator\u001b[0m | \u001b[1m[FactorMakerFactorCalculator] Building Dask graph for 3 factors...\u001b[0m\n",
      "\u001b[32m2025-06-05 05:34:15.128\u001b[0m | \u001b[1mINFO\u001b[0m | \u001b[36mFactorMakerFactorCalculator\u001b[0m | \u001b[1m[FactorMakerFactorCalculator] Built Dask graph with 3 tasks.\u001b[0m\n",
      "\u001b[32m2025-06-05 05:34:15.128\u001b[0m | \u001b[1mINFO\u001b[0m | \u001b[36mFactorMakerFactorCalculator\u001b[0m | \u001b[1m[FactorMakerFactorCalculator] Executing Dask graph for 3 factors...\u001b[0m\n",
      "[########################################] | 100% Completed | 105.83 ms\n",
      "\u001b[32m2025-06-05 05:34:15.367\u001b[0m | \u001b[1mINFO\u001b[0m | \u001b[36mFactorMakerFactorCalculator\u001b[0m | \u001b[1m[FactorMakerFactorCalculator] Dask computation finished in 0.239s.\u001b[0m\n",
      "\u001b[32m2025-06-05 05:34:15.421\u001b[0m | \u001b[34m\u001b[1mDEBUG\u001b[0m | \u001b[36mFactorMakerFactorCalculator\u001b[0m | \u001b[34m\u001b[1m[FactorMakerFactorCalculator] GC performed.\u001b[0m\n",
      "\u001b[32m2025-06-05 05:34:15.423\u001b[0m | \u001b[1mINFO\u001b[0m | \u001b[36mFactorMakerFactorCalculator\u001b[0m | \u001b[1m[FactorMakerFactorCalculator] Successfully retrieved data for 'factor_1m_macdfactor@fast_period_12-signal_period_9-slow_period_26'. Shape: (7201, 4)\u001b[0m\n"
     ]
    }
   ],
   "source": [
    "factor_df = backtest_engine._run_factor_computation(\n",
    "        calculator=calculator,\n",
    "        target_factor_instance=target_factor_instance,\n",
    "        flattened_factors=flattened_factors,\n",
    "        vt_symbols_for_run=vt_symbols,  # Use the symbols for this specific run\n",
    "    )"
   ]
  },
  {
   "cell_type": "code",
   "execution_count": 15,
   "id": "1c158b1d",
   "metadata": {},
   "outputs": [
    {
     "data": {
      "text/html": [
       "<div><style>\n",
       ".dataframe > thead > tr,\n",
       ".dataframe > tbody > tr {\n",
       "  text-align: right;\n",
       "  white-space: pre-wrap;\n",
       "}\n",
       "</style>\n",
       "<small>shape: (7_201, 4)</small><table border=\"1\" class=\"dataframe\"><thead><tr><th>datetime</th><th>btcusdt.BINANCE</th><th>ethusdt.BINANCE</th><th>xrpusdt.BINANCE</th></tr><tr><td>datetime[μs, UTC]</td><td>f64</td><td>f64</td><td>f64</td></tr></thead><tbody><tr><td>2025-05-31 05:34:14.942488 UTC</td><td>0.0</td><td>0.0</td><td>0.0</td></tr><tr><td>2025-05-31 05:35:14.942488 UTC</td><td>-0.173713</td><td>-2.536002</td><td>-0.202948</td></tr><tr><td>2025-05-31 05:36:14.942488 UTC</td><td>0.826982</td><td>-2.799304</td><td>-4.766515</td></tr><tr><td>2025-05-31 05:37:14.942488 UTC</td><td>1.813659</td><td>-5.821761</td><td>-4.785565</td></tr><tr><td>2025-05-31 05:38:14.942488 UTC</td><td>-2.518683</td><td>-4.956467</td><td>-4.287938</td></tr><tr><td>&hellip;</td><td>&hellip;</td><td>&hellip;</td><td>&hellip;</td></tr><tr><td>2025-06-05 05:30:14.942488 UTC</td><td>1.262308</td><td>-5.159966</td><td>-1.197798</td></tr><tr><td>2025-06-05 05:31:14.942488 UTC</td><td>-1.270353</td><td>-2.046159</td><td>-0.085292</td></tr><tr><td>2025-06-05 05:32:14.942488 UTC</td><td>1.634796</td><td>-2.425114</td><td>3.543261</td></tr><tr><td>2025-06-05 05:33:14.942488 UTC</td><td>-0.083888</td><td>0.359783</td><td>2.146984</td></tr><tr><td>2025-06-05 05:34:14.942488 UTC</td><td>-2.83451</td><td>1.235198</td><td>-0.045523</td></tr></tbody></table></div>"
      ],
      "text/plain": [
       "shape: (7_201, 4)\n",
       "┌────────────────────────────────┬─────────────────┬─────────────────┬─────────────────┐\n",
       "│ datetime                       ┆ btcusdt.BINANCE ┆ ethusdt.BINANCE ┆ xrpusdt.BINANCE │\n",
       "│ ---                            ┆ ---             ┆ ---             ┆ ---             │\n",
       "│ datetime[μs, UTC]              ┆ f64             ┆ f64             ┆ f64             │\n",
       "╞════════════════════════════════╪═════════════════╪═════════════════╪═════════════════╡\n",
       "│ 2025-05-31 05:34:14.942488 UTC ┆ 0.0             ┆ 0.0             ┆ 0.0             │\n",
       "│ 2025-05-31 05:35:14.942488 UTC ┆ -0.173713       ┆ -2.536002       ┆ -0.202948       │\n",
       "│ 2025-05-31 05:36:14.942488 UTC ┆ 0.826982        ┆ -2.799304       ┆ -4.766515       │\n",
       "│ 2025-05-31 05:37:14.942488 UTC ┆ 1.813659        ┆ -5.821761       ┆ -4.785565       │\n",
       "│ 2025-05-31 05:38:14.942488 UTC ┆ -2.518683       ┆ -4.956467       ┆ -4.287938       │\n",
       "│ …                              ┆ …               ┆ …               ┆ …               │\n",
       "│ 2025-06-05 05:30:14.942488 UTC ┆ 1.262308        ┆ -5.159966       ┆ -1.197798       │\n",
       "│ 2025-06-05 05:31:14.942488 UTC ┆ -1.270353       ┆ -2.046159       ┆ -0.085292       │\n",
       "│ 2025-06-05 05:32:14.942488 UTC ┆ 1.634796        ┆ -2.425114       ┆ 3.543261        │\n",
       "│ 2025-06-05 05:33:14.942488 UTC ┆ -0.083888       ┆ 0.359783        ┆ 2.146984        │\n",
       "│ 2025-06-05 05:34:14.942488 UTC ┆ -2.83451        ┆ 1.235198        ┆ -0.045523       │\n",
       "└────────────────────────────────┴─────────────────┴─────────────────┴─────────────────┘"
      ]
     },
     "execution_count": 15,
     "metadata": {},
     "output_type": "execute_result"
    }
   ],
   "source": [
    "factor_df"
   ]
  },
  {
   "cell_type": "code",
   "execution_count": 16,
   "id": "823f9d57",
   "metadata": {},
   "outputs": [
    {
     "name": "stdout",
     "output_type": "stream",
     "text": [
      "\u001b[32m2025-06-05 05:34:15.434\u001b[0m | \u001b[1mINFO\u001b[0m | \u001b[36mFactorMakerFactorCalculator\u001b[0m | \u001b[1m[FactorMakerFactorCalculator] FactorCalculator closed.\u001b[0m\n",
      "\u001b[32m2025-06-05 05:34:15.512\u001b[0m | \u001b[34m\u001b[1mDEBUG\u001b[0m | \u001b[36mFactorMakerFactorCalculator\u001b[0m | \u001b[34m\u001b[1m[FactorMakerFactorCalculator] GC performed.\u001b[0m\n",
      "Factor memory file cleared and re-initialized: /Users/chenzhao/Documents/crypto_vnpy/vnpy/tests/.vnpy/factor/cache/backtest_factor_data_cache/factor_1m_emafactor@period_12.arrow\n",
      "Factor memory file cleared and re-initialized: /Users/chenzhao/Documents/crypto_vnpy/vnpy/tests/.vnpy/factor/cache/backtest_factor_data_cache/factor_1m_emafactor@period_26.arrow\n",
      "Factor memory file cleared and re-initialized: /Users/chenzhao/Documents/crypto_vnpy/vnpy/tests/.vnpy/factor/cache/backtest_factor_data_cache/factor_1m_macdfactor@fast_period_12-signal_period_9-slow_period_26.arrow\n",
      "\u001b[32m2025-06-05 05:34:15.514\u001b[0m | \u001b[34m\u001b[1mDEBUG\u001b[0m | \u001b[36mFactorMakerFactorCalculator\u001b[0m | \u001b[34m\u001b[1m[FactorMakerFactorCalculator] FactorMemory instances cleared.\u001b[0m\n"
     ]
    }
   ],
   "source": [
    "calculator.close()"
   ]
  },
  {
   "cell_type": "code",
   "execution_count": 17,
   "id": "97fa6b27",
   "metadata": {},
   "outputs": [],
   "source": [
    "market_close_prices_df = backtest_engine.memory_bar[\"close\"].clone()"
   ]
  },
  {
   "cell_type": "code",
   "execution_count": 18,
   "id": "d38e63ba",
   "metadata": {},
   "outputs": [],
   "source": [
    "actual_analysis_start_dt = factor_df.select(pl.col('datetime').min()).item()\n",
    "actual_analysis_end_dt = factor_df.select(pl.col('datetime').max()).item()"
   ]
  },
  {
   "cell_type": "code",
   "execution_count": 20,
   "id": "4c3c7385",
   "metadata": {},
   "outputs": [
    {
     "name": "stdout",
     "output_type": "stream",
     "text": [
      "\u001b[32m2025-06-05 05:37:30.884\u001b[0m | \u001b[1mINFO\u001b[0m | \u001b[36mFactorMakerBacktestOrchestrator\u001b[0m | \u001b[1m[FactorMakerBacktestOrchestrator] Starting factor analysis phase...\u001b[0m\n",
      "\u001b[32m2025-06-05 05:37:30.887\u001b[0m | \u001b[1mINFO\u001b[0m | \u001b[36mFactorMakerFactorAnalyser\u001b[0m | \u001b[1m[FactorMakerFactorAnalyser] FactorAnalyser initialized. Report dir: /Users/chenzhao/Documents/crypto_vnpy/vnpy/tests/.vnpy/factor/reports/backtest_reports\u001b[0m\n",
      "\u001b[32m2025-06-05 05:37:30.889\u001b[0m | \u001b[1mINFO\u001b[0m | \u001b[36mFactorMakerFactorAnalyser\u001b[0m | \u001b[1m[FactorMakerFactorAnalyser] Starting analysis for factor: factor_1m_macdfactor@fast_period_12-signal_period_9-slow_period_26\u001b[0m\n",
      "\u001b[32m2025-06-05 05:37:30.890\u001b[0m | \u001b[1mINFO\u001b[0m | \u001b[36mFactorMakerFactorAnalyser\u001b[0m | \u001b[1m[FactorMakerFactorAnalyser] Preparing 1-period symbol forward returns data...\u001b[0m\n",
      "\u001b[32m2025-06-05 05:37:30.895\u001b[0m | \u001b[1mINFO\u001b[0m | \u001b[36mFactorMakerFactorAnalyser\u001b[0m | \u001b[1m[FactorMakerFactorAnalyser] Symbol forward returns prepared for 3 symbols.\u001b[0m\n",
      "shape: (7_200, 4)\n",
      "┌────────────────────────────────┬─────────────────┬─────────────────┬─────────────────┐\n",
      "│ datetime                       ┆ btcusdt.BINANCE ┆ ethusdt.BINANCE ┆ xrpusdt.BINANCE │\n",
      "│ ---                            ┆ ---             ┆ ---             ┆ ---             │\n",
      "│ datetime[μs, UTC]              ┆ f64             ┆ f64             ┆ f64             │\n",
      "╞════════════════════════════════╪═════════════════╪═════════════════╪═════════════════╡\n",
      "│ 2025-05-31 05:34:14.942488 UTC ┆ 0.0             ┆ 0.0             ┆ 0.0             │\n",
      "│ 2025-05-31 05:35:14.942488 UTC ┆ -0.173713       ┆ -2.536002       ┆ -0.202948       │\n",
      "│ 2025-05-31 05:36:14.942488 UTC ┆ 0.826982        ┆ -2.799304       ┆ -4.766515       │\n",
      "│ 2025-05-31 05:37:14.942488 UTC ┆ 1.813659        ┆ -5.821761       ┆ -4.785565       │\n",
      "│ 2025-05-31 05:38:14.942488 UTC ┆ -2.518683       ┆ -4.956467       ┆ -4.287938       │\n",
      "│ …                              ┆ …               ┆ …               ┆ …               │\n",
      "│ 2025-06-05 05:29:14.942488 UTC ┆ 0.302713        ┆ -4.964844       ┆ -1.956453       │\n",
      "│ 2025-06-05 05:30:14.942488 UTC ┆ 1.262308        ┆ -5.159966       ┆ -1.197798       │\n",
      "│ 2025-06-05 05:31:14.942488 UTC ┆ -1.270353       ┆ -2.046159       ┆ -0.085292       │\n",
      "│ 2025-06-05 05:32:14.942488 UTC ┆ 1.634796        ┆ -2.425114       ┆ 3.543261        │\n",
      "│ 2025-06-05 05:33:14.942488 UTC ┆ -0.083888       ┆ 0.359783        ┆ 2.146984        │\n",
      "└────────────────────────────────┴─────────────────┴─────────────────┴─────────────────┘ shape: (7_200, 4)\n",
      "┌────────────────────────────┬─────────────────┬─────────────────┬─────────────────┐\n",
      "│ datetime                   ┆ btcusdt.BINANCE ┆ ethusdt.BINANCE ┆ xrpusdt.BINANCE │\n",
      "│ ---                        ┆ ---             ┆ ---             ┆ ---             │\n",
      "│ datetime[μs]               ┆ f64             ┆ f64             ┆ f64             │\n",
      "╞════════════════════════════╪═════════════════╪═════════════════╪═════════════════╡\n",
      "│ 2025-05-31 05:34:14.942488 ┆ -0.02354        ┆ -0.309683       ┆ -0.024317       │\n",
      "│ 2025-05-31 05:35:14.942488 ┆ 0.152665        ┆ 0.210063        ┆ -0.546166       │\n",
      "│ 2025-05-31 05:36:14.942488 ┆ 0.048677        ┆ -0.44095        ┆ 0.698157        │\n",
      "│ 2025-05-31 05:37:14.942488 ┆ -0.556828       ┆ 0.635192        ┆ 0.03768         │\n",
      "│ 2025-05-31 05:38:14.942488 ┆ 1.183421        ┆ -0.338667       ┆ 0.087477        │\n",
      "│ …                          ┆ …               ┆ …               ┆ …               │\n",
      "│ 2025-06-05 05:29:14.942488 ┆ 0.622265        ┆ 0.018269        ┆ 0.612749        │\n",
      "│ 2025-06-05 05:30:14.942488 ┆ -0.402789       ┆ 0.786262        ┆ 0.093943        │\n",
      "│ 2025-06-05 05:31:14.942488 ┆ 0.969279        ┆ -0.370459       ┆ 0.441995        │\n",
      "│ 2025-06-05 05:32:14.942488 ┆ -0.385396       ┆ 0.680024        ┆ -0.365754       │\n",
      "│ 2025-06-05 05:33:14.942488 ┆ -0.305101       ┆ -0.126074       ┆ -0.19846        │\n",
      "└────────────────────────────┴─────────────────┴─────────────────┴─────────────────┘\n"
     ]
    },
    {
     "ename": "SchemaError",
     "evalue": "datatypes of join keys don't match - `datetime`: datetime[μs, UTC] on left does not match `datetime`: datetime[μs] on right\n\nResolved plan until failure:\n\n\t---> FAILED HERE RESOLVING 'sort' <---\nDF [\"datetime\", \"btcusdt.BINANCE\", \"ethusdt.BINANCE\", \"xrpusdt.BINANCE\"]; PROJECT */4 COLUMNS",
     "output_type": "error",
     "traceback": [
      "\u001b[0;31m---------------------------------------------------------------------------\u001b[0m",
      "\u001b[0;31mSchemaError\u001b[0m                               Traceback (most recent call last)",
      "\u001b[0;32m/var/folders/f2/2ld1q5m11g5gr1rqfl11y7vr0000gn/T/ipykernel_84629/1540023074.py\u001b[0m in \u001b[0;36m<cell line: 0>\u001b[0;34m()\u001b[0m\n\u001b[0;32m----> 1\u001b[0;31m report_path = backtest_engine._run_factor_analysis(\n\u001b[0m\u001b[1;32m      2\u001b[0m     \u001b[0mfactor_df\u001b[0m\u001b[0;34m=\u001b[0m\u001b[0mfactor_df\u001b[0m\u001b[0;34m,\u001b[0m\u001b[0;34m\u001b[0m\u001b[0;34m\u001b[0m\u001b[0m\n\u001b[1;32m      3\u001b[0m     \u001b[0mmarket_close_prices_df\u001b[0m\u001b[0;34m=\u001b[0m\u001b[0mmarket_close_prices_df\u001b[0m\u001b[0;34m,\u001b[0m\u001b[0;34m\u001b[0m\u001b[0;34m\u001b[0m\u001b[0m\n\u001b[1;32m      4\u001b[0m     \u001b[0mtarget_factor_instance\u001b[0m\u001b[0;34m=\u001b[0m\u001b[0mtarget_factor_instance\u001b[0m\u001b[0;34m,\u001b[0m\u001b[0;34m\u001b[0m\u001b[0;34m\u001b[0m\u001b[0m\n\u001b[1;32m      5\u001b[0m     \u001b[0manalysis_start_dt\u001b[0m\u001b[0;34m=\u001b[0m\u001b[0mactual_analysis_start_dt\u001b[0m\u001b[0;34m,\u001b[0m\u001b[0;34m\u001b[0m\u001b[0;34m\u001b[0m\u001b[0m\n",
      "\u001b[0;32m~/Documents/crypto_vnpy/vnpy/vnpy/factor/backtesting/backtesting.py\u001b[0m in \u001b[0;36m_run_factor_analysis\u001b[0;34m(self, factor_df, market_close_prices_df, target_factor_instance, analysis_start_dt, analysis_end_dt, num_quantiles, returns_look_ahead_period, long_percentile_threshold, short_percentile_threshold, report_filename_prefix)\u001b[0m\n\u001b[1;32m    445\u001b[0m             \u001b[0;32mreturn\u001b[0m \u001b[0;32mNone\u001b[0m\u001b[0;34m\u001b[0m\u001b[0;34m\u001b[0m\u001b[0m\n\u001b[1;32m    446\u001b[0m \u001b[0;34m\u001b[0m\u001b[0m\n\u001b[0;32m--> 447\u001b[0;31m         report_path = analyser.run_analysis_and_report(\n\u001b[0m\u001b[1;32m    448\u001b[0m             \u001b[0mfactor_data_df\u001b[0m\u001b[0;34m=\u001b[0m\u001b[0mfactor_df\u001b[0m\u001b[0;34m,\u001b[0m\u001b[0;34m\u001b[0m\u001b[0;34m\u001b[0m\u001b[0m\n\u001b[1;32m    449\u001b[0m             \u001b[0mmarket_close_prices_df\u001b[0m\u001b[0;34m=\u001b[0m\u001b[0mmarket_close_prices_df\u001b[0m\u001b[0;34m,\u001b[0m\u001b[0;34m\u001b[0m\u001b[0;34m\u001b[0m\u001b[0m\n",
      "\u001b[0;32m~/Documents/crypto_vnpy/vnpy/vnpy/factor/backtesting/factor_analyzer.py\u001b[0m in \u001b[0;36mrun_analysis_and_report\u001b[0;34m(self, factor_data_df, market_close_prices_df, factor_instance, analysis_start_dt, analysis_end_dt, num_quantiles, long_short_percentile, report_filename_prefix)\u001b[0m\n\u001b[1;32m    252\u001b[0m         \u001b[0mfactor_data_df_truncated\u001b[0m \u001b[0;34m=\u001b[0m \u001b[0mfactor_data_df\u001b[0m\u001b[0;34m[\u001b[0m\u001b[0;34m:\u001b[0m\u001b[0;34m-\u001b[0m\u001b[0;36m1\u001b[0m\u001b[0;34m]\u001b[0m \u001b[0;32mif\u001b[0m \u001b[0;32mnot\u001b[0m \u001b[0mfactor_data_df\u001b[0m\u001b[0;34m.\u001b[0m\u001b[0mis_empty\u001b[0m\u001b[0;34m(\u001b[0m\u001b[0;34m)\u001b[0m \u001b[0;32melse\u001b[0m \u001b[0mfactor_data_df\u001b[0m\u001b[0;34m\u001b[0m\u001b[0;34m\u001b[0m\u001b[0m\n\u001b[1;32m    253\u001b[0m         \u001b[0mprint\u001b[0m\u001b[0;34m(\u001b[0m\u001b[0mfactor_data_df_truncated\u001b[0m\u001b[0;34m,\u001b[0m \u001b[0mlocal_symbol_returns_df\u001b[0m\u001b[0;34m)\u001b[0m\u001b[0;34m\u001b[0m\u001b[0;34m\u001b[0m\u001b[0m\n\u001b[0;32m--> 254\u001b[0;31m         \u001b[0maligned_frames\u001b[0m \u001b[0;34m=\u001b[0m \u001b[0mpl\u001b[0m\u001b[0;34m.\u001b[0m\u001b[0malign_frames\u001b[0m\u001b[0;34m(\u001b[0m\u001b[0mfactor_data_df_truncated\u001b[0m\u001b[0;34m,\u001b[0m \u001b[0mlocal_symbol_returns_df\u001b[0m\u001b[0;34m,\u001b[0m \u001b[0mon\u001b[0m\u001b[0;34m=\u001b[0m\u001b[0mself\u001b[0m\u001b[0;34m.\u001b[0m\u001b[0mfactor_datetime_col\u001b[0m\u001b[0;34m,\u001b[0m \u001b[0mhow\u001b[0m\u001b[0;34m=\u001b[0m\u001b[0;34m\"inner\"\u001b[0m\u001b[0;34m)\u001b[0m\u001b[0;34m\u001b[0m\u001b[0;34m\u001b[0m\u001b[0m\n\u001b[0m\u001b[1;32m    255\u001b[0m         \u001b[0maligned_factor_df\u001b[0m\u001b[0;34m,\u001b[0m \u001b[0maligned_symbol_returns_df\u001b[0m \u001b[0;34m=\u001b[0m \u001b[0maligned_frames\u001b[0m\u001b[0;34m[\u001b[0m\u001b[0;36m0\u001b[0m\u001b[0;34m]\u001b[0m\u001b[0;34m,\u001b[0m \u001b[0maligned_frames\u001b[0m\u001b[0;34m[\u001b[0m\u001b[0;36m1\u001b[0m\u001b[0;34m]\u001b[0m\u001b[0;34m\u001b[0m\u001b[0;34m\u001b[0m\u001b[0m\n\u001b[1;32m    256\u001b[0m         \u001b[0;32mif\u001b[0m \u001b[0maligned_factor_df\u001b[0m\u001b[0;34m.\u001b[0m\u001b[0mis_empty\u001b[0m\u001b[0;34m(\u001b[0m\u001b[0;34m)\u001b[0m\u001b[0;34m:\u001b[0m\u001b[0;34m\u001b[0m\u001b[0;34m\u001b[0m\u001b[0m\n",
      "\u001b[0;32m~/Documents/crypto_vnpy/venv/lib/python3.12/site-packages/polars/functions/eager.py\u001b[0m in \u001b[0;36malign_frames\u001b[0;34m(on, how, select, descending, *frames)\u001b[0m\n\u001b[1;32m    503\u001b[0m \u001b[0;34m\u001b[0m\u001b[0m\n\u001b[1;32m    504\u001b[0m     \u001b[0;31m# select-out aligned components from the master frame\u001b[0m\u001b[0;34m\u001b[0m\u001b[0;34m\u001b[0m\u001b[0m\n\u001b[0;32m--> 505\u001b[0;31m     \u001b[0maligned_cols\u001b[0m \u001b[0;34m=\u001b[0m \u001b[0mset\u001b[0m\u001b[0;34m(\u001b[0m\u001b[0malignment_frame\u001b[0m\u001b[0;34m.\u001b[0m\u001b[0mcollect_schema\u001b[0m\u001b[0;34m(\u001b[0m\u001b[0;34m)\u001b[0m\u001b[0;34m)\u001b[0m\u001b[0;34m\u001b[0m\u001b[0;34m\u001b[0m\u001b[0m\n\u001b[0m\u001b[1;32m    506\u001b[0m     \u001b[0maligned_frames\u001b[0m \u001b[0;34m=\u001b[0m \u001b[0;34m[\u001b[0m\u001b[0;34m]\u001b[0m\u001b[0;34m\u001b[0m\u001b[0;34m\u001b[0m\u001b[0m\n\u001b[1;32m    507\u001b[0m     \u001b[0;32mfor\u001b[0m \u001b[0midx\u001b[0m\u001b[0;34m,\u001b[0m \u001b[0mlf\u001b[0m \u001b[0;32min\u001b[0m \u001b[0midx_frames\u001b[0m\u001b[0;34m:\u001b[0m\u001b[0;34m\u001b[0m\u001b[0;34m\u001b[0m\u001b[0m\n",
      "\u001b[0;32m~/Documents/crypto_vnpy/venv/lib/python3.12/site-packages/polars/lazyframe/frame.py\u001b[0m in \u001b[0;36mcollect_schema\u001b[0;34m(self)\u001b[0m\n\u001b[1;32m   2283\u001b[0m         \u001b[0;36m3\u001b[0m\u001b[0;34m\u001b[0m\u001b[0;34m\u001b[0m\u001b[0m\n\u001b[1;32m   2284\u001b[0m         \"\"\"\n\u001b[0;32m-> 2285\u001b[0;31m         \u001b[0;32mreturn\u001b[0m \u001b[0mSchema\u001b[0m\u001b[0;34m(\u001b[0m\u001b[0mself\u001b[0m\u001b[0;34m.\u001b[0m\u001b[0m_ldf\u001b[0m\u001b[0;34m.\u001b[0m\u001b[0mcollect_schema\u001b[0m\u001b[0;34m(\u001b[0m\u001b[0;34m)\u001b[0m\u001b[0;34m,\u001b[0m \u001b[0mcheck_dtypes\u001b[0m\u001b[0;34m=\u001b[0m\u001b[0;32mFalse\u001b[0m\u001b[0;34m)\u001b[0m\u001b[0;34m\u001b[0m\u001b[0;34m\u001b[0m\u001b[0m\n\u001b[0m\u001b[1;32m   2286\u001b[0m \u001b[0;34m\u001b[0m\u001b[0m\n\u001b[1;32m   2287\u001b[0m     \u001b[0;34m@\u001b[0m\u001b[0munstable\u001b[0m\u001b[0;34m(\u001b[0m\u001b[0;34m)\u001b[0m\u001b[0;34m\u001b[0m\u001b[0;34m\u001b[0m\u001b[0m\n",
      "\u001b[0;31mSchemaError\u001b[0m: datatypes of join keys don't match - `datetime`: datetime[μs, UTC] on left does not match `datetime`: datetime[μs] on right\n\nResolved plan until failure:\n\n\t---> FAILED HERE RESOLVING 'sort' <---\nDF [\"datetime\", \"btcusdt.BINANCE\", \"ethusdt.BINANCE\", \"xrpusdt.BINANCE\"]; PROJECT */4 COLUMNS"
     ]
    }
   ],
   "source": [
    "report_path = backtest_engine._run_factor_analysis(\n",
    "    factor_df=factor_df,\n",
    "    market_close_prices_df=market_close_prices_df,\n",
    "    target_factor_instance=target_factor_instance,\n",
    "    analysis_start_dt=actual_analysis_start_dt,\n",
    "    analysis_end_dt=actual_analysis_end_dt,\n",
    "    num_quantiles=2,\n",
    "    returns_look_ahead_period=1,\n",
    "    long_percentile_threshold=0.5,\n",
    "    short_percentile_threshold=0.5,\n",
    "    report_filename_prefix='test',\n",
    ")"
   ]
  },
  {
   "cell_type": "code",
   "execution_count": null,
   "id": "70a48c06",
   "metadata": {},
   "outputs": [
    {
     "ename": "SchemaError",
     "evalue": "datatypes of join keys don't match - `datetime`: datetime[μs] on left does not match `datetime`: datetime[μs, UTC] on right\n\nResolved plan until failure:\n\n\t---> FAILED HERE RESOLVING 'join' <---\nDF [\"datetime\"]; PROJECT */1 COLUMNS",
     "output_type": "error",
     "traceback": [
      "\u001b[0;31m---------------------------------------------------------------------------\u001b[0m",
      "\u001b[0;31mSchemaError\u001b[0m                               Traceback (most recent call last)",
      "\u001b[0;32m/var/folders/f2/2ld1q5m11g5gr1rqfl11y7vr0000gn/T/ipykernel_75548/2015067476.py\u001b[0m in \u001b[0;36m<cell line: 0>\u001b[0;34m()\u001b[0m\n\u001b[0;32m----> 1\u001b[0;31m market_close_prices_df = backtest_engine.memory_bar[\"close\"].join(\n\u001b[0m\u001b[1;32m      2\u001b[0m     \u001b[0mfactor_df\u001b[0m\u001b[0;34m.\u001b[0m\u001b[0mselect\u001b[0m\u001b[0;34m(\u001b[0m\u001b[0mpl\u001b[0m\u001b[0;34m.\u001b[0m\u001b[0mcol\u001b[0m\u001b[0;34m(\u001b[0m\u001b[0;34m\"datetime\"\u001b[0m\u001b[0;34m)\u001b[0m\u001b[0;34m)\u001b[0m\u001b[0;34m,\u001b[0m\u001b[0;34m\u001b[0m\u001b[0;34m\u001b[0m\u001b[0m\n\u001b[1;32m      3\u001b[0m     \u001b[0mon\u001b[0m\u001b[0;34m=\u001b[0m\u001b[0;34m\"datetime\"\u001b[0m\u001b[0;34m,\u001b[0m\u001b[0;34m\u001b[0m\u001b[0;34m\u001b[0m\u001b[0m\n\u001b[1;32m      4\u001b[0m     \u001b[0mhow\u001b[0m\u001b[0;34m=\u001b[0m\u001b[0;34m\"inner\"\u001b[0m\u001b[0;34m,\u001b[0m\u001b[0;34m\u001b[0m\u001b[0;34m\u001b[0m\u001b[0m\n\u001b[1;32m      5\u001b[0m \u001b[0;34m)\u001b[0m\u001b[0;34m\u001b[0m\u001b[0;34m\u001b[0m\u001b[0m\n",
      "\u001b[0;32m~/Documents/crypto_vnpy/venv/lib/python3.12/site-packages/polars/_utils/deprecation.py\u001b[0m in \u001b[0;36mwrapper\u001b[0;34m(*args, **kwargs)\u001b[0m\n\u001b[1;32m     90\u001b[0m                 \u001b[0mold_name\u001b[0m\u001b[0;34m,\u001b[0m \u001b[0mnew_name\u001b[0m\u001b[0;34m,\u001b[0m \u001b[0mkwargs\u001b[0m\u001b[0;34m,\u001b[0m \u001b[0mfunction\u001b[0m\u001b[0;34m.\u001b[0m\u001b[0m__qualname__\u001b[0m\u001b[0;34m,\u001b[0m \u001b[0mversion\u001b[0m\u001b[0;34m\u001b[0m\u001b[0;34m\u001b[0m\u001b[0m\n\u001b[1;32m     91\u001b[0m             \u001b[0;34m)\u001b[0m\u001b[0;34m\u001b[0m\u001b[0;34m\u001b[0m\u001b[0m\n\u001b[0;32m---> 92\u001b[0;31m             \u001b[0;32mreturn\u001b[0m \u001b[0mfunction\u001b[0m\u001b[0;34m(\u001b[0m\u001b[0;34m*\u001b[0m\u001b[0margs\u001b[0m\u001b[0;34m,\u001b[0m \u001b[0;34m**\u001b[0m\u001b[0mkwargs\u001b[0m\u001b[0;34m)\u001b[0m\u001b[0;34m\u001b[0m\u001b[0;34m\u001b[0m\u001b[0m\n\u001b[0m\u001b[1;32m     93\u001b[0m \u001b[0;34m\u001b[0m\u001b[0m\n\u001b[1;32m     94\u001b[0m         \u001b[0mwrapper\u001b[0m\u001b[0;34m.\u001b[0m\u001b[0m__signature__\u001b[0m \u001b[0;34m=\u001b[0m \u001b[0minspect\u001b[0m\u001b[0;34m.\u001b[0m\u001b[0msignature\u001b[0m\u001b[0;34m(\u001b[0m\u001b[0mfunction\u001b[0m\u001b[0;34m)\u001b[0m  \u001b[0;31m# type: ignore[attr-defined]\u001b[0m\u001b[0;34m\u001b[0m\u001b[0;34m\u001b[0m\u001b[0m\n",
      "\u001b[0;32m~/Documents/crypto_vnpy/venv/lib/python3.12/site-packages/polars/dataframe/frame.py\u001b[0m in \u001b[0;36mjoin\u001b[0;34m(self, other, on, how, left_on, right_on, suffix, validate, nulls_equal, coalesce, maintain_order)\u001b[0m\n\u001b[1;32m   7762\u001b[0m                 \u001b[0mmaintain_order\u001b[0m\u001b[0;34m=\u001b[0m\u001b[0mmaintain_order\u001b[0m\u001b[0;34m,\u001b[0m\u001b[0;34m\u001b[0m\u001b[0;34m\u001b[0m\u001b[0m\n\u001b[1;32m   7763\u001b[0m             \u001b[0;34m)\u001b[0m\u001b[0;34m\u001b[0m\u001b[0;34m\u001b[0m\u001b[0m\n\u001b[0;32m-> 7764\u001b[0;31m             \u001b[0;34m.\u001b[0m\u001b[0mcollect\u001b[0m\u001b[0;34m(\u001b[0m\u001b[0m_eager\u001b[0m\u001b[0;34m=\u001b[0m\u001b[0;32mTrue\u001b[0m\u001b[0;34m)\u001b[0m\u001b[0;34m\u001b[0m\u001b[0;34m\u001b[0m\u001b[0m\n\u001b[0m\u001b[1;32m   7765\u001b[0m         \u001b[0;34m)\u001b[0m\u001b[0;34m\u001b[0m\u001b[0;34m\u001b[0m\u001b[0m\n\u001b[1;32m   7766\u001b[0m \u001b[0;34m\u001b[0m\u001b[0m\n",
      "\u001b[0;32m~/Documents/crypto_vnpy/venv/lib/python3.12/site-packages/polars/lazyframe/frame.py\u001b[0m in \u001b[0;36mcollect\u001b[0;34m(self, type_coercion, _type_check, predicate_pushdown, projection_pushdown, simplify_expression, slice_pushdown, comm_subplan_elim, comm_subexpr_elim, cluster_with_columns, collapse_joins, no_optimization, streaming, engine, background, _check_order, _eager, **_kwargs)\u001b[0m\n\u001b[1;32m   2063\u001b[0m         \u001b[0;31m# Only for testing purposes\u001b[0m\u001b[0;34m\u001b[0m\u001b[0;34m\u001b[0m\u001b[0m\n\u001b[1;32m   2064\u001b[0m         \u001b[0mcallback\u001b[0m \u001b[0;34m=\u001b[0m \u001b[0m_kwargs\u001b[0m\u001b[0;34m.\u001b[0m\u001b[0mget\u001b[0m\u001b[0;34m(\u001b[0m\u001b[0;34m\"post_opt_callback\"\u001b[0m\u001b[0;34m,\u001b[0m \u001b[0mcallback\u001b[0m\u001b[0;34m)\u001b[0m\u001b[0;34m\u001b[0m\u001b[0;34m\u001b[0m\u001b[0m\n\u001b[0;32m-> 2065\u001b[0;31m         \u001b[0;32mreturn\u001b[0m \u001b[0mwrap_df\u001b[0m\u001b[0;34m(\u001b[0m\u001b[0mldf\u001b[0m\u001b[0;34m.\u001b[0m\u001b[0mcollect\u001b[0m\u001b[0;34m(\u001b[0m\u001b[0mcallback\u001b[0m\u001b[0;34m)\u001b[0m\u001b[0;34m)\u001b[0m\u001b[0;34m\u001b[0m\u001b[0;34m\u001b[0m\u001b[0m\n\u001b[0m\u001b[1;32m   2066\u001b[0m \u001b[0;34m\u001b[0m\u001b[0m\n\u001b[1;32m   2067\u001b[0m     \u001b[0;34m@\u001b[0m\u001b[0moverload\u001b[0m\u001b[0;34m\u001b[0m\u001b[0;34m\u001b[0m\u001b[0m\n",
      "\u001b[0;31mSchemaError\u001b[0m: datatypes of join keys don't match - `datetime`: datetime[μs] on left does not match `datetime`: datetime[μs, UTC] on right\n\nResolved plan until failure:\n\n\t---> FAILED HERE RESOLVING 'join' <---\nDF [\"datetime\"]; PROJECT */1 COLUMNS"
     ]
    }
   ],
   "source": [
    "market_close_prices_df = backtest_engine.memory_bar[\"close\"].join(\n",
    "    factor_df.select(pl.col(\"datetime\")),\n",
    "    on=\"datetime\",\n",
    "    how=\"inner\",\n",
    ")\n",
    "\n",
    "\n",
    "\n",
    "market_close_prices_df.select(\n",
    "    [pl.col(\"datetime\")] + # Start with the datetime column\n",
    "    [\n",
    "        (\n",
    "            pl.col(symbol).pct_change().shift(-1)\n",
    "            .otherwise(0.0)\n",
    "            .fill_null(0.0) # Handles nulls from shift(-1) or original pct_change if any\n",
    "            .alias(symbol)\n",
    "        )\n",
    "        for symbol in backtest_engine.vt_symbols\n",
    "    ]\n",
    ").sort(\"datetime\")"
   ]
  },
  {
   "cell_type": "code",
   "execution_count": null,
   "id": "f3fabc51",
   "metadata": {},
   "outputs": [
    {
     "data": {
      "text/html": [
       "<div><style>\n",
       ".dataframe > thead > tr,\n",
       ".dataframe > tbody > tr {\n",
       "  text-align: right;\n",
       "  white-space: pre-wrap;\n",
       "}\n",
       "</style>\n",
       "<small>shape: (7_201, 4)</small><table border=\"1\" class=\"dataframe\"><thead><tr><th>datetime</th><th>btcusdt.BINANCE</th><th>ethusdt.BINANCE</th><th>xrpusdt.BINANCE</th></tr><tr><td>datetime[μs]</td><td>f64</td><td>f64</td><td>f64</td></tr></thead><tbody><tr><td>2025-05-30 14:48:31.703517</td><td>75.32033</td><td>50.323127</td><td>99.757349</td></tr><tr><td>2025-05-30 14:49:31.703517</td><td>69.585112</td><td>123.054973</td><td>135.831781</td></tr><tr><td>2025-05-30 14:50:31.703517</td><td>67.198489</td><td>62.201816</td><td>124.95987</td></tr><tr><td>2025-05-30 14:51:31.703517</td><td>130.22661</td><td>118.451291</td><td>95.316162</td></tr><tr><td>2025-05-30 14:52:31.703517</td><td>57.43686</td><td>149.734169</td><td>64.163991</td></tr><tr><td>&hellip;</td><td>&hellip;</td><td>&hellip;</td><td>&hellip;</td></tr><tr><td>2025-06-04 14:44:31.703517</td><td>129.329856</td><td>70.796505</td><td>147.343227</td></tr><tr><td>2025-06-04 14:45:31.703517</td><td>132.032638</td><td>96.113968</td><td>85.814321</td></tr><tr><td>2025-06-04 14:46:31.703517</td><td>66.368801</td><td>52.728696</td><td>124.871295</td></tr><tr><td>2025-06-04 14:47:31.703517</td><td>117.543443</td><td>141.160633</td><td>76.071138</td></tr><tr><td>2025-06-04 14:48:31.703517</td><td>120.900935</td><td>119.837063</td><td>138.284327</td></tr></tbody></table></div>"
      ],
      "text/plain": [
       "shape: (7_201, 4)\n",
       "┌────────────────────────────┬─────────────────┬─────────────────┬─────────────────┐\n",
       "│ datetime                   ┆ btcusdt.BINANCE ┆ ethusdt.BINANCE ┆ xrpusdt.BINANCE │\n",
       "│ ---                        ┆ ---             ┆ ---             ┆ ---             │\n",
       "│ datetime[μs]               ┆ f64             ┆ f64             ┆ f64             │\n",
       "╞════════════════════════════╪═════════════════╪═════════════════╪═════════════════╡\n",
       "│ 2025-05-30 14:48:31.703517 ┆ 75.32033        ┆ 50.323127       ┆ 99.757349       │\n",
       "│ 2025-05-30 14:49:31.703517 ┆ 69.585112       ┆ 123.054973      ┆ 135.831781      │\n",
       "│ 2025-05-30 14:50:31.703517 ┆ 67.198489       ┆ 62.201816       ┆ 124.95987       │\n",
       "│ 2025-05-30 14:51:31.703517 ┆ 130.22661       ┆ 118.451291      ┆ 95.316162       │\n",
       "│ 2025-05-30 14:52:31.703517 ┆ 57.43686        ┆ 149.734169      ┆ 64.163991       │\n",
       "│ …                          ┆ …               ┆ …               ┆ …               │\n",
       "│ 2025-06-04 14:44:31.703517 ┆ 129.329856      ┆ 70.796505       ┆ 147.343227      │\n",
       "│ 2025-06-04 14:45:31.703517 ┆ 132.032638      ┆ 96.113968       ┆ 85.814321       │\n",
       "│ 2025-06-04 14:46:31.703517 ┆ 66.368801       ┆ 52.728696       ┆ 124.871295      │\n",
       "│ 2025-06-04 14:47:31.703517 ┆ 117.543443      ┆ 141.160633      ┆ 76.071138       │\n",
       "│ 2025-06-04 14:48:31.703517 ┆ 120.900935      ┆ 119.837063      ┆ 138.284327      │\n",
       "└────────────────────────────┴─────────────────┴─────────────────┴─────────────────┘"
      ]
     },
     "execution_count": 21,
     "metadata": {},
     "output_type": "execute_result"
    }
   ],
   "source": [
    "backtest_engine.memory_bar[\"close\"]"
   ]
  },
  {
   "cell_type": "code",
   "execution_count": null,
   "id": "1f17caf8",
   "metadata": {},
   "outputs": [
    {
     "data": {
      "text/html": [
       "<div><style>\n",
       ".dataframe > thead > tr,\n",
       ".dataframe > tbody > tr {\n",
       "  text-align: right;\n",
       "  white-space: pre-wrap;\n",
       "}\n",
       "</style>\n",
       "<small>shape: (7_201, 4)</small><table border=\"1\" class=\"dataframe\"><thead><tr><th>datetime</th><th>btcusdt.BINANCE</th><th>ethusdt.BINANCE</th><th>xrpusdt.BINANCE</th></tr><tr><td>datetime[μs, UTC]</td><td>f64</td><td>f64</td><td>f64</td></tr></thead><tbody><tr><td>2025-05-30 14:48:31.703517 UTC</td><td>0.0</td><td>0.0</td><td>0.0</td></tr><tr><td>2025-05-30 14:49:31.703517 UTC</td><td>-0.366008</td><td>4.641576</td><td>2.302186</td></tr><tr><td>2025-05-30 14:50:31.703517 UTC</td><td>-0.727703</td><td>3.413422</td><td>2.9254</td></tr><tr><td>2025-05-30 14:51:31.703517 UTC</td><td>3.108542</td><td>6.036053</td><td>1.258957</td></tr><tr><td>2025-05-30 14:52:31.703517 UTC</td><td>0.700206</td><td>9.327731</td><td>-1.854376</td></tr><tr><td>&hellip;</td><td>&hellip;</td><td>&hellip;</td><td>&hellip;</td></tr><tr><td>2025-06-04 14:44:31.703517 UTC</td><td>1.45069</td><td>-1.218276</td><td>1.350531</td></tr><tr><td>2025-06-04 14:45:31.703517 UTC</td><td>1.855304</td><td>-1.324281</td><td>-1.237633</td></tr><tr><td>2025-06-04 14:46:31.703517 UTC</td><td>-2.214612</td><td>-4.113984</td><td>-0.339514</td></tr><tr><td>2025-06-04 14:47:31.703517 UTC</td><td>-1.414318</td><td>-0.017893</td><td>-2.909403</td></tr><tr><td>2025-06-04 14:48:31.703517 UTC</td><td>-0.651779</td><td>1.175058</td><td>-0.427011</td></tr></tbody></table></div>"
      ],
      "text/plain": [
       "shape: (7_201, 4)\n",
       "┌────────────────────────────────┬─────────────────┬─────────────────┬─────────────────┐\n",
       "│ datetime                       ┆ btcusdt.BINANCE ┆ ethusdt.BINANCE ┆ xrpusdt.BINANCE │\n",
       "│ ---                            ┆ ---             ┆ ---             ┆ ---             │\n",
       "│ datetime[μs, UTC]              ┆ f64             ┆ f64             ┆ f64             │\n",
       "╞════════════════════════════════╪═════════════════╪═════════════════╪═════════════════╡\n",
       "│ 2025-05-30 14:48:31.703517 UTC ┆ 0.0             ┆ 0.0             ┆ 0.0             │\n",
       "│ 2025-05-30 14:49:31.703517 UTC ┆ -0.366008       ┆ 4.641576        ┆ 2.302186        │\n",
       "│ 2025-05-30 14:50:31.703517 UTC ┆ -0.727703       ┆ 3.413422        ┆ 2.9254          │\n",
       "│ 2025-05-30 14:51:31.703517 UTC ┆ 3.108542        ┆ 6.036053        ┆ 1.258957        │\n",
       "│ 2025-05-30 14:52:31.703517 UTC ┆ 0.700206        ┆ 9.327731        ┆ -1.854376       │\n",
       "│ …                              ┆ …               ┆ …               ┆ …               │\n",
       "│ 2025-06-04 14:44:31.703517 UTC ┆ 1.45069         ┆ -1.218276       ┆ 1.350531        │\n",
       "│ 2025-06-04 14:45:31.703517 UTC ┆ 1.855304        ┆ -1.324281       ┆ -1.237633       │\n",
       "│ 2025-06-04 14:46:31.703517 UTC ┆ -2.214612       ┆ -4.113984       ┆ -0.339514       │\n",
       "│ 2025-06-04 14:47:31.703517 UTC ┆ -1.414318       ┆ -0.017893       ┆ -2.909403       │\n",
       "│ 2025-06-04 14:48:31.703517 UTC ┆ -0.651779       ┆ 1.175058        ┆ -0.427011       │\n",
       "└────────────────────────────────┴─────────────────┴─────────────────┴─────────────────┘"
      ]
     },
     "execution_count": 22,
     "metadata": {},
     "output_type": "execute_result"
    }
   ],
   "source": [
    "factor_df"
   ]
  }
 ],
 "metadata": {
  "kernelspec": {
   "display_name": "venv",
   "language": "python",
   "name": "python3"
  },
  "language_info": {
   "codemirror_mode": {
    "name": "ipython",
    "version": 3
   },
   "file_extension": ".py",
   "mimetype": "text/x-python",
   "name": "python",
   "nbconvert_exporter": "python",
   "pygments_lexer": "ipython3",
   "version": "3.12.9"
  }
 },
 "nbformat": 4,
 "nbformat_minor": 5
}
