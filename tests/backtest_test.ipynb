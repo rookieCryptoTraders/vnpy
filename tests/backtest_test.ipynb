{
 "cells": [
  {
   "cell_type": "code",
   "execution_count": 1,
   "id": "908e66dd",
   "metadata": {},
   "outputs": [
    {
     "name": "stdout",
     "output_type": "stream",
     "text": [
      "[vnpy.trader.setting] Updated SETTINGS from vt_setting.json\n",
      "\u001b[32m2025-06-04 14:48:31.636\u001b[0m | \u001b[1mINFO\u001b[0m | \u001b[36mFactorMakerBacktestOrchestrator\u001b[0m | \u001b[1m[FactorMakerBacktestOrchestrator] Successfully imported factor module: 'vnpy.factor.factors'\u001b[0m\n",
      "\u001b[32m2025-06-04 14:48:31.636\u001b[0m | \u001b[1mINFO\u001b[0m | \u001b[36mFactorMakerBacktestOrchestrator\u001b[0m | \u001b[1m[FactorMakerBacktestOrchestrator] FactorMakerBacktestOrchestrator initialized.\u001b[0m\n"
     ]
    }
   ],
   "source": [
    "%matplotlib inline\n",
    "from vnpy.factor.backtesting.backtesting import BacktestEngine\n",
    "from vnpy.factor.setting import get_backtest_data_cache_path, get_backtest_report_path\n",
    "\n",
    "\n",
    "backtest_engine = BacktestEngine(\n",
    "    factor_module_name=\"vnpy.factor.factors\",\n",
    "    output_data_dir_for_analyser_reports=get_backtest_report_path(),\n",
    "    output_data_dir_for_calculator_cache=get_backtest_data_cache_path()\n",
    ")"
   ]
  },
  {
   "cell_type": "code",
   "execution_count": 2,
   "id": "b9ac7d41",
   "metadata": {},
   "outputs": [],
   "source": [
    "vt_symbols = ['btcusdt.BINANCE', 'ethusdt.BINANCE', 'xrpusdt.BINANCE']"
   ]
  },
  {
   "cell_type": "code",
   "execution_count": 3,
   "id": "71c3bd16",
   "metadata": {},
   "outputs": [
    {
     "data": {
      "text/plain": [
       "PosixPath('/Users/chenzhao/Documents/crypto_vnpy/vnpy/tests/.vnpy/factor/cache/backtest_factor_data_cache')"
      ]
     },
     "execution_count": 3,
     "metadata": {},
     "output_type": "execute_result"
    }
   ],
   "source": [
    "backtest_engine.output_data_dir_for_calculator_cache"
   ]
  },
  {
   "cell_type": "code",
   "execution_count": 4,
   "id": "048570ae",
   "metadata": {},
   "outputs": [],
   "source": [
    "from vnpy.factor.setting import FACTOR_DEFINITIONS_FILEPATH\n",
    "from vnpy.factor.utils.factor_utils import load_factor_setting\n",
    "\n",
    "\n",
    "factor_definations = load_factor_setting(FACTOR_DEFINITIONS_FILEPATH)"
   ]
  },
  {
   "cell_type": "code",
   "execution_count": 5,
   "id": "5d9ff54e",
   "metadata": {},
   "outputs": [
    {
     "data": {
      "text/plain": [
       "{'class_name': 'MACDFactor',\n",
       " 'factor_name': 'MACDFactor',\n",
       " 'factor_key': 'factor_1m_macdfactor@fast_period_12-signal_period_9-slow_period_26',\n",
       " 'freq': '1m',\n",
       " 'params': {'fast_period': 12, 'slow_period': 26, 'signal_period': 9},\n",
       " 'dependencies_factor': [{'class_name': 'EMAFactor',\n",
       "   'factor_name': 'fast_ema',\n",
       "   'factor_key': 'factor_1m_emafactor@period_12',\n",
       "   'freq': '1m',\n",
       "   'params': {'period': 12},\n",
       "   'dependencies_factor': [],\n",
       "   'dependencies_freq': [],\n",
       "   'dependencies_symbol': [],\n",
       "   'dependencies_exchange': [],\n",
       "   'last_run_datetime': '2025-06-02 11:17:40',\n",
       "   'factor_mode': 'LIVE'},\n",
       "  {'class_name': 'EMAFactor',\n",
       "   'factor_name': 'slow_ema',\n",
       "   'factor_key': 'factor_1m_emafactor@period_26',\n",
       "   'freq': '1m',\n",
       "   'params': {'period': 26},\n",
       "   'dependencies_factor': [],\n",
       "   'dependencies_freq': [],\n",
       "   'dependencies_symbol': [],\n",
       "   'dependencies_exchange': [],\n",
       "   'last_run_datetime': '2025-06-02 11:17:40',\n",
       "   'factor_mode': 'LIVE'}],\n",
       " 'dependencies_freq': [],\n",
       " 'dependencies_symbol': [],\n",
       " 'dependencies_exchange': [],\n",
       " 'last_run_datetime': '2025-06-02 11:17:40',\n",
       " 'factor_mode': 'LIVE'}"
      ]
     },
     "execution_count": 5,
     "metadata": {},
     "output_type": "execute_result"
    }
   ],
   "source": [
    "macd_factor_defination = factor_definations[2]\n",
    "macd_factor_defination"
   ]
  },
  {
   "cell_type": "code",
   "execution_count": 6,
   "id": "49436d64",
   "metadata": {},
   "outputs": [],
   "source": [
    "import importlib\n",
    "\n",
    "from vnpy.factor.utils.factor_utils import init_factors\n",
    "\n",
    "\n",
    "factor_module = importlib.import_module(\"vnpy.factor.factors\")\n",
    "macd_factor = init_factors(\n",
    "    module_for_primary_classes=factor_module,\n",
    "    settings_data=[macd_factor_defination],\n",
    "    dependencies_module_lookup_for_instances=factor_module\n",
    ")[0]"
   ]
  },
  {
   "cell_type": "code",
   "execution_count": 7,
   "id": "0cdaeeb7",
   "metadata": {},
   "outputs": [
    {
     "data": {
      "text/plain": [
       "{'fast_period': 12,\n",
       " 'slow_period': 26,\n",
       " 'signal_period': 9,\n",
       " 'fast_ema.period': 12,\n",
       " 'slow_ema.period': 26}"
      ]
     },
     "execution_count": 7,
     "metadata": {},
     "output_type": "execute_result"
    }
   ],
   "source": [
    "macd_factor.get_nested_params_for_optimizer()"
   ]
  },
  {
   "cell_type": "code",
   "execution_count": 8,
   "id": "add6df2e",
   "metadata": {},
   "outputs": [
    {
     "name": "stdout",
     "output_type": "stream",
     "text": [
      "\u001b[32m2025-06-04 14:48:31.681\u001b[0m | \u001b[1mINFO\u001b[0m | \u001b[36mFactorMakerBacktestOrchestrator\u001b[0m | \u001b[1m[FactorMakerBacktestOrchestrator] Initializing and flattening factor based on definition. Symbols: ['btcusdt.BINANCE', 'ethusdt.BINANCE', 'xrpusdt.BINANCE']\u001b[0m\n",
      "\u001b[32m2025-06-04 14:48:31.682\u001b[0m | \u001b[1mINFO\u001b[0m | \u001b[36mFactorMakerBacktestOrchestrator\u001b[0m | \u001b[1m[FactorMakerBacktestOrchestrator] Target factor instance created: factor_1m_macdfactor@fast_period_12-signal_period_9-slow_period_26\u001b[0m\n",
      "\u001b[32m2025-06-04 14:48:31.683\u001b[0m | \u001b[34m\u001b[1mDEBUG\u001b[0m | \u001b[36mFactorMakerBacktestOrchestrator\u001b[0m | \u001b[34m\u001b[1m[FactorMakerBacktestOrchestrator] Factor tree flattened. Total factors in graph: 3\u001b[0m\n"
     ]
    }
   ],
   "source": [
    "target_factor_instance, flattened_factors = backtest_engine._init_and_flatten_factor(macd_factor, vt_symbols)"
   ]
  },
  {
   "cell_type": "code",
   "execution_count": 9,
   "id": "1b7b44c4",
   "metadata": {},
   "outputs": [
    {
     "name": "stdout",
     "output_type": "stream",
     "text": [
      "\u001b[32m2025-06-04 14:48:31.687\u001b[0m | \u001b[1mINFO\u001b[0m | \u001b[36mFactorMakerFactorCalculator\u001b[0m | \u001b[1m[FactorMakerFactorCalculator] FactorCalculator initialized. Factor cache dir: /Users/chenzhao/Documents/crypto_vnpy/vnpy/tests/.vnpy/factor/cache/backtest_factor_data_cache\u001b[0m\n",
      "\u001b[32m2025-06-04 14:48:31.688\u001b[0m | \u001b[1mINFO\u001b[0m | \u001b[36mFactorMakerFactorCalculator\u001b[0m | \u001b[1m[FactorMakerFactorCalculator] Factor cache directory ensured at: /Users/chenzhao/Documents/crypto_vnpy/vnpy/tests/.vnpy/factor/cache/backtest_factor_data_cache\u001b[0m\n"
     ]
    }
   ],
   "source": [
    "calculator = backtest_engine._create_calculator()"
   ]
  },
  {
   "cell_type": "code",
   "execution_count": 10,
   "id": "34270fbd",
   "metadata": {},
   "outputs": [],
   "source": [
    "from datetime import datetime\n",
    "\n",
    "import numpy as np\n",
    "import polars as pl\n",
    "from typing import List, Dict\n",
    "\n",
    "# Schema for the intermediate flat DataFrame\n",
    "_OHLCV_FLAT_SCHEMA = {\n",
    "    \"datetime\": pl.Datetime(time_unit=\"us\"),\n",
    "    \"symbol\": pl.Utf8,\n",
    "    \"open\": pl.Float64,\n",
    "    \"high\": pl.Float64,\n",
    "    \"low\": pl.Float64,\n",
    "    \"close\": pl.Float64,\n",
    "    \"volume\": pl.Float64,\n",
    "}\n",
    "\n",
    "\n",
    "def generate_fake_ohlcv_wide_dict(\n",
    "    start_date: datetime,\n",
    "    end_date: datetime,\n",
    "    interval: str,\n",
    "    vt_symbols: List[str]\n",
    ") -> Dict[str, pl.DataFrame]:\n",
    "    \"\"\"\n",
    "    Generates a dictionary of Polars DataFrames with fake OHLCV data.\n",
    "    Each key in the dictionary is an OHLCV type (\"open\", \"high\", \"low\", \"close\", \"volume\").\n",
    "    Each DataFrame has a \"datetime\" column and columns for each symbol in vt_symbols,\n",
    "    containing the respective OHLCV values.\n",
    "\n",
    "    Args:\n",
    "        start_date: The start datetime for the data generation.\n",
    "        end_date: The end datetime for the data generation.\n",
    "        interval: Polars interval string for fake data generation (e.g., \"1m\", \"1h\").\n",
    "        vt_symbols: List of symbol strings (e.g., [\"BTCUSDT\", \"ETHUSDT\"]).\n",
    "\n",
    "    Returns:\n",
    "        Dict[str, pl.DataFrame]: A dictionary where keys are OHLCV types and\n",
    "                                 values are \"wide\" DataFrames. Returns an empty\n",
    "                                 dictionary if no data can be generated.\n",
    "    \"\"\"\n",
    "    if not vt_symbols:\n",
    "        return {}\n",
    "\n",
    "    # --- Inlined logic from _generate_fake_ohlcv_flat_df ---\n",
    "    flat_df: pl.DataFrame\n",
    "    try:\n",
    "        fake_dates = pl.datetime_range(\n",
    "            start=start_date,\n",
    "            end=end_date,\n",
    "            interval=interval,\n",
    "            time_unit=\"us\",  # Assuming interval is in minutes\n",
    "            eager=True,\n",
    "            time_zone=\"UTC\"\n",
    "        )\n",
    "    except Exception: # Handle potential errors in datetime_range\n",
    "        return {} # Return empty dict if date range generation fails\n",
    "\n",
    "    if len(fake_dates) == 0:\n",
    "        return {} # Return empty dict if no dates are generated\n",
    "\n",
    "    num_fake_rows_per_symbol = len(fake_dates)\n",
    "    all_rows_data = []\n",
    "\n",
    "    for symbol in vt_symbols:\n",
    "        # Generate somewhat realistic OHLCV data\n",
    "        close_prices = np.random.rand(num_fake_rows_per_symbol) * 100 + 50\n",
    "        open_prices = close_prices + (np.random.rand(num_fake_rows_per_symbol) - 0.5) * 10\n",
    "        high_prices = np.maximum(open_prices, close_prices) + np.random.rand(num_fake_rows_per_symbol) * 5\n",
    "        low_prices = np.minimum(open_prices, close_prices) - np.random.rand(num_fake_rows_per_symbol) * 5\n",
    "        low_prices = np.maximum(low_prices, 0.01) # Ensure low is not zero or negative\n",
    "        volumes = np.random.rand(num_fake_rows_per_symbol) * 1000 + 500\n",
    "\n",
    "        for i in range(num_fake_rows_per_symbol):\n",
    "            all_rows_data.append({\n",
    "                \"datetime\": fake_dates[i],\n",
    "                \"symbol\": symbol,\n",
    "                \"open\": open_prices[i],\n",
    "                \"high\": high_prices[i],\n",
    "                \"low\": low_prices[i],\n",
    "                \"close\": close_prices[i],\n",
    "                \"volume\": volumes[i],\n",
    "            })\n",
    "\n",
    "    if not all_rows_data: # Should only happen if vt_symbols was empty, but that's checked above\n",
    "        return {}\n",
    "\n",
    "    flat_df = pl.DataFrame(all_rows_data, schema=_OHLCV_FLAT_SCHEMA)\n",
    "    # --- End of inlined logic ---\n",
    "\n",
    "    if flat_df.is_empty(): # Double check, though previous checks should cover this\n",
    "        return {}\n",
    "\n",
    "    ohlcv_dict: Dict[str, pl.DataFrame] = {}\n",
    "    ohlcv_types = [\"open\", \"high\", \"low\", \"close\", \"volume\"]\n",
    "\n",
    "    # Get unique sorted datetimes once for potential error case in pivot\n",
    "    unique_sorted_datetimes = flat_df.get_column(\"datetime\").unique().sort()\n",
    "\n",
    "    for ohlcv_type in ohlcv_types:\n",
    "        try:\n",
    "            pivoted_df = flat_df.pivot(\n",
    "                index=\"datetime\",\n",
    "                on=\"symbol\",  # Changed \"columns\" to \"on\"\n",
    "                values=ohlcv_type\n",
    "            )\n",
    "            # Sort by datetime just in case pivoting changes order\n",
    "            pivoted_df = pivoted_df.sort(\"datetime\")\n",
    "            ohlcv_dict[ohlcv_type] = pivoted_df\n",
    "        except Exception as e:\n",
    "            # Handle potential errors during pivoting\n",
    "            print(f\"Error pivoting data for {ohlcv_type}: {e}. Creating empty structure for this type.\")\n",
    "            # Create an empty DataFrame with the expected structure\n",
    "            empty_df_for_type = pl.DataFrame({\"datetime\": unique_sorted_datetimes})\n",
    "            for sym in vt_symbols:\n",
    "                 empty_df_for_type = empty_df_for_type.with_columns(pl.lit(None, dtype=pl.Float64).alias(sym))\n",
    "            ohlcv_dict[ohlcv_type] = empty_df_for_type\n",
    "\n",
    "    return ohlcv_dict"
   ]
  },
  {
   "cell_type": "code",
   "execution_count": 11,
   "id": "0cff5cbb",
   "metadata": {},
   "outputs": [],
   "source": [
    "from datetime import timedelta\n",
    "\n",
    "\n",
    "end_dt = datetime.now()\n",
    "start_dt = end_dt - timedelta(days=5) # Generate for the last 30 minutes\n",
    "time_interval = \"1m\" # 5-minute interval\n",
    "\n",
    "ohlcv_data_dictionary = generate_fake_ohlcv_wide_dict(\n",
    "    start_date=start_dt,\n",
    "    end_date=end_dt,\n",
    "    interval=time_interval,\n",
    "    vt_symbols=vt_symbols\n",
    ")"
   ]
  },
  {
   "cell_type": "code",
   "execution_count": 12,
   "id": "9b969b45",
   "metadata": {},
   "outputs": [],
   "source": [
    "backtest_engine.memory_bar = ohlcv_data_dictionary\n",
    "backtest_engine.num_data_rows = backtest_engine.memory_bar[\"close\"].height"
   ]
  },
  {
   "cell_type": "code",
   "execution_count": 13,
   "id": "23eaec13",
   "metadata": {},
   "outputs": [
    {
     "data": {
      "text/plain": [
       "{'open': shape: (7_201, 4)\n",
       " ┌────────────────────────────┬─────────────────┬─────────────────┬─────────────────┐\n",
       " │ datetime                   ┆ btcusdt.BINANCE ┆ ethusdt.BINANCE ┆ xrpusdt.BINANCE │\n",
       " │ ---                        ┆ ---             ┆ ---             ┆ ---             │\n",
       " │ datetime[μs]               ┆ f64             ┆ f64             ┆ f64             │\n",
       " ╞════════════════════════════╪═════════════════╪═════════════════╪═════════════════╡\n",
       " │ 2025-05-30 14:48:31.703517 ┆ 72.322443       ┆ 50.286653       ┆ 102.966383      │\n",
       " │ 2025-05-30 14:49:31.703517 ┆ 69.714506       ┆ 119.285236      ┆ 140.2193        │\n",
       " │ 2025-05-30 14:50:31.703517 ┆ 69.937841       ┆ 64.731664       ┆ 127.119094      │\n",
       " │ 2025-05-30 14:51:31.703517 ┆ 127.440508      ┆ 118.994463      ┆ 98.30896        │\n",
       " │ 2025-05-30 14:52:31.703517 ┆ 55.283141       ┆ 148.617473      ┆ 63.70866        │\n",
       " │ …                          ┆ …               ┆ …               ┆ …               │\n",
       " │ 2025-06-04 14:44:31.703517 ┆ 126.619437      ┆ 70.841501       ┆ 152.332224      │\n",
       " │ 2025-06-04 14:45:31.703517 ┆ 129.027771      ┆ 92.13294        ┆ 82.285817       │\n",
       " │ 2025-06-04 14:46:31.703517 ┆ 70.606395       ┆ 49.998087       ┆ 129.216867      │\n",
       " │ 2025-06-04 14:47:31.703517 ┆ 119.388708      ┆ 138.564565      ┆ 80.229012       │\n",
       " │ 2025-06-04 14:48:31.703517 ┆ 123.866506      ┆ 115.370547      ┆ 139.619536      │\n",
       " └────────────────────────────┴─────────────────┴─────────────────┴─────────────────┘,\n",
       " 'high': shape: (7_201, 4)\n",
       " ┌────────────────────────────┬─────────────────┬─────────────────┬─────────────────┐\n",
       " │ datetime                   ┆ btcusdt.BINANCE ┆ ethusdt.BINANCE ┆ xrpusdt.BINANCE │\n",
       " │ ---                        ┆ ---             ┆ ---             ┆ ---             │\n",
       " │ datetime[μs]               ┆ f64             ┆ f64             ┆ f64             │\n",
       " ╞════════════════════════════╪═════════════════╪═════════════════╪═════════════════╡\n",
       " │ 2025-05-30 14:48:31.703517 ┆ 77.526006       ┆ 54.387389       ┆ 103.008008      │\n",
       " │ 2025-05-30 14:49:31.703517 ┆ 72.842734       ┆ 125.169541      ┆ 143.675072      │\n",
       " │ 2025-05-30 14:50:31.703517 ┆ 72.30325        ┆ 65.014967       ┆ 130.027576      │\n",
       " │ 2025-05-30 14:51:31.703517 ┆ 134.921689      ┆ 122.1365        ┆ 99.982346       │\n",
       " │ 2025-05-30 14:52:31.703517 ┆ 58.279356       ┆ 152.712632      ┆ 69.087688       │\n",
       " │ …                          ┆ …               ┆ …               ┆ …               │\n",
       " │ 2025-06-04 14:44:31.703517 ┆ 131.16996       ┆ 74.701509       ┆ 154.086505      │\n",
       " │ 2025-06-04 14:45:31.703517 ┆ 136.026192      ┆ 99.85772        ┆ 89.13873        │\n",
       " │ 2025-06-04 14:46:31.703517 ┆ 75.521613       ┆ 55.247458       ┆ 131.601029      │\n",
       " │ 2025-06-04 14:47:31.703517 ┆ 123.00008       ┆ 142.488523      ┆ 83.0267         │\n",
       " │ 2025-06-04 14:48:31.703517 ┆ 128.220133      ┆ 122.160491      ┆ 140.821975      │\n",
       " └────────────────────────────┴─────────────────┴─────────────────┴─────────────────┘,\n",
       " 'low': shape: (7_201, 4)\n",
       " ┌────────────────────────────┬─────────────────┬─────────────────┬─────────────────┐\n",
       " │ datetime                   ┆ btcusdt.BINANCE ┆ ethusdt.BINANCE ┆ xrpusdt.BINANCE │\n",
       " │ ---                        ┆ ---             ┆ ---             ┆ ---             │\n",
       " │ datetime[μs]               ┆ f64             ┆ f64             ┆ f64             │\n",
       " ╞════════════════════════════╪═════════════════╪═════════════════╪═════════════════╡\n",
       " │ 2025-05-30 14:48:31.703517 ┆ 69.578745       ┆ 46.081438       ┆ 94.928291       │\n",
       " │ 2025-05-30 14:49:31.703517 ┆ 65.372621       ┆ 116.179519      ┆ 134.998794      │\n",
       " │ 2025-05-30 14:50:31.703517 ┆ 63.371312       ┆ 57.370832       ┆ 120.17402       │\n",
       " │ 2025-05-30 14:51:31.703517 ┆ 124.783926      ┆ 116.723406      ┆ 92.861773       │\n",
       " │ 2025-05-30 14:52:31.703517 ┆ 52.228574       ┆ 148.267552      ┆ 61.91887        │\n",
       " │ …                          ┆ …               ┆ …               ┆ …               │\n",
       " │ 2025-06-04 14:44:31.703517 ┆ 123.404982      ┆ 65.814851       ┆ 145.414343      │\n",
       " │ 2025-06-04 14:45:31.703517 ┆ 126.621136      ┆ 88.090348       ┆ 82.208562       │\n",
       " │ 2025-06-04 14:46:31.703517 ┆ 66.079717       ┆ 47.593206       ┆ 121.279513      │\n",
       " │ 2025-06-04 14:47:31.703517 ┆ 114.60938       ┆ 134.078572      ┆ 73.232178       │\n",
       " │ 2025-06-04 14:48:31.703517 ┆ 116.88408       ┆ 115.060147      ┆ 135.705608      │\n",
       " └────────────────────────────┴─────────────────┴─────────────────┴─────────────────┘,\n",
       " 'close': shape: (7_201, 4)\n",
       " ┌────────────────────────────┬─────────────────┬─────────────────┬─────────────────┐\n",
       " │ datetime                   ┆ btcusdt.BINANCE ┆ ethusdt.BINANCE ┆ xrpusdt.BINANCE │\n",
       " │ ---                        ┆ ---             ┆ ---             ┆ ---             │\n",
       " │ datetime[μs]               ┆ f64             ┆ f64             ┆ f64             │\n",
       " ╞════════════════════════════╪═════════════════╪═════════════════╪═════════════════╡\n",
       " │ 2025-05-30 14:48:31.703517 ┆ 75.32033        ┆ 50.323127       ┆ 99.757349       │\n",
       " │ 2025-05-30 14:49:31.703517 ┆ 69.585112       ┆ 123.054973      ┆ 135.831781      │\n",
       " │ 2025-05-30 14:50:31.703517 ┆ 67.198489       ┆ 62.201816       ┆ 124.95987       │\n",
       " │ 2025-05-30 14:51:31.703517 ┆ 130.22661       ┆ 118.451291      ┆ 95.316162       │\n",
       " │ 2025-05-30 14:52:31.703517 ┆ 57.43686        ┆ 149.734169      ┆ 64.163991       │\n",
       " │ …                          ┆ …               ┆ …               ┆ …               │\n",
       " │ 2025-06-04 14:44:31.703517 ┆ 129.329856      ┆ 70.796505       ┆ 147.343227      │\n",
       " │ 2025-06-04 14:45:31.703517 ┆ 132.032638      ┆ 96.113968       ┆ 85.814321       │\n",
       " │ 2025-06-04 14:46:31.703517 ┆ 66.368801       ┆ 52.728696       ┆ 124.871295      │\n",
       " │ 2025-06-04 14:47:31.703517 ┆ 117.543443      ┆ 141.160633      ┆ 76.071138       │\n",
       " │ 2025-06-04 14:48:31.703517 ┆ 120.900935      ┆ 119.837063      ┆ 138.284327      │\n",
       " └────────────────────────────┴─────────────────┴─────────────────┴─────────────────┘,\n",
       " 'volume': shape: (7_201, 4)\n",
       " ┌────────────────────────────┬─────────────────┬─────────────────┬─────────────────┐\n",
       " │ datetime                   ┆ btcusdt.BINANCE ┆ ethusdt.BINANCE ┆ xrpusdt.BINANCE │\n",
       " │ ---                        ┆ ---             ┆ ---             ┆ ---             │\n",
       " │ datetime[μs]               ┆ f64             ┆ f64             ┆ f64             │\n",
       " ╞════════════════════════════╪═════════════════╪═════════════════╪═════════════════╡\n",
       " │ 2025-05-30 14:48:31.703517 ┆ 1313.034078     ┆ 1179.353552     ┆ 1177.597931     │\n",
       " │ 2025-05-30 14:49:31.703517 ┆ 859.913308      ┆ 809.197762      ┆ 643.622041      │\n",
       " │ 2025-05-30 14:50:31.703517 ┆ 793.561791      ┆ 1186.633626     ┆ 1046.381402     │\n",
       " │ 2025-05-30 14:51:31.703517 ┆ 972.584154      ┆ 706.51507       ┆ 685.534192      │\n",
       " │ 2025-05-30 14:52:31.703517 ┆ 1126.416686     ┆ 712.289903      ┆ 1194.308239     │\n",
       " │ …                          ┆ …               ┆ …               ┆ …               │\n",
       " │ 2025-06-04 14:44:31.703517 ┆ 1232.879589     ┆ 501.754365      ┆ 1074.437549     │\n",
       " │ 2025-06-04 14:45:31.703517 ┆ 664.460461      ┆ 1365.860557     ┆ 1183.388855     │\n",
       " │ 2025-06-04 14:46:31.703517 ┆ 919.781588      ┆ 605.238078      ┆ 725.850748      │\n",
       " │ 2025-06-04 14:47:31.703517 ┆ 822.668642      ┆ 961.700396      ┆ 1025.807076     │\n",
       " │ 2025-06-04 14:48:31.703517 ┆ 1325.975822     ┆ 1179.299497     ┆ 860.276173      │\n",
       " └────────────────────────────┴─────────────────┴─────────────────┴─────────────────┘}"
      ]
     },
     "execution_count": 13,
     "metadata": {},
     "output_type": "execute_result"
    }
   ],
   "source": [
    "ohlcv_data_dictionary"
   ]
  },
  {
   "cell_type": "code",
   "execution_count": 14,
   "id": "b866cda2",
   "metadata": {},
   "outputs": [
    {
     "name": "stdout",
     "output_type": "stream",
     "text": [
      "\u001b[32m2025-06-04 14:48:31.891\u001b[0m | \u001b[1mINFO\u001b[0m | \u001b[36mFactorMakerBacktestOrchestrator\u001b[0m | \u001b[1m[FactorMakerBacktestOrchestrator] Starting factor value computation phase...\u001b[0m\n",
      "\u001b[32m2025-06-04 14:48:31.893\u001b[0m | \u001b[34m\u001b[1mDEBUG\u001b[0m | \u001b[36mFactorMakerFactorCalculator\u001b[0m | \u001b[34m\u001b[1m[FactorMakerFactorCalculator] Aligning vt_symbols in factor 'factor_1m_emafactor@period_12' to ['btcusdt.BINANCE', 'ethusdt.BINANCE', 'xrpusdt.BINANCE']\u001b[0m\n",
      "\u001b[32m2025-06-04 14:48:31.895\u001b[0m | \u001b[34m\u001b[1mDEBUG\u001b[0m | \u001b[36mFactorMakerFactorCalculator\u001b[0m | \u001b[34m\u001b[1m[FactorMakerFactorCalculator] Aligning vt_symbols in factor 'factor_1m_emafactor@period_26' to ['btcusdt.BINANCE', 'ethusdt.BINANCE', 'xrpusdt.BINANCE']\u001b[0m\n",
      "\u001b[32m2025-06-04 14:48:31.896\u001b[0m | \u001b[1mINFO\u001b[0m | \u001b[36mFactorMakerFactorCalculator\u001b[0m | \u001b[1m[FactorMakerFactorCalculator] Starting calculation for: factor_1m_macdfactor@fast_period_12-signal_period_9-slow_period_26 with symbols ['btcusdt.BINANCE', 'ethusdt.BINANCE', 'xrpusdt.BINANCE']\u001b[0m\n",
      "\u001b[32m2025-06-04 14:48:31.897\u001b[0m | \u001b[34m\u001b[1mDEBUG\u001b[0m | \u001b[36mFactorMakerFactorCalculator\u001b[0m | \u001b[34m\u001b[1m[FactorMakerFactorCalculator] Determined calculation order for 3 factors.\u001b[0m\n",
      "\u001b[32m2025-06-04 14:48:31.898\u001b[0m | \u001b[1mINFO\u001b[0m | \u001b[36mFactorMakerFactorCalculator\u001b[0m | \u001b[1m[FactorMakerFactorCalculator] Initializing factor memory for 3 factors...\u001b[0m\n",
      "\u001b[32m2025-06-04 14:48:31.912\u001b[0m | \u001b[1mINFO\u001b[0m | \u001b[36mFactorMakerFactorCalculator\u001b[0m | \u001b[1m[FactorMakerFactorCalculator] Initialized 3 FactorMemory instances.\u001b[0m\n",
      "\u001b[32m2025-06-04 14:48:31.914\u001b[0m | \u001b[1mINFO\u001b[0m | \u001b[36mFactorMakerFactorCalculator\u001b[0m | \u001b[1m[FactorMakerFactorCalculator] Building Dask graph for 3 factors...\u001b[0m\n",
      "\u001b[32m2025-06-04 14:48:31.916\u001b[0m | \u001b[1mINFO\u001b[0m | \u001b[36mFactorMakerFactorCalculator\u001b[0m | \u001b[1m[FactorMakerFactorCalculator] Built Dask graph with 3 tasks.\u001b[0m\n",
      "\u001b[32m2025-06-04 14:48:31.917\u001b[0m | \u001b[1mINFO\u001b[0m | \u001b[36mFactorMakerFactorCalculator\u001b[0m | \u001b[1m[FactorMakerFactorCalculator] Executing Dask graph for 3 factors...\u001b[0m\n",
      "[########################################] | 100% Completed | 105.82 ms\n",
      "\u001b[32m2025-06-04 14:48:32.160\u001b[0m | \u001b[1mINFO\u001b[0m | \u001b[36mFactorMakerFactorCalculator\u001b[0m | \u001b[1m[FactorMakerFactorCalculator] Dask computation finished in 0.243s.\u001b[0m\n",
      "\u001b[32m2025-06-04 14:48:32.213\u001b[0m | \u001b[34m\u001b[1mDEBUG\u001b[0m | \u001b[36mFactorMakerFactorCalculator\u001b[0m | \u001b[34m\u001b[1m[FactorMakerFactorCalculator] GC performed.\u001b[0m\n",
      "\u001b[32m2025-06-04 14:48:32.214\u001b[0m | \u001b[1mINFO\u001b[0m | \u001b[36mFactorMakerFactorCalculator\u001b[0m | \u001b[1m[FactorMakerFactorCalculator] Successfully retrieved data for 'factor_1m_macdfactor@fast_period_12-signal_period_9-slow_period_26'. Shape: (7201, 4)\u001b[0m\n"
     ]
    }
   ],
   "source": [
    "factor_df = backtest_engine._run_factor_computation(\n",
    "        calculator=calculator,\n",
    "        target_factor_instance=target_factor_instance,\n",
    "        flattened_factors=flattened_factors,\n",
    "        vt_symbols_for_run=vt_symbols,  # Use the symbols for this specific run\n",
    "    )"
   ]
  },
  {
   "cell_type": "code",
   "execution_count": 15,
   "id": "1c158b1d",
   "metadata": {},
   "outputs": [
    {
     "data": {
      "text/html": [
       "<div><style>\n",
       ".dataframe > thead > tr,\n",
       ".dataframe > tbody > tr {\n",
       "  text-align: right;\n",
       "  white-space: pre-wrap;\n",
       "}\n",
       "</style>\n",
       "<small>shape: (7_201, 4)</small><table border=\"1\" class=\"dataframe\"><thead><tr><th>datetime</th><th>btcusdt.BINANCE</th><th>ethusdt.BINANCE</th><th>xrpusdt.BINANCE</th></tr><tr><td>datetime[μs, UTC]</td><td>f64</td><td>f64</td><td>f64</td></tr></thead><tbody><tr><td>2025-05-30 14:48:31.703517 UTC</td><td>0.0</td><td>0.0</td><td>0.0</td></tr><tr><td>2025-05-30 14:49:31.703517 UTC</td><td>-0.366008</td><td>4.641576</td><td>2.302186</td></tr><tr><td>2025-05-30 14:50:31.703517 UTC</td><td>-0.727703</td><td>3.413422</td><td>2.9254</td></tr><tr><td>2025-05-30 14:51:31.703517 UTC</td><td>3.108542</td><td>6.036053</td><td>1.258957</td></tr><tr><td>2025-05-30 14:52:31.703517 UTC</td><td>0.700206</td><td>9.327731</td><td>-1.854376</td></tr><tr><td>&hellip;</td><td>&hellip;</td><td>&hellip;</td><td>&hellip;</td></tr><tr><td>2025-06-04 14:44:31.703517 UTC</td><td>1.45069</td><td>-1.218276</td><td>1.350531</td></tr><tr><td>2025-06-04 14:45:31.703517 UTC</td><td>1.855304</td><td>-1.324281</td><td>-1.237633</td></tr><tr><td>2025-06-04 14:46:31.703517 UTC</td><td>-2.214612</td><td>-4.113984</td><td>-0.339514</td></tr><tr><td>2025-06-04 14:47:31.703517 UTC</td><td>-1.414318</td><td>-0.017893</td><td>-2.909403</td></tr><tr><td>2025-06-04 14:48:31.703517 UTC</td><td>-0.651779</td><td>1.175058</td><td>-0.427011</td></tr></tbody></table></div>"
      ],
      "text/plain": [
       "shape: (7_201, 4)\n",
       "┌────────────────────────────────┬─────────────────┬─────────────────┬─────────────────┐\n",
       "│ datetime                       ┆ btcusdt.BINANCE ┆ ethusdt.BINANCE ┆ xrpusdt.BINANCE │\n",
       "│ ---                            ┆ ---             ┆ ---             ┆ ---             │\n",
       "│ datetime[μs, UTC]              ┆ f64             ┆ f64             ┆ f64             │\n",
       "╞════════════════════════════════╪═════════════════╪═════════════════╪═════════════════╡\n",
       "│ 2025-05-30 14:48:31.703517 UTC ┆ 0.0             ┆ 0.0             ┆ 0.0             │\n",
       "│ 2025-05-30 14:49:31.703517 UTC ┆ -0.366008       ┆ 4.641576        ┆ 2.302186        │\n",
       "│ 2025-05-30 14:50:31.703517 UTC ┆ -0.727703       ┆ 3.413422        ┆ 2.9254          │\n",
       "│ 2025-05-30 14:51:31.703517 UTC ┆ 3.108542        ┆ 6.036053        ┆ 1.258957        │\n",
       "│ 2025-05-30 14:52:31.703517 UTC ┆ 0.700206        ┆ 9.327731        ┆ -1.854376       │\n",
       "│ …                              ┆ …               ┆ …               ┆ …               │\n",
       "│ 2025-06-04 14:44:31.703517 UTC ┆ 1.45069         ┆ -1.218276       ┆ 1.350531        │\n",
       "│ 2025-06-04 14:45:31.703517 UTC ┆ 1.855304        ┆ -1.324281       ┆ -1.237633       │\n",
       "│ 2025-06-04 14:46:31.703517 UTC ┆ -2.214612       ┆ -4.113984       ┆ -0.339514       │\n",
       "│ 2025-06-04 14:47:31.703517 UTC ┆ -1.414318       ┆ -0.017893       ┆ -2.909403       │\n",
       "│ 2025-06-04 14:48:31.703517 UTC ┆ -0.651779       ┆ 1.175058        ┆ -0.427011       │\n",
       "└────────────────────────────────┴─────────────────┴─────────────────┴─────────────────┘"
      ]
     },
     "execution_count": 15,
     "metadata": {},
     "output_type": "execute_result"
    }
   ],
   "source": [
    "factor_df"
   ]
  },
  {
   "cell_type": "code",
   "execution_count": 16,
   "id": "823f9d57",
   "metadata": {},
   "outputs": [
    {
     "name": "stdout",
     "output_type": "stream",
     "text": [
      "\u001b[32m2025-06-04 14:48:32.280\u001b[0m | \u001b[1mINFO\u001b[0m | \u001b[36mFactorMakerFactorCalculator\u001b[0m | \u001b[1m[FactorMakerFactorCalculator] FactorCalculator closed.\u001b[0m\n",
      "\u001b[32m2025-06-04 14:48:32.338\u001b[0m | \u001b[34m\u001b[1mDEBUG\u001b[0m | \u001b[36mFactorMakerFactorCalculator\u001b[0m | \u001b[34m\u001b[1m[FactorMakerFactorCalculator] GC performed.\u001b[0m\n",
      "Factor memory file cleared and re-initialized: /Users/chenzhao/Documents/crypto_vnpy/vnpy/tests/.vnpy/factor/cache/backtest_factor_data_cache/factor_1m_emafactor@period_12.arrow\n",
      "Factor memory file cleared and re-initialized: /Users/chenzhao/Documents/crypto_vnpy/vnpy/tests/.vnpy/factor/cache/backtest_factor_data_cache/factor_1m_emafactor@period_26.arrow\n",
      "Factor memory file cleared and re-initialized: /Users/chenzhao/Documents/crypto_vnpy/vnpy/tests/.vnpy/factor/cache/backtest_factor_data_cache/factor_1m_macdfactor@fast_period_12-signal_period_9-slow_period_26.arrow\n",
      "\u001b[32m2025-06-04 14:48:32.340\u001b[0m | \u001b[34m\u001b[1mDEBUG\u001b[0m | \u001b[36mFactorMakerFactorCalculator\u001b[0m | \u001b[34m\u001b[1m[FactorMakerFactorCalculator] FactorMemory instances cleared.\u001b[0m\n"
     ]
    }
   ],
   "source": [
    "calculator.close()"
   ]
  },
  {
   "cell_type": "code",
   "execution_count": 17,
   "id": "97fa6b27",
   "metadata": {},
   "outputs": [],
   "source": [
    "market_close_prices_df = backtest_engine.memory_bar[\"close\"].clone()"
   ]
  },
  {
   "cell_type": "code",
   "execution_count": 18,
   "id": "d38e63ba",
   "metadata": {},
   "outputs": [],
   "source": [
    "actual_analysis_start_dt = factor_df.select(pl.col('datetime').min()).item()\n",
    "actual_analysis_end_dt = factor_df.select(pl.col('datetime').max()).item()"
   ]
  },
  {
   "cell_type": "code",
   "execution_count": 19,
   "id": "4c3c7385",
   "metadata": {},
   "outputs": [
    {
     "name": "stdout",
     "output_type": "stream",
     "text": [
      "\u001b[32m2025-06-04 14:48:32.359\u001b[0m | \u001b[1mINFO\u001b[0m | \u001b[36mFactorMakerBacktestOrchestrator\u001b[0m | \u001b[1m[FactorMakerBacktestOrchestrator] Starting factor analysis phase...\u001b[0m\n",
      "\u001b[32m2025-06-04 14:48:32.361\u001b[0m | \u001b[1mINFO\u001b[0m | \u001b[36mFactorMakerFactorAnalyser\u001b[0m | \u001b[1m[FactorMakerFactorAnalyser] FactorAnalyser initialized. Report dir: /Users/chenzhao/Documents/crypto_vnpy/vnpy/tests/.vnpy/factor/reports/backtest_reports\u001b[0m\n",
      "\u001b[32m2025-06-04 14:48:32.362\u001b[0m | \u001b[1mINFO\u001b[0m | \u001b[36mFactorMakerFactorAnalyser\u001b[0m | \u001b[1m[FactorMakerFactorAnalyser] Report directory ensured at: /Users/chenzhao/Documents/crypto_vnpy/vnpy/tests/.vnpy/factor/reports/backtest_reports\u001b[0m\n",
      "shape: (7_201, 4)\n",
      "┌────────────────────────────┬─────────────────┬─────────────────┬─────────────────┐\n",
      "│ datetime                   ┆ btcusdt.BINANCE ┆ ethusdt.BINANCE ┆ xrpusdt.BINANCE │\n",
      "│ ---                        ┆ ---             ┆ ---             ┆ ---             │\n",
      "│ datetime[μs]               ┆ f64             ┆ f64             ┆ f64             │\n",
      "╞════════════════════════════╪═════════════════╪═════════════════╪═════════════════╡\n",
      "│ 2025-05-30 14:48:31.703517 ┆ 75.32033        ┆ 50.323127       ┆ 99.757349       │\n",
      "│ 2025-05-30 14:49:31.703517 ┆ 69.585112       ┆ 123.054973      ┆ 135.831781      │\n",
      "│ 2025-05-30 14:50:31.703517 ┆ 67.198489       ┆ 62.201816       ┆ 124.95987       │\n",
      "│ 2025-05-30 14:51:31.703517 ┆ 130.22661       ┆ 118.451291      ┆ 95.316162       │\n",
      "│ 2025-05-30 14:52:31.703517 ┆ 57.43686        ┆ 149.734169      ┆ 64.163991       │\n",
      "│ …                          ┆ …               ┆ …               ┆ …               │\n",
      "│ 2025-06-04 14:44:31.703517 ┆ 129.329856      ┆ 70.796505       ┆ 147.343227      │\n",
      "│ 2025-06-04 14:45:31.703517 ┆ 132.032638      ┆ 96.113968       ┆ 85.814321       │\n",
      "│ 2025-06-04 14:46:31.703517 ┆ 66.368801       ┆ 52.728696       ┆ 124.871295      │\n",
      "│ 2025-06-04 14:47:31.703517 ┆ 117.543443      ┆ 141.160633      ┆ 76.071138       │\n",
      "│ 2025-06-04 14:48:31.703517 ┆ 120.900935      ┆ 119.837063      ┆ 138.284327      │\n",
      "└────────────────────────────┴─────────────────┴─────────────────┴─────────────────┘\n",
      "\u001b[32m2025-06-04 14:48:32.364\u001b[0m | \u001b[1mINFO\u001b[0m | \u001b[36mFactorMakerFactorAnalyser\u001b[0m | \u001b[1m[FactorMakerFactorAnalyser] Preparing symbol forward returns data (concise)...\u001b[0m\n",
      "\u001b[32m2025-06-04 14:48:32.365\u001b[0m | \u001b[31m\u001b[1mERROR\u001b[0m | \u001b[36mFactorMakerFactorAnalyser\u001b[0m | \u001b[31m\u001b[1m[FactorMakerFactorAnalyser] Error calculating symbol forward returns: 'Expr' object has no attribute 'otherwise'\u001b[0m\n",
      "None\n",
      "\u001b[32m2025-06-04 14:48:32.366\u001b[0m | \u001b[1mINFO\u001b[0m | \u001b[36mFactorMakerFactorAnalyser\u001b[0m | \u001b[1m[FactorMakerFactorAnalyser] Starting analysis for factor: factor_1m_macdfactor@fast_period_12-signal_period_9-slow_period_26\u001b[0m\n",
      "\u001b[32m2025-06-04 14:48:32.367\u001b[0m | \u001b[34m\u001b[1mDEBUG\u001b[0m | \u001b[36mFactorMakerFactorAnalyser\u001b[0m | \u001b[34m\u001b[1m[FactorMakerFactorAnalyser] Analyser using symbols derived from factor data: ['btcusdt.BINANCE', 'ethusdt.BINANCE', 'xrpusdt.BINANCE']\u001b[0m\n",
      "\u001b[32m2025-06-04 14:48:32.368\u001b[0m | \u001b[1mINFO\u001b[0m | \u001b[36mFactorMakerFactorAnalyser\u001b[0m | \u001b[1m[FactorMakerFactorAnalyser] Preparing symbol forward returns data (concise)...\u001b[0m\n",
      "\u001b[32m2025-06-04 14:48:32.368\u001b[0m | \u001b[31m\u001b[1mERROR\u001b[0m | \u001b[36mFactorMakerFactorAnalyser\u001b[0m | \u001b[31m\u001b[1m[FactorMakerFactorAnalyser] Error calculating symbol forward returns: 'Expr' object has no attribute 'otherwise'\u001b[0m\n",
      "\u001b[32m2025-06-04 14:48:32.368\u001b[0m | \u001b[31m\u001b[1mERROR\u001b[0m | \u001b[36mFactorMakerFactorAnalyser\u001b[0m | \u001b[31m\u001b[1m[FactorMakerFactorAnalyser] Preparing symbol returns failed. Subsequent analyses might be affected or skipped.\u001b[0m\n",
      "\u001b[32m2025-06-04 14:48:32.369\u001b[0m | \u001b[1mINFO\u001b[0m | \u001b[36mFactorMakerFactorAnalyser\u001b[0m | \u001b[1m[FactorMakerFactorAnalyser] Generating report data dictionary...\u001b[0m\n",
      "\u001b[32m2025-06-04 14:48:32.369\u001b[0m | \u001b[33m\u001b[1mWARNING\u001b[0m | \u001b[36mFactorMakerFactorAnalyser\u001b[0m | \u001b[33m\u001b[1m[FactorMakerFactorAnalyser] No analysis results were available for the report.\u001b[0m\n",
      "\u001b[32m2025-06-04 14:48:32.370\u001b[0m | \u001b[1mINFO\u001b[0m | \u001b[36mFactorMakerFactorAnalyser\u001b[0m | \u001b[1m[FactorMakerFactorAnalyser] Report saved: /Users/chenzhao/Documents/crypto_vnpy/vnpy/tests/.vnpy/factor/reports/backtest_reports/test_factor_1m_macdfactor@fast_period_12-signal_period_9-slow_period_26_20250604_144832.json\u001b[0m\n",
      "\u001b[32m2025-06-04 14:48:32.370\u001b[0m | \u001b[1mINFO\u001b[0m | \u001b[36mFactorMakerFactorAnalyser\u001b[0m | \u001b[1m[FactorMakerFactorAnalyser] Analysis and reporting for factor_1m_macdfactor@fast_period_12-signal_period_9-slow_period_26 completed.\u001b[0m\n",
      "\u001b[32m2025-06-04 14:48:32.370\u001b[0m | \u001b[1mINFO\u001b[0m | \u001b[36mFactorMakerFactorAnalyser\u001b[0m | \u001b[1m[FactorMakerFactorAnalyser] FactorAnalyser closed.\u001b[0m\n"
     ]
    }
   ],
   "source": [
    "report_path = backtest_engine._run_factor_analysis(\n",
    "    factor_df=factor_df,\n",
    "    market_close_prices_df=market_close_prices_df,\n",
    "    target_factor_instance=target_factor_instance,\n",
    "    analysis_start_dt=actual_analysis_start_dt,\n",
    "    analysis_end_dt=actual_analysis_end_dt,\n",
    "    num_quantiles=2,\n",
    "    returns_look_ahead_period=1,\n",
    "    long_percentile_threshold=0.5,\n",
    "    short_percentile_threshold=0.5,\n",
    "    report_filename_prefix='test',\n",
    ")"
   ]
  },
  {
   "cell_type": "code",
   "execution_count": 20,
   "id": "70a48c06",
   "metadata": {},
   "outputs": [
    {
     "ename": "SchemaError",
     "evalue": "datatypes of join keys don't match - `datetime`: datetime[μs] on left does not match `datetime`: datetime[μs, UTC] on right\n\nResolved plan until failure:\n\n\t---> FAILED HERE RESOLVING 'join' <---\nDF [\"datetime\"]; PROJECT */1 COLUMNS",
     "output_type": "error",
     "traceback": [
      "\u001b[0;31m---------------------------------------------------------------------------\u001b[0m",
      "\u001b[0;31mSchemaError\u001b[0m                               Traceback (most recent call last)",
      "\u001b[0;32m/var/folders/f2/2ld1q5m11g5gr1rqfl11y7vr0000gn/T/ipykernel_49779/2015067476.py\u001b[0m in \u001b[0;36m<cell line: 0>\u001b[0;34m()\u001b[0m\n\u001b[0;32m----> 1\u001b[0;31m market_close_prices_df = backtest_engine.memory_bar[\"close\"].join(\n\u001b[0m\u001b[1;32m      2\u001b[0m     \u001b[0mfactor_df\u001b[0m\u001b[0;34m.\u001b[0m\u001b[0mselect\u001b[0m\u001b[0;34m(\u001b[0m\u001b[0mpl\u001b[0m\u001b[0;34m.\u001b[0m\u001b[0mcol\u001b[0m\u001b[0;34m(\u001b[0m\u001b[0;34m\"datetime\"\u001b[0m\u001b[0;34m)\u001b[0m\u001b[0;34m)\u001b[0m\u001b[0;34m,\u001b[0m\u001b[0;34m\u001b[0m\u001b[0;34m\u001b[0m\u001b[0m\n\u001b[1;32m      3\u001b[0m     \u001b[0mon\u001b[0m\u001b[0;34m=\u001b[0m\u001b[0;34m\"datetime\"\u001b[0m\u001b[0;34m,\u001b[0m\u001b[0;34m\u001b[0m\u001b[0;34m\u001b[0m\u001b[0m\n\u001b[1;32m      4\u001b[0m     \u001b[0mhow\u001b[0m\u001b[0;34m=\u001b[0m\u001b[0;34m\"inner\"\u001b[0m\u001b[0;34m,\u001b[0m\u001b[0;34m\u001b[0m\u001b[0;34m\u001b[0m\u001b[0m\n\u001b[1;32m      5\u001b[0m \u001b[0;34m)\u001b[0m\u001b[0;34m\u001b[0m\u001b[0;34m\u001b[0m\u001b[0m\n",
      "\u001b[0;32m~/Documents/crypto_vnpy/venv/lib/python3.12/site-packages/polars/_utils/deprecation.py\u001b[0m in \u001b[0;36mwrapper\u001b[0;34m(*args, **kwargs)\u001b[0m\n\u001b[1;32m     90\u001b[0m                 \u001b[0mold_name\u001b[0m\u001b[0;34m,\u001b[0m \u001b[0mnew_name\u001b[0m\u001b[0;34m,\u001b[0m \u001b[0mkwargs\u001b[0m\u001b[0;34m,\u001b[0m \u001b[0mfunction\u001b[0m\u001b[0;34m.\u001b[0m\u001b[0m__qualname__\u001b[0m\u001b[0;34m,\u001b[0m \u001b[0mversion\u001b[0m\u001b[0;34m\u001b[0m\u001b[0;34m\u001b[0m\u001b[0m\n\u001b[1;32m     91\u001b[0m             \u001b[0;34m)\u001b[0m\u001b[0;34m\u001b[0m\u001b[0;34m\u001b[0m\u001b[0m\n\u001b[0;32m---> 92\u001b[0;31m             \u001b[0;32mreturn\u001b[0m \u001b[0mfunction\u001b[0m\u001b[0;34m(\u001b[0m\u001b[0;34m*\u001b[0m\u001b[0margs\u001b[0m\u001b[0;34m,\u001b[0m \u001b[0;34m**\u001b[0m\u001b[0mkwargs\u001b[0m\u001b[0;34m)\u001b[0m\u001b[0;34m\u001b[0m\u001b[0;34m\u001b[0m\u001b[0m\n\u001b[0m\u001b[1;32m     93\u001b[0m \u001b[0;34m\u001b[0m\u001b[0m\n\u001b[1;32m     94\u001b[0m         \u001b[0mwrapper\u001b[0m\u001b[0;34m.\u001b[0m\u001b[0m__signature__\u001b[0m \u001b[0;34m=\u001b[0m \u001b[0minspect\u001b[0m\u001b[0;34m.\u001b[0m\u001b[0msignature\u001b[0m\u001b[0;34m(\u001b[0m\u001b[0mfunction\u001b[0m\u001b[0;34m)\u001b[0m  \u001b[0;31m# type: ignore[attr-defined]\u001b[0m\u001b[0;34m\u001b[0m\u001b[0;34m\u001b[0m\u001b[0m\n",
      "\u001b[0;32m~/Documents/crypto_vnpy/venv/lib/python3.12/site-packages/polars/dataframe/frame.py\u001b[0m in \u001b[0;36mjoin\u001b[0;34m(self, other, on, how, left_on, right_on, suffix, validate, nulls_equal, coalesce, maintain_order)\u001b[0m\n\u001b[1;32m   7762\u001b[0m                 \u001b[0mmaintain_order\u001b[0m\u001b[0;34m=\u001b[0m\u001b[0mmaintain_order\u001b[0m\u001b[0;34m,\u001b[0m\u001b[0;34m\u001b[0m\u001b[0;34m\u001b[0m\u001b[0m\n\u001b[1;32m   7763\u001b[0m             \u001b[0;34m)\u001b[0m\u001b[0;34m\u001b[0m\u001b[0;34m\u001b[0m\u001b[0m\n\u001b[0;32m-> 7764\u001b[0;31m             \u001b[0;34m.\u001b[0m\u001b[0mcollect\u001b[0m\u001b[0;34m(\u001b[0m\u001b[0m_eager\u001b[0m\u001b[0;34m=\u001b[0m\u001b[0;32mTrue\u001b[0m\u001b[0;34m)\u001b[0m\u001b[0;34m\u001b[0m\u001b[0;34m\u001b[0m\u001b[0m\n\u001b[0m\u001b[1;32m   7765\u001b[0m         \u001b[0;34m)\u001b[0m\u001b[0;34m\u001b[0m\u001b[0;34m\u001b[0m\u001b[0m\n\u001b[1;32m   7766\u001b[0m \u001b[0;34m\u001b[0m\u001b[0m\n",
      "\u001b[0;32m~/Documents/crypto_vnpy/venv/lib/python3.12/site-packages/polars/lazyframe/frame.py\u001b[0m in \u001b[0;36mcollect\u001b[0;34m(self, type_coercion, _type_check, predicate_pushdown, projection_pushdown, simplify_expression, slice_pushdown, comm_subplan_elim, comm_subexpr_elim, cluster_with_columns, collapse_joins, no_optimization, streaming, engine, background, _check_order, _eager, **_kwargs)\u001b[0m\n\u001b[1;32m   2063\u001b[0m         \u001b[0;31m# Only for testing purposes\u001b[0m\u001b[0;34m\u001b[0m\u001b[0;34m\u001b[0m\u001b[0m\n\u001b[1;32m   2064\u001b[0m         \u001b[0mcallback\u001b[0m \u001b[0;34m=\u001b[0m \u001b[0m_kwargs\u001b[0m\u001b[0;34m.\u001b[0m\u001b[0mget\u001b[0m\u001b[0;34m(\u001b[0m\u001b[0;34m\"post_opt_callback\"\u001b[0m\u001b[0;34m,\u001b[0m \u001b[0mcallback\u001b[0m\u001b[0;34m)\u001b[0m\u001b[0;34m\u001b[0m\u001b[0;34m\u001b[0m\u001b[0m\n\u001b[0;32m-> 2065\u001b[0;31m         \u001b[0;32mreturn\u001b[0m \u001b[0mwrap_df\u001b[0m\u001b[0;34m(\u001b[0m\u001b[0mldf\u001b[0m\u001b[0;34m.\u001b[0m\u001b[0mcollect\u001b[0m\u001b[0;34m(\u001b[0m\u001b[0mcallback\u001b[0m\u001b[0;34m)\u001b[0m\u001b[0;34m)\u001b[0m\u001b[0;34m\u001b[0m\u001b[0;34m\u001b[0m\u001b[0m\n\u001b[0m\u001b[1;32m   2066\u001b[0m \u001b[0;34m\u001b[0m\u001b[0m\n\u001b[1;32m   2067\u001b[0m     \u001b[0;34m@\u001b[0m\u001b[0moverload\u001b[0m\u001b[0;34m\u001b[0m\u001b[0;34m\u001b[0m\u001b[0m\n",
      "\u001b[0;31mSchemaError\u001b[0m: datatypes of join keys don't match - `datetime`: datetime[μs] on left does not match `datetime`: datetime[μs, UTC] on right\n\nResolved plan until failure:\n\n\t---> FAILED HERE RESOLVING 'join' <---\nDF [\"datetime\"]; PROJECT */1 COLUMNS"
     ]
    }
   ],
   "source": [
    "market_close_prices_df = backtest_engine.memory_bar[\"close\"].join(\n",
    "    factor_df.select(pl.col(\"datetime\")),\n",
    "    on=\"datetime\",\n",
    "    how=\"inner\",\n",
    ")\n",
    "\n",
    "\n",
    "\n",
    "market_close_prices_df.select(\n",
    "    [pl.col(\"datetime\")] + # Start with the datetime column\n",
    "    [\n",
    "        (\n",
    "            pl.col(symbol).pct_change().shift(-1)\n",
    "            .otherwise(0.0)\n",
    "            .fill_null(0.0) # Handles nulls from shift(-1) or original pct_change if any\n",
    "            .alias(symbol)\n",
    "        )\n",
    "        for symbol in backtest_engine.vt_symbols\n",
    "    ]\n",
    ").sort(\"datetime\")"
   ]
  },
  {
   "cell_type": "code",
   "execution_count": 21,
   "id": "f3fabc51",
   "metadata": {},
   "outputs": [
    {
     "data": {
      "text/html": [
       "<div><style>\n",
       ".dataframe > thead > tr,\n",
       ".dataframe > tbody > tr {\n",
       "  text-align: right;\n",
       "  white-space: pre-wrap;\n",
       "}\n",
       "</style>\n",
       "<small>shape: (7_201, 4)</small><table border=\"1\" class=\"dataframe\"><thead><tr><th>datetime</th><th>btcusdt.BINANCE</th><th>ethusdt.BINANCE</th><th>xrpusdt.BINANCE</th></tr><tr><td>datetime[μs]</td><td>f64</td><td>f64</td><td>f64</td></tr></thead><tbody><tr><td>2025-05-30 14:48:31.703517</td><td>75.32033</td><td>50.323127</td><td>99.757349</td></tr><tr><td>2025-05-30 14:49:31.703517</td><td>69.585112</td><td>123.054973</td><td>135.831781</td></tr><tr><td>2025-05-30 14:50:31.703517</td><td>67.198489</td><td>62.201816</td><td>124.95987</td></tr><tr><td>2025-05-30 14:51:31.703517</td><td>130.22661</td><td>118.451291</td><td>95.316162</td></tr><tr><td>2025-05-30 14:52:31.703517</td><td>57.43686</td><td>149.734169</td><td>64.163991</td></tr><tr><td>&hellip;</td><td>&hellip;</td><td>&hellip;</td><td>&hellip;</td></tr><tr><td>2025-06-04 14:44:31.703517</td><td>129.329856</td><td>70.796505</td><td>147.343227</td></tr><tr><td>2025-06-04 14:45:31.703517</td><td>132.032638</td><td>96.113968</td><td>85.814321</td></tr><tr><td>2025-06-04 14:46:31.703517</td><td>66.368801</td><td>52.728696</td><td>124.871295</td></tr><tr><td>2025-06-04 14:47:31.703517</td><td>117.543443</td><td>141.160633</td><td>76.071138</td></tr><tr><td>2025-06-04 14:48:31.703517</td><td>120.900935</td><td>119.837063</td><td>138.284327</td></tr></tbody></table></div>"
      ],
      "text/plain": [
       "shape: (7_201, 4)\n",
       "┌────────────────────────────┬─────────────────┬─────────────────┬─────────────────┐\n",
       "│ datetime                   ┆ btcusdt.BINANCE ┆ ethusdt.BINANCE ┆ xrpusdt.BINANCE │\n",
       "│ ---                        ┆ ---             ┆ ---             ┆ ---             │\n",
       "│ datetime[μs]               ┆ f64             ┆ f64             ┆ f64             │\n",
       "╞════════════════════════════╪═════════════════╪═════════════════╪═════════════════╡\n",
       "│ 2025-05-30 14:48:31.703517 ┆ 75.32033        ┆ 50.323127       ┆ 99.757349       │\n",
       "│ 2025-05-30 14:49:31.703517 ┆ 69.585112       ┆ 123.054973      ┆ 135.831781      │\n",
       "│ 2025-05-30 14:50:31.703517 ┆ 67.198489       ┆ 62.201816       ┆ 124.95987       │\n",
       "│ 2025-05-30 14:51:31.703517 ┆ 130.22661       ┆ 118.451291      ┆ 95.316162       │\n",
       "│ 2025-05-30 14:52:31.703517 ┆ 57.43686        ┆ 149.734169      ┆ 64.163991       │\n",
       "│ …                          ┆ …               ┆ …               ┆ …               │\n",
       "│ 2025-06-04 14:44:31.703517 ┆ 129.329856      ┆ 70.796505       ┆ 147.343227      │\n",
       "│ 2025-06-04 14:45:31.703517 ┆ 132.032638      ┆ 96.113968       ┆ 85.814321       │\n",
       "│ 2025-06-04 14:46:31.703517 ┆ 66.368801       ┆ 52.728696       ┆ 124.871295      │\n",
       "│ 2025-06-04 14:47:31.703517 ┆ 117.543443      ┆ 141.160633      ┆ 76.071138       │\n",
       "│ 2025-06-04 14:48:31.703517 ┆ 120.900935      ┆ 119.837063      ┆ 138.284327      │\n",
       "└────────────────────────────┴─────────────────┴─────────────────┴─────────────────┘"
      ]
     },
     "execution_count": 21,
     "metadata": {},
     "output_type": "execute_result"
    }
   ],
   "source": [
    "backtest_engine.memory_bar[\"close\"]"
   ]
  },
  {
   "cell_type": "code",
   "execution_count": 22,
   "id": "1f17caf8",
   "metadata": {},
   "outputs": [
    {
     "data": {
      "text/html": [
       "<div><style>\n",
       ".dataframe > thead > tr,\n",
       ".dataframe > tbody > tr {\n",
       "  text-align: right;\n",
       "  white-space: pre-wrap;\n",
       "}\n",
       "</style>\n",
       "<small>shape: (7_201, 4)</small><table border=\"1\" class=\"dataframe\"><thead><tr><th>datetime</th><th>btcusdt.BINANCE</th><th>ethusdt.BINANCE</th><th>xrpusdt.BINANCE</th></tr><tr><td>datetime[μs, UTC]</td><td>f64</td><td>f64</td><td>f64</td></tr></thead><tbody><tr><td>2025-05-30 14:48:31.703517 UTC</td><td>0.0</td><td>0.0</td><td>0.0</td></tr><tr><td>2025-05-30 14:49:31.703517 UTC</td><td>-0.366008</td><td>4.641576</td><td>2.302186</td></tr><tr><td>2025-05-30 14:50:31.703517 UTC</td><td>-0.727703</td><td>3.413422</td><td>2.9254</td></tr><tr><td>2025-05-30 14:51:31.703517 UTC</td><td>3.108542</td><td>6.036053</td><td>1.258957</td></tr><tr><td>2025-05-30 14:52:31.703517 UTC</td><td>0.700206</td><td>9.327731</td><td>-1.854376</td></tr><tr><td>&hellip;</td><td>&hellip;</td><td>&hellip;</td><td>&hellip;</td></tr><tr><td>2025-06-04 14:44:31.703517 UTC</td><td>1.45069</td><td>-1.218276</td><td>1.350531</td></tr><tr><td>2025-06-04 14:45:31.703517 UTC</td><td>1.855304</td><td>-1.324281</td><td>-1.237633</td></tr><tr><td>2025-06-04 14:46:31.703517 UTC</td><td>-2.214612</td><td>-4.113984</td><td>-0.339514</td></tr><tr><td>2025-06-04 14:47:31.703517 UTC</td><td>-1.414318</td><td>-0.017893</td><td>-2.909403</td></tr><tr><td>2025-06-04 14:48:31.703517 UTC</td><td>-0.651779</td><td>1.175058</td><td>-0.427011</td></tr></tbody></table></div>"
      ],
      "text/plain": [
       "shape: (7_201, 4)\n",
       "┌────────────────────────────────┬─────────────────┬─────────────────┬─────────────────┐\n",
       "│ datetime                       ┆ btcusdt.BINANCE ┆ ethusdt.BINANCE ┆ xrpusdt.BINANCE │\n",
       "│ ---                            ┆ ---             ┆ ---             ┆ ---             │\n",
       "│ datetime[μs, UTC]              ┆ f64             ┆ f64             ┆ f64             │\n",
       "╞════════════════════════════════╪═════════════════╪═════════════════╪═════════════════╡\n",
       "│ 2025-05-30 14:48:31.703517 UTC ┆ 0.0             ┆ 0.0             ┆ 0.0             │\n",
       "│ 2025-05-30 14:49:31.703517 UTC ┆ -0.366008       ┆ 4.641576        ┆ 2.302186        │\n",
       "│ 2025-05-30 14:50:31.703517 UTC ┆ -0.727703       ┆ 3.413422        ┆ 2.9254          │\n",
       "│ 2025-05-30 14:51:31.703517 UTC ┆ 3.108542        ┆ 6.036053        ┆ 1.258957        │\n",
       "│ 2025-05-30 14:52:31.703517 UTC ┆ 0.700206        ┆ 9.327731        ┆ -1.854376       │\n",
       "│ …                              ┆ …               ┆ …               ┆ …               │\n",
       "│ 2025-06-04 14:44:31.703517 UTC ┆ 1.45069         ┆ -1.218276       ┆ 1.350531        │\n",
       "│ 2025-06-04 14:45:31.703517 UTC ┆ 1.855304        ┆ -1.324281       ┆ -1.237633       │\n",
       "│ 2025-06-04 14:46:31.703517 UTC ┆ -2.214612       ┆ -4.113984       ┆ -0.339514       │\n",
       "│ 2025-06-04 14:47:31.703517 UTC ┆ -1.414318       ┆ -0.017893       ┆ -2.909403       │\n",
       "│ 2025-06-04 14:48:31.703517 UTC ┆ -0.651779       ┆ 1.175058        ┆ -0.427011       │\n",
       "└────────────────────────────────┴─────────────────┴─────────────────┴─────────────────┘"
      ]
     },
     "execution_count": 22,
     "metadata": {},
     "output_type": "execute_result"
    }
   ],
   "source": [
    "factor_df"
   ]
  }
 ],
 "metadata": {
  "kernelspec": {
   "display_name": "venv",
   "language": "python",
   "name": "python3"
  },
  "language_info": {
   "codemirror_mode": {
    "name": "ipython",
    "version": 3
   },
   "file_extension": ".py",
   "mimetype": "text/x-python",
   "name": "python",
   "nbconvert_exporter": "python",
   "pygments_lexer": "ipython3",
   "version": "3.12.9"
  }
 },
 "nbformat": 4,
 "nbformat_minor": 5
}
