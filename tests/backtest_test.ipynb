{
 "cells": [
  {
   "cell_type": "code",
   "execution_count": 1,
   "id": "908e66dd",
   "metadata": {},
   "outputs": [
    {
     "name": "stderr",
     "output_type": "stream",
     "text": [
      "\u001b[32m2025-06-02 04:47:11.374\u001b[0m | \u001b[1mINFO    \u001b[0m | \u001b[36mvnpy.factor.backtesting.backtesting\u001b[0m:\u001b[36m_write_log\u001b[0m:\u001b[36m602\u001b[0m - \u001b[1m[FactorMakerBacktestOrchestrator] Successfully imported factor module: 'vnpy.factor.factors'\u001b[0m\n",
      "\u001b[32m2025-06-02 04:47:11.374\u001b[0m | \u001b[1mINFO    \u001b[0m | \u001b[36mvnpy.factor.backtesting.backtesting\u001b[0m:\u001b[36m_write_log\u001b[0m:\u001b[36m602\u001b[0m - \u001b[1m[FactorMakerBacktestOrchestrator] FactorMakerBacktestOrchestrator initialized.\u001b[0m\n"
     ]
    },
    {
     "name": "stdout",
     "output_type": "stream",
     "text": [
      "[vnpy.trader.setting] Updated SETTINGS from vt_setting.json\n"
     ]
    }
   ],
   "source": [
    "%matplotlib inline\n",
    "from vnpy.factor.backtesting.backtesting import BacktestEngine\n",
    "from vnpy.factor.setting import get_backtest_data_cache_path, get_backtest_report_path\n",
    "\n",
    "\n",
    "backtest_engine = BacktestEngine(\n",
    "    factor_module_name=\"vnpy.factor.factors\",\n",
    "    output_data_dir_for_analyser_reports=get_backtest_report_path(),\n",
    "    output_data_dir_for_calculator_cache=get_backtest_data_cache_path()\n",
    ")"
   ]
  },
  {
   "cell_type": "code",
   "execution_count": null,
   "id": "b9ac7d41",
   "metadata": {},
   "outputs": [],
   "source": [
    "vt_symbols = ['btcusdt.BINANCE', 'ethusdt.BINANCE', 'xrpusdt.BINANCE']"
   ]
  },
  {
   "cell_type": "code",
   "execution_count": 2,
   "id": "71c3bd16",
   "metadata": {},
   "outputs": [
    {
     "data": {
      "text/plain": [
       "PosixPath('/Users/chenzhao/Documents/crypto_vnpy/vnpy/tests/.vnpy/factor/cache/backtest_factor_data_cache')"
      ]
     },
     "execution_count": 2,
     "metadata": {},
     "output_type": "execute_result"
    }
   ],
   "source": [
    "backtest_engine.output_data_dir_for_calculator_cache"
   ]
  },
  {
   "cell_type": "code",
   "execution_count": 3,
   "id": "048570ae",
   "metadata": {},
   "outputs": [],
   "source": [
    "from vnpy.factor.setting import FACTOR_DEFINITIONS_FILEPATH\n",
    "from vnpy.factor.utils.factor_utils import load_factor_setting\n",
    "\n",
    "\n",
    "factor_definations = load_factor_setting(FACTOR_DEFINITIONS_FILEPATH)"
   ]
  },
  {
   "cell_type": "code",
   "execution_count": 4,
   "id": "5d9ff54e",
   "metadata": {},
   "outputs": [
    {
     "data": {
      "text/plain": [
       "{'class_name': 'MACDFactor',\n",
       " 'factor_name': 'MACDFactor',\n",
       " 'factor_key': 'factor_1m_macdfactor@fast_period_12-signal_period_9-slow_period_26',\n",
       " 'freq': '1m',\n",
       " 'params': {'fast_period': 12, 'slow_period': 26, 'signal_period': 9},\n",
       " 'dependencies_factor': [{'class_name': 'EMAFactor',\n",
       "   'factor_name': 'fast_ema',\n",
       "   'factor_key': 'factor_1m_emafactor@period_12',\n",
       "   'freq': '1m',\n",
       "   'params': {'period': 12},\n",
       "   'dependencies_factor': [],\n",
       "   'dependencies_freq': [],\n",
       "   'dependencies_symbol': [],\n",
       "   'dependencies_exchange': [],\n",
       "   'last_run_datetime': '2025-05-29 16:26:46',\n",
       "   'factor_mode': 'LIVE'},\n",
       "  {'class_name': 'EMAFactor',\n",
       "   'factor_name': 'slow_ema',\n",
       "   'factor_key': 'factor_1m_emafactor@period_26',\n",
       "   'freq': '1m',\n",
       "   'params': {'period': 26},\n",
       "   'dependencies_factor': [],\n",
       "   'dependencies_freq': [],\n",
       "   'dependencies_symbol': [],\n",
       "   'dependencies_exchange': [],\n",
       "   'last_run_datetime': '2025-05-29 16:26:46',\n",
       "   'factor_mode': 'LIVE'}],\n",
       " 'dependencies_freq': [],\n",
       " 'dependencies_symbol': [],\n",
       " 'dependencies_exchange': [],\n",
       " 'last_run_datetime': '2025-05-29 16:26:46',\n",
       " 'factor_mode': 'LIVE'}"
      ]
     },
     "execution_count": 4,
     "metadata": {},
     "output_type": "execute_result"
    }
   ],
   "source": [
    "macd_factor_defination = factor_definations[2]\n",
    "macd_factor_defination"
   ]
  },
  {
   "cell_type": "code",
   "execution_count": 5,
   "id": "49436d64",
   "metadata": {},
   "outputs": [],
   "source": [
    "import importlib\n",
    "\n",
    "from vnpy.factor.utils.factor_utils import init_factors\n",
    "\n",
    "\n",
    "factor_module = importlib.import_module(\"vnpy.factor.factors\")\n",
    "macd_factor = init_factors(\n",
    "    module_for_primary_classes=factor_module,\n",
    "    settings_data=[macd_factor_defination],\n",
    "    dependencies_module_lookup_for_instances=factor_module\n",
    ")[0]"
   ]
  },
  {
   "cell_type": "code",
   "execution_count": 6,
   "id": "0cdaeeb7",
   "metadata": {},
   "outputs": [
    {
     "data": {
      "text/plain": [
       "{'fast_period': 12,\n",
       " 'slow_period': 26,\n",
       " 'signal_period': 9,\n",
       " 'fast_ema.period': 12,\n",
       " 'slow_ema.period': 26}"
      ]
     },
     "execution_count": 6,
     "metadata": {},
     "output_type": "execute_result"
    }
   ],
   "source": [
    "macd_factor.get_nested_params_for_optimizer()"
   ]
  },
  {
   "cell_type": "code",
   "execution_count": null,
   "id": "add6df2e",
   "metadata": {},
   "outputs": [
    {
     "name": "stderr",
     "output_type": "stream",
     "text": [
      "\u001b[32m2025-06-02 04:47:11.455\u001b[0m | \u001b[1mINFO    \u001b[0m | \u001b[36mvnpy.factor.backtesting.backtesting\u001b[0m:\u001b[36m_write_log\u001b[0m:\u001b[36m602\u001b[0m - \u001b[1m[FactorMakerBacktestOrchestrator] Initializing and flattening factor based on definition. Symbols: ['btcusdt.BINANCE']\u001b[0m\n",
      "\u001b[32m2025-06-02 04:47:11.455\u001b[0m | \u001b[1mINFO    \u001b[0m | \u001b[36mvnpy.factor.backtesting.backtesting\u001b[0m:\u001b[36m_write_log\u001b[0m:\u001b[36m602\u001b[0m - \u001b[1m[FactorMakerBacktestOrchestrator] Target factor instance created: factor_1m_macdfactor@fast_period_12-signal_period_9-slow_period_26\u001b[0m\n",
      "\u001b[32m2025-06-02 04:47:11.456\u001b[0m | \u001b[34m\u001b[1mDEBUG   \u001b[0m | \u001b[36mvnpy.factor.backtesting.backtesting\u001b[0m:\u001b[36m_write_log\u001b[0m:\u001b[36m602\u001b[0m - \u001b[34m\u001b[1m[FactorMakerBacktestOrchestrator] Factor tree flattened. Total factors in graph: 3\u001b[0m\n"
     ]
    },
    {
     "data": {
      "text/plain": [
       "(<vnpy.factor.factors.my_factor_lib.MACDFactor at 0x12604c650>,\n",
       " {'factor_1m_emafactor@period_12': <vnpy.factor.factors.my_factor_lib.EMAFactor at 0x105705b20>,\n",
       "  'factor_1m_emafactor@period_26': <vnpy.factor.factors.my_factor_lib.EMAFactor at 0x105ccf6b0>,\n",
       "  'factor_1m_macdfactor@fast_period_12-signal_period_9-slow_period_26': <vnpy.factor.factors.my_factor_lib.MACDFactor at 0x12604c650>})"
      ]
     },
     "execution_count": 7,
     "metadata": {},
     "output_type": "execute_result"
    }
   ],
   "source": [
    "backtest_engine._init_and_flatten_factor(macd_factor, vt_symbols)"
   ]
  },
  {
   "cell_type": "code",
   "execution_count": 8,
   "id": "1b7b44c4",
   "metadata": {},
   "outputs": [
    {
     "name": "stderr",
     "output_type": "stream",
     "text": [
      "\u001b[32m2025-06-02 04:50:02.367\u001b[0m | \u001b[1mINFO    \u001b[0m | \u001b[36mvnpy.factor.backtesting.factor_calculator\u001b[0m:\u001b[36m_write_log\u001b[0m:\u001b[36m447\u001b[0m - \u001b[1m[FactorMakerFactorCalculator] FactorCalculator initialized. Factor cache dir: /Users/chenzhao/Documents/crypto_vnpy/vnpy/tests/.vnpy/factor/cache/backtest_factor_data_cache\u001b[0m\n",
      "\u001b[32m2025-06-02 04:50:02.370\u001b[0m | \u001b[1mINFO    \u001b[0m | \u001b[36mvnpy.factor.backtesting.factor_calculator\u001b[0m:\u001b[36m_write_log\u001b[0m:\u001b[36m447\u001b[0m - \u001b[1m[FactorMakerFactorCalculator] Factor cache directory ensured at: /Users/chenzhao/Documents/crypto_vnpy/vnpy/tests/.vnpy/factor/cache/backtest_factor_data_cache\u001b[0m\n"
     ]
    },
    {
     "data": {
      "text/plain": [
       "<vnpy.factor.backtesting.factor_calculator.FactorCalculator at 0x12604d370>"
      ]
     },
     "execution_count": 8,
     "metadata": {},
     "output_type": "execute_result"
    }
   ],
   "source": [
    "backtest_engine._create_calculator()"
   ]
  },
  {
   "cell_type": "code",
   "execution_count": null,
   "id": "34270fbd",
   "metadata": {},
   "outputs": [],
   "source": [
    "from datetime import datetime\n",
    "\n",
    "import numpy as np\n",
    "import polars as pl\n",
    "from typing import List, Dict\n",
    "\n",
    "# Schema for the intermediate flat DataFrame\n",
    "_OHLCV_FLAT_SCHEMA = {\n",
    "    \"datetime\": pl.Datetime(time_unit=\"us\"),\n",
    "    \"symbol\": pl.Utf8,\n",
    "    \"open\": pl.Float64,\n",
    "    \"high\": pl.Float64,\n",
    "    \"low\": pl.Float64,\n",
    "    \"close\": pl.Float64,\n",
    "    \"volume\": pl.Float64,\n",
    "}\n",
    "\n",
    "\n",
    "def generate_fake_ohlcv_wide_dict(\n",
    "    start_date: datetime,\n",
    "    end_date: datetime,\n",
    "    interval: str,\n",
    "    vt_symbols: List[str]\n",
    ") -> Dict[str, pl.DataFrame]:\n",
    "    \"\"\"\n",
    "    Generates a dictionary of Polars DataFrames with fake OHLCV data.\n",
    "    Each key in the dictionary is an OHLCV type (\"open\", \"high\", \"low\", \"close\", \"volume\").\n",
    "    Each DataFrame has a \"datetime\" column and columns for each symbol in vt_symbols,\n",
    "    containing the respective OHLCV values.\n",
    "\n",
    "    Args:\n",
    "        start_date: The start datetime for the data generation.\n",
    "        end_date: The end datetime for the data generation.\n",
    "        interval: Polars interval string for fake data generation (e.g., \"1m\", \"1h\").\n",
    "        vt_symbols: List of symbol strings (e.g., [\"BTCUSDT\", \"ETHUSDT\"]).\n",
    "\n",
    "    Returns:\n",
    "        Dict[str, pl.DataFrame]: A dictionary where keys are OHLCV types and\n",
    "                                 values are \"wide\" DataFrames. Returns an empty\n",
    "                                 dictionary if no data can be generated.\n",
    "    \"\"\"\n",
    "    if not vt_symbols:\n",
    "        return {}\n",
    "\n",
    "    # --- Inlined logic from _generate_fake_ohlcv_flat_df ---\n",
    "    flat_df: pl.DataFrame\n",
    "    try:\n",
    "        fake_dates = pl.datetime_range(\n",
    "            start=start_date,\n",
    "            end=end_date,\n",
    "            interval=interval,\n",
    "            time_unit=\"us\",\n",
    "            eager=True,\n",
    "        )\n",
    "    except Exception: # Handle potential errors in datetime_range\n",
    "        return {} # Return empty dict if date range generation fails\n",
    "\n",
    "    if len(fake_dates) == 0:\n",
    "        return {} # Return empty dict if no dates are generated\n",
    "\n",
    "    num_fake_rows_per_symbol = len(fake_dates)\n",
    "    all_rows_data = []\n",
    "\n",
    "    for symbol in vt_symbols:\n",
    "        # Generate somewhat realistic OHLCV data\n",
    "        close_prices = np.random.rand(num_fake_rows_per_symbol) * 100 + 50\n",
    "        open_prices = close_prices + (np.random.rand(num_fake_rows_per_symbol) - 0.5) * 10\n",
    "        high_prices = np.maximum(open_prices, close_prices) + np.random.rand(num_fake_rows_per_symbol) * 5\n",
    "        low_prices = np.minimum(open_prices, close_prices) - np.random.rand(num_fake_rows_per_symbol) * 5\n",
    "        low_prices = np.maximum(low_prices, 0.01) # Ensure low is not zero or negative\n",
    "        volumes = np.random.rand(num_fake_rows_per_symbol) * 1000 + 500\n",
    "\n",
    "        for i in range(num_fake_rows_per_symbol):\n",
    "            all_rows_data.append({\n",
    "                \"datetime\": fake_dates[i],\n",
    "                \"symbol\": symbol,\n",
    "                \"open\": open_prices[i],\n",
    "                \"high\": high_prices[i],\n",
    "                \"low\": low_prices[i],\n",
    "                \"close\": close_prices[i],\n",
    "                \"volume\": volumes[i],\n",
    "            })\n",
    "\n",
    "    if not all_rows_data: # Should only happen if vt_symbols was empty, but that's checked above\n",
    "        return {}\n",
    "\n",
    "    flat_df = pl.DataFrame(all_rows_data, schema=_OHLCV_FLAT_SCHEMA)\n",
    "    # --- End of inlined logic ---\n",
    "\n",
    "    if flat_df.is_empty(): # Double check, though previous checks should cover this\n",
    "        return {}\n",
    "\n",
    "    ohlcv_dict: Dict[str, pl.DataFrame] = {}\n",
    "    ohlcv_types = [\"open\", \"high\", \"low\", \"close\", \"volume\"]\n",
    "\n",
    "    # Get unique sorted datetimes once for potential error case in pivot\n",
    "    unique_sorted_datetimes = flat_df.get_column(\"datetime\").unique().sort()\n",
    "\n",
    "    for ohlcv_type in ohlcv_types:\n",
    "        try:\n",
    "            pivoted_df = flat_df.pivot(\n",
    "                index=\"datetime\",\n",
    "                on=\"symbol\",  # Changed \"columns\" to \"on\"\n",
    "                values=ohlcv_type\n",
    "            )\n",
    "            # Sort by datetime just in case pivoting changes order\n",
    "            pivoted_df = pivoted_df.sort(\"datetime\")\n",
    "            ohlcv_dict[ohlcv_type] = pivoted_df\n",
    "        except Exception as e:\n",
    "            # Handle potential errors during pivoting\n",
    "            print(f\"Error pivoting data for {ohlcv_type}: {e}. Creating empty structure for this type.\")\n",
    "            # Create an empty DataFrame with the expected structure\n",
    "            empty_df_for_type = pl.DataFrame({\"datetime\": unique_sorted_datetimes})\n",
    "            for sym in vt_symbols:\n",
    "                 empty_df_for_type = empty_df_for_type.with_columns(pl.lit(None, dtype=pl.Float64).alias(sym))\n",
    "            ohlcv_dict[ohlcv_type] = empty_df_for_type\n",
    "\n",
    "    return ohlcv_dict"
   ]
  },
  {
   "cell_type": "code",
   "execution_count": null,
   "id": "0cff5cbb",
   "metadata": {},
   "outputs": [
    {
     "data": {
      "text/html": [
       "<div><style>\n",
       ".dataframe > thead > tr,\n",
       ".dataframe > tbody > tr {\n",
       "  text-align: right;\n",
       "  white-space: pre-wrap;\n",
       "}\n",
       "</style>\n",
       "<small>shape: (31, 4)</small><table border=\"1\" class=\"dataframe\"><thead><tr><th>datetime</th><th>BTC/USDT</th><th>ETH/USDT</th><th>SOL/USDT</th></tr><tr><td>datetime[μs]</td><td>f64</td><td>f64</td><td>f64</td></tr></thead><tbody><tr><td>2025-06-02 05:38:51.060889</td><td>85.078967</td><td>61.039545</td><td>77.584026</td></tr><tr><td>2025-06-02 05:39:51.060889</td><td>95.162016</td><td>85.045421</td><td>77.733875</td></tr><tr><td>2025-06-02 05:40:51.060889</td><td>133.736817</td><td>135.796074</td><td>144.693857</td></tr><tr><td>2025-06-02 05:41:51.060889</td><td>146.639287</td><td>107.764043</td><td>54.056126</td></tr><tr><td>2025-06-02 05:42:51.060889</td><td>85.948108</td><td>94.356478</td><td>61.02478</td></tr><tr><td>&hellip;</td><td>&hellip;</td><td>&hellip;</td><td>&hellip;</td></tr><tr><td>2025-06-02 06:04:51.060889</td><td>126.153961</td><td>131.497625</td><td>146.398706</td></tr><tr><td>2025-06-02 06:05:51.060889</td><td>99.113835</td><td>100.625613</td><td>130.867177</td></tr><tr><td>2025-06-02 06:06:51.060889</td><td>99.950805</td><td>139.428835</td><td>112.571748</td></tr><tr><td>2025-06-02 06:07:51.060889</td><td>63.000857</td><td>63.075118</td><td>63.008219</td></tr><tr><td>2025-06-02 06:08:51.060889</td><td>53.501977</td><td>93.848235</td><td>98.865952</td></tr></tbody></table></div>"
      ],
      "text/plain": [
       "shape: (31, 4)\n",
       "┌────────────────────────────┬────────────┬────────────┬────────────┐\n",
       "│ datetime                   ┆ BTC/USDT   ┆ ETH/USDT   ┆ SOL/USDT   │\n",
       "│ ---                        ┆ ---        ┆ ---        ┆ ---        │\n",
       "│ datetime[μs]               ┆ f64        ┆ f64        ┆ f64        │\n",
       "╞════════════════════════════╪════════════╪════════════╪════════════╡\n",
       "│ 2025-06-02 05:38:51.060889 ┆ 85.078967  ┆ 61.039545  ┆ 77.584026  │\n",
       "│ 2025-06-02 05:39:51.060889 ┆ 95.162016  ┆ 85.045421  ┆ 77.733875  │\n",
       "│ 2025-06-02 05:40:51.060889 ┆ 133.736817 ┆ 135.796074 ┆ 144.693857 │\n",
       "│ 2025-06-02 05:41:51.060889 ┆ 146.639287 ┆ 107.764043 ┆ 54.056126  │\n",
       "│ 2025-06-02 05:42:51.060889 ┆ 85.948108  ┆ 94.356478  ┆ 61.02478   │\n",
       "│ …                          ┆ …          ┆ …          ┆ …          │\n",
       "│ 2025-06-02 06:04:51.060889 ┆ 126.153961 ┆ 131.497625 ┆ 146.398706 │\n",
       "│ 2025-06-02 06:05:51.060889 ┆ 99.113835  ┆ 100.625613 ┆ 130.867177 │\n",
       "│ 2025-06-02 06:06:51.060889 ┆ 99.950805  ┆ 139.428835 ┆ 112.571748 │\n",
       "│ 2025-06-02 06:07:51.060889 ┆ 63.000857  ┆ 63.075118  ┆ 63.008219  │\n",
       "│ 2025-06-02 06:08:51.060889 ┆ 53.501977  ┆ 93.848235  ┆ 98.865952  │\n",
       "└────────────────────────────┴────────────┴────────────┴────────────┘"
      ]
     },
     "execution_count": 14,
     "metadata": {},
     "output_type": "execute_result"
    }
   ],
   "source": [
    "from datetime import timedelta\n",
    "\n",
    "\n",
    "end_dt = datetime.now()\n",
    "start_dt = end_dt - timedelta(days=5) # Generate for the last 30 minutes\n",
    "time_interval = \"1m\" # 5-minute interval\n",
    "\n",
    "ohlcv_data_dictionary = generate_fake_ohlcv_wide_dict(\n",
    "    start_date=start_dt,\n",
    "    end_date=end_dt,\n",
    "    interval=time_interval,\n",
    "    vt_symbols=vt_symbols\n",
    ")\n",
    "ohlcv_data_dictionary['close']"
   ]
  }
 ],
 "metadata": {
  "kernelspec": {
   "display_name": "venv",
   "language": "python",
   "name": "python3"
  },
  "language_info": {
   "codemirror_mode": {
    "name": "ipython",
    "version": 3
   },
   "file_extension": ".py",
   "mimetype": "text/x-python",
   "name": "python",
   "nbconvert_exporter": "python",
   "pygments_lexer": "ipython3",
   "version": "3.12.9"
  }
 },
 "nbformat": 4,
 "nbformat_minor": 5
}
