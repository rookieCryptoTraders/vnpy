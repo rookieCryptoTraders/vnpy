{
 "cells": [
  {
   "cell_type": "code",
   "execution_count": 1,
   "id": "908e66dd",
   "metadata": {},
   "outputs": [
    {
     "name": "stderr",
     "output_type": "stream",
     "text": [
      "\u001b[32m2025-05-31 05:54:36.760\u001b[0m | \u001b[1mINFO    \u001b[0m | \u001b[36mvnpy.factor.backtesting.backtesting\u001b[0m:\u001b[36m_write_log\u001b[0m:\u001b[36m445\u001b[0m - \u001b[1m[FactorMakerBacktestOrchestrator] Successfully imported factor module: 'vnpy.factor.factors'\u001b[0m\n",
      "\u001b[32m2025-05-31 05:54:36.761\u001b[0m | \u001b[1mINFO    \u001b[0m | \u001b[36mvnpy.factor.backtesting.backtesting\u001b[0m:\u001b[36m_write_log\u001b[0m:\u001b[36m445\u001b[0m - \u001b[1m[FactorMakerBacktestOrchestrator] FactorMakerBacktestOrchestrator initialized.\u001b[0m\n"
     ]
    },
    {
     "name": "stdout",
     "output_type": "stream",
     "text": [
      "[vnpy.trader.setting] Updated SETTINGS from vt_setting.json\n"
     ]
    }
   ],
   "source": [
    "%matplotlib inline\n",
    "from vnpy.factor.backtesting.backtesting import BacktestEngine\n",
    "from vnpy.factor.setting import get_backtest_data_cache_path, get_backtest_report_path\n",
    "\n",
    "\n",
    "backtest_engine = BacktestEngine(\n",
    "    factor_module_name=\"vnpy.factor.factors\",\n",
    "    output_data_dir_for_analyser_reports=get_backtest_report_path(),\n",
    "    output_data_dir_for_calculator_cache=get_backtest_data_cache_path()\n",
    ")"
   ]
  },
  {
   "cell_type": "code",
   "execution_count": 2,
   "id": "71c3bd16",
   "metadata": {},
   "outputs": [
    {
     "data": {
      "text/plain": [
       "PosixPath('/Users/chenzhao/Documents/crypto_vnpy/.vnpy/factor/cache/backtest_factor_data_cache')"
      ]
     },
     "execution_count": 2,
     "metadata": {},
     "output_type": "execute_result"
    }
   ],
   "source": [
    "backtest_engine.output_data_dir_for_calculator_cache"
   ]
  },
  {
   "cell_type": "code",
   "execution_count": 3,
   "id": "048570ae",
   "metadata": {},
   "outputs": [],
   "source": [
    "from vnpy.factor.setting import FACTOR_DEFINITIONS_FILEPATH\n",
    "from vnpy.factor.utils.factor_utils import load_factor_setting\n",
    "\n",
    "\n",
    "factor_definations = load_factor_setting(FACTOR_DEFINITIONS_FILEPATH)"
   ]
  },
  {
   "cell_type": "code",
   "execution_count": 15,
   "id": "5d9ff54e",
   "metadata": {},
   "outputs": [
    {
     "data": {
      "text/plain": [
       "{'class_name': 'MACDFactor',\n",
       " 'factor_name': 'MACDFactor',\n",
       " 'factor_key': 'factor_1m_macdfactor@fast_period_12-signal_period_9-slow_period_26',\n",
       " 'freq': '1m',\n",
       " 'params': {'fast_period': 12, 'slow_period': 26, 'signal_period': 9},\n",
       " 'dependencies_factor': [{'class_name': 'EMAFactor',\n",
       "   'factor_name': 'fast_ema',\n",
       "   'factor_key': 'factor_1m_emafactor@period_12',\n",
       "   'freq': '1m',\n",
       "   'params': {'period': 12},\n",
       "   'dependencies_factor': [],\n",
       "   'dependencies_freq': [],\n",
       "   'dependencies_symbol': [],\n",
       "   'dependencies_exchange': [],\n",
       "   'last_run_datetime': '2025-05-29 16:26:46',\n",
       "   'factor_mode': 'LIVE'},\n",
       "  {'class_name': 'EMAFactor',\n",
       "   'factor_name': 'slow_ema',\n",
       "   'factor_key': 'factor_1m_emafactor@period_26',\n",
       "   'freq': '1m',\n",
       "   'params': {'period': 26},\n",
       "   'dependencies_factor': [],\n",
       "   'dependencies_freq': [],\n",
       "   'dependencies_symbol': [],\n",
       "   'dependencies_exchange': [],\n",
       "   'last_run_datetime': '2025-05-29 16:26:46',\n",
       "   'factor_mode': 'LIVE'}],\n",
       " 'dependencies_freq': [],\n",
       " 'dependencies_symbol': [],\n",
       " 'dependencies_exchange': [],\n",
       " 'last_run_datetime': '2025-05-29 16:26:46',\n",
       " 'factor_mode': 'LIVE'}"
      ]
     },
     "execution_count": 15,
     "metadata": {},
     "output_type": "execute_result"
    }
   ],
   "source": [
    "macd_factor_defination = factor_definations[2]\n",
    "macd_factor_defination"
   ]
  },
  {
   "cell_type": "code",
   "execution_count": 10,
   "id": "49436d64",
   "metadata": {},
   "outputs": [],
   "source": [
    "import importlib\n",
    "\n",
    "from vnpy.factor.utils.factor_utils import init_factors\n",
    "\n",
    "\n",
    "factor_module = importlib.import_module(\"vnpy.factor.factors\")\n",
    "macd_factor = init_factors(\n",
    "    module_for_primary_classes=factor_module,\n",
    "    settings_data=[macd_factor_defination],\n",
    "    dependencies_module_lookup_for_instances=factor_module\n",
    ")[0]"
   ]
  },
  {
   "cell_type": "code",
   "execution_count": 12,
   "id": "0cdaeeb7",
   "metadata": {},
   "outputs": [
    {
     "data": {
      "text/plain": [
       "{'fast_period': 12,\n",
       " 'slow_period': 26,\n",
       " 'signal_period': 9,\n",
       " 'fast_ema.period': 12,\n",
       " 'slow_ema.period': 26}"
      ]
     },
     "execution_count": 12,
     "metadata": {},
     "output_type": "execute_result"
    }
   ],
   "source": [
    "macd_factor.get_nested_params_for_optimizer()"
   ]
  },
  {
   "cell_type": "code",
   "execution_count": 14,
   "id": "add6df2e",
   "metadata": {},
   "outputs": [
    {
     "name": "stderr",
     "output_type": "stream",
     "text": [
      "\u001b[32m2025-05-31 17:33:51.658\u001b[0m | \u001b[1mINFO    \u001b[0m | \u001b[36mvnpy.factor.backtesting.backtesting\u001b[0m:\u001b[36m_write_log\u001b[0m:\u001b[36m445\u001b[0m - \u001b[1m[FactorMakerBacktestOrchestrator] Initializing and flattening factor based on definition. Symbols: ['btcusdt.BINANCE']\u001b[0m\n",
      "\u001b[32m2025-05-31 17:33:51.659\u001b[0m | \u001b[1mINFO    \u001b[0m | \u001b[36mvnpy.factor.backtesting.backtesting\u001b[0m:\u001b[36m_write_log\u001b[0m:\u001b[36m445\u001b[0m - \u001b[1m[FactorMakerBacktestOrchestrator] Target factor instance created: factor_1m_macdfactor@fast_period_12-signal_period_9-slow_period_26-vt_symbols_['btcusdt.BINANCE']\u001b[0m\n",
      "\u001b[32m2025-05-31 17:33:51.659\u001b[0m | \u001b[34m\u001b[1mDEBUG   \u001b[0m | \u001b[36mvnpy.factor.backtesting.backtesting\u001b[0m:\u001b[36m_write_log\u001b[0m:\u001b[36m445\u001b[0m - \u001b[34m\u001b[1m[FactorMakerBacktestOrchestrator] Factor tree flattened. Total factors in graph: 3\u001b[0m\n"
     ]
    },
    {
     "data": {
      "text/plain": [
       "(<vnpy.factor.factors.my_factor_lib.MACDFactor at 0x14a3fdcd0>,\n",
       " {'factor_1m_emafactor@period_12': <vnpy.factor.factors.my_factor_lib.EMAFactor at 0x149a9b560>,\n",
       "  'factor_1m_emafactor@period_26': <vnpy.factor.factors.my_factor_lib.EMAFactor at 0x14a3ffa10>,\n",
       "  \"factor_1m_macdfactor@fast_period_12-signal_period_9-slow_period_26-vt_symbols_['btcusdt.BINANCE']\": <vnpy.factor.factors.my_factor_lib.MACDFactor at 0x14a3fdcd0>})"
      ]
     },
     "execution_count": 14,
     "metadata": {},
     "output_type": "execute_result"
    }
   ],
   "source": [
    "backtest_engine._init_and_flatten_factor(macd_factor, ['btcusdt.BINANCE'])"
   ]
  }
 ],
 "metadata": {
  "kernelspec": {
   "display_name": "venv",
   "language": "python",
   "name": "python3"
  },
  "language_info": {
   "codemirror_mode": {
    "name": "ipython",
    "version": 3
   },
   "file_extension": ".py",
   "mimetype": "text/x-python",
   "name": "python",
   "nbconvert_exporter": "python",
   "pygments_lexer": "ipython3",
   "version": "3.12.9"
  }
 },
 "nbformat": 4,
 "nbformat_minor": 5
}
