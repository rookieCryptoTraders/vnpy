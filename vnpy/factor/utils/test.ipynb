{
 "cells": [
  {
   "cell_type": "code",
   "execution_count": 1,
   "id": "3c75c8af",
   "metadata": {},
   "outputs": [
    {
     "name": "stdout",
     "output_type": "stream",
     "text": [
      "[vnpy.trader.setting] Updated SETTINGS from vt_setting.json\n"
     ]
    }
   ],
   "source": [
    "import importlib\n",
    "from vnpy.factor.utils.factor_utils import init_factors, load_factor_setting\n",
    "\n",
    "\n",
    "factor_setting = load_factor_setting(\"/Users/chenzhao/Documents/crypto_vnpy/vnpy/vnpy/factor/factor_maker_setting.json\")\n",
    "factor_module = importlib.import_module(\"vnpy.factor.factors\")\n",
    "factors = init_factors(\n",
    "    module_for_primary_classes=factor_module,\n",
    "    settings_data=factor_setting,\n",
    "    dependencies_module_lookup_for_instances=factor_module\n",
    ")"
   ]
  },
  {
   "cell_type": "code",
   "execution_count": 2,
   "id": "a511eccf",
   "metadata": {},
   "outputs": [],
   "source": [
    "f3 = factors[2]"
   ]
  },
  {
   "cell_type": "code",
   "execution_count": 3,
   "id": "acdf19ee",
   "metadata": {},
   "outputs": [
    {
     "data": {
      "text/plain": [
       "{'fast_period': 12,\n",
       " 'slow_period': 26,\n",
       " 'signal_period': 9,\n",
       " 'fast_ema.period': 12,\n",
       " 'slow_ema.period': 26}"
      ]
     },
     "execution_count": 3,
     "metadata": {},
     "output_type": "execute_result"
    }
   ],
   "source": [
    "optimization_setting = f3.get_nested_params_for_optimizer()\n",
    "optimization_setting"
   ]
  },
  {
   "cell_type": "code",
   "execution_count": 4,
   "id": "f5ab2a18",
   "metadata": {},
   "outputs": [
    {
     "data": {
      "text/plain": [
       "{'class_name': 'MACDFactor',\n",
       " 'factor_name': 'MACDFactor',\n",
       " 'factor_key': 'factor_1m_macdfactor@fast_period_12-signal_period_9-slow_period_26',\n",
       " 'freq': '1m',\n",
       " 'params': {'fast_period': 8, 'slow_period': 26, 'signal_period': 6},\n",
       " 'dependencies_factor': [{'class_name': 'EMAFactor',\n",
       "   'factor_name': 'fast_ema',\n",
       "   'factor_key': 'factor_1m_emafactor@period_12',\n",
       "   'freq': '1m',\n",
       "   'params': {'period': 8},\n",
       "   'dependencies_factor': [],\n",
       "   'dependencies_freq': [],\n",
       "   'dependencies_symbol': [],\n",
       "   'dependencies_exchange': [],\n",
       "   'last_run_datetime': '2025-05-31 02:43:43',\n",
       "   'factor_mode': 'LIVE'},\n",
       "  {'class_name': 'EMAFactor',\n",
       "   'factor_name': 'slow_ema',\n",
       "   'factor_key': 'factor_1m_emafactor@period_26',\n",
       "   'freq': '1m',\n",
       "   'params': {'period': 26},\n",
       "   'dependencies_factor': [],\n",
       "   'dependencies_freq': [],\n",
       "   'dependencies_symbol': [],\n",
       "   'dependencies_exchange': [],\n",
       "   'last_run_datetime': '2025-05-31 02:43:43',\n",
       "   'factor_mode': 'LIVE'}],\n",
       " 'dependencies_freq': [],\n",
       " 'dependencies_symbol': [],\n",
       " 'dependencies_exchange': [],\n",
       " 'last_run_datetime': '2025-05-31 02:43:43',\n",
       " 'factor_mode': 'LIVE'}"
      ]
     },
     "execution_count": 4,
     "metadata": {},
     "output_type": "execute_result"
    }
   ],
   "source": [
    "from vnpy.factor.utils.factor_utils import apply_params_to_definition_dict_nickname_paths\n",
    "\n",
    "\n",
    "new_setting = apply_params_to_definition_dict_nickname_paths(\n",
    "        definition_dict=f3.to_setting(),\n",
    "        params_with_paths={\n",
    "            \"fast_period\": 8,\n",
    "            'signal_period': 6,\n",
    "            \"fast_ema.period\": 8,\n",
    "        }\n",
    "    )\n",
    "\n",
    "new_setting"
   ]
  },
  {
   "cell_type": "code",
   "execution_count": 6,
   "id": "7ef20f95",
   "metadata": {},
   "outputs": [
    {
     "data": {
      "text/plain": [
       "{'fast_period': 8,\n",
       " 'slow_period': 26,\n",
       " 'signal_period': 6,\n",
       " 'fast_ema.period': 8,\n",
       " 'slow_ema.period': 26}"
      ]
     },
     "execution_count": 6,
     "metadata": {},
     "output_type": "execute_result"
    }
   ],
   "source": [
    "f3.set_nested_params_for_optimizer(\n",
    "    nested_params_dict={\n",
    "        \"fast_period\": 8,\n",
    "        'signal_period': 6,\n",
    "        \"fast_ema.period\": 8,\n",
    "    }\n",
    ")\n",
    "\n",
    "f3.get_nested_params_for_optimizer()"
   ]
  }
 ],
 "metadata": {
  "kernelspec": {
   "display_name": "venv",
   "language": "python",
   "name": "python3"
  },
  "language_info": {
   "codemirror_mode": {
    "name": "ipython",
    "version": 3
   },
   "file_extension": ".py",
   "mimetype": "text/x-python",
   "name": "python",
   "nbconvert_exporter": "python",
   "pygments_lexer": "ipython3",
   "version": "3.12.9"
  }
 },
 "nbformat": 4,
 "nbformat_minor": 5
}
